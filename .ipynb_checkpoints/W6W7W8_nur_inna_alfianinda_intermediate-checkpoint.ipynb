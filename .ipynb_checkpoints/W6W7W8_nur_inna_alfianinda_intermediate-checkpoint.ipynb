{
 "cells": [
  {
   "cell_type": "markdown",
   "id": "4a02bf0a",
   "metadata": {
    "id": "4a02bf0a"
   },
   "source": [
    "# Gustavo E-Commerce Data Analysis\n",
    "### Author: Nur Inna Alfianinda\n",
    "\n",
    "### Description: \n",
    "Explore the Gustavo e-commerce data using descriptive statistics and bivariate analysis\n",
    "### Dataset: \n",
    "1. https://drive.google.com/file/d/1R9g5f310AA1Zmrnmd8P8jclnyToN54Bx/view?usp=sharing\n",
    "2. https://drive.google.com/file/d/1S_BzA_P4v26oIvErtB4Ta64fQB53Hw1_/view?usp=sharing\n",
    "3. https://drive.google.com/file/d/1JBzMoiRBy6YsxHoS3OhysRcZZyRh5DQD/view?usp=sharing\n",
    "\n",
    "### Outline:\n",
    "1. Data Extraction\n",
    "2. Data Preparation\n",
    "3. Exploratory Data Analysis\n",
    "4. User Segmentation Using Cluster Analysis"
   ]
  },
  {
   "cell_type": "markdown",
   "id": "fbd11274",
   "metadata": {
    "id": "fbd11274"
   },
   "source": [
    "### Objective:\n",
    "Analyse of Gustavo e-commerce data to increase marketing conversion rate"
   ]
  },
  {
   "cell_type": "markdown",
   "id": "68f3167d",
   "metadata": {
    "id": "68f3167d"
   },
   "source": [
    "## Import Libraries"
   ]
  },
  {
   "cell_type": "code",
   "execution_count": null,
   "id": "09d3af1e",
   "metadata": {
    "id": "09d3af1e"
   },
   "outputs": [],
   "source": [
    "import pandas as pd\n",
    "import numpy as np\n",
    "from datetime import datetime\n",
    "import matplotlib.pyplot as plt\n",
    "import seaborn as sns\n",
    "\n",
    "import warnings\n",
    "warnings.filterwarnings(\"ignore\")"
   ]
  },
  {
   "cell_type": "markdown",
   "id": "e136fcac",
   "metadata": {
    "id": "e136fcac"
   },
   "source": [
    "## Data Extraction"
   ]
  },
  {
   "cell_type": "markdown",
   "id": "517c627c",
   "metadata": {
    "id": "517c627c"
   },
   "source": [
    "***Orders Dataset***"
   ]
  },
  {
   "cell_type": "code",
   "execution_count": null,
   "id": "2e68c054",
   "metadata": {
    "colab": {
     "base_uri": "https://localhost:8080/",
     "height": 270
    },
    "id": "2e68c054",
    "outputId": "df815a88-e635-4589-c5ed-046363589042",
    "scrolled": false
   },
   "outputs": [
    {
     "data": {
      "text/html": [
       "\n",
       "  <div id=\"df-ebd0885b-da9c-43db-9a90-6984e4028565\">\n",
       "    <div class=\"colab-df-container\">\n",
       "      <div>\n",
       "<style scoped>\n",
       "    .dataframe tbody tr th:only-of-type {\n",
       "        vertical-align: middle;\n",
       "    }\n",
       "\n",
       "    .dataframe tbody tr th {\n",
       "        vertical-align: top;\n",
       "    }\n",
       "\n",
       "    .dataframe thead th {\n",
       "        text-align: right;\n",
       "    }\n",
       "</style>\n",
       "<table border=\"1\" class=\"dataframe\">\n",
       "  <thead>\n",
       "    <tr style=\"text-align: right;\">\n",
       "      <th></th>\n",
       "      <th>order_id</th>\n",
       "      <th>customer_id</th>\n",
       "      <th>order_status</th>\n",
       "      <th>order_purchase_timestamp</th>\n",
       "      <th>order_approved_at</th>\n",
       "      <th>order_delivered_carrier_date</th>\n",
       "      <th>order_delivered_customer_date</th>\n",
       "      <th>order_estimated_delivery_date</th>\n",
       "    </tr>\n",
       "  </thead>\n",
       "  <tbody>\n",
       "    <tr>\n",
       "      <th>0</th>\n",
       "      <td>e481f51cbdc54678b7cc49136f2d6af7</td>\n",
       "      <td>9ef432eb6251297304e76186b10a928d</td>\n",
       "      <td>delivered</td>\n",
       "      <td>2017-10-02 10:56:33</td>\n",
       "      <td>2017-10-02 11:07:15</td>\n",
       "      <td>2017-10-04 19:55:00</td>\n",
       "      <td>2017-10-10 21:25:13</td>\n",
       "      <td>2017-10-18 00:00:00</td>\n",
       "    </tr>\n",
       "    <tr>\n",
       "      <th>1</th>\n",
       "      <td>53cdb2fc8bc7dce0b6741e2150273451</td>\n",
       "      <td>b0830fb4747a6c6d20dea0b8c802d7ef</td>\n",
       "      <td>delivered</td>\n",
       "      <td>2018-07-24 20:41:37</td>\n",
       "      <td>2018-07-26 03:24:27</td>\n",
       "      <td>2018-07-26 14:31:00</td>\n",
       "      <td>2018-08-07 15:27:45</td>\n",
       "      <td>2018-08-13 00:00:00</td>\n",
       "    </tr>\n",
       "    <tr>\n",
       "      <th>2</th>\n",
       "      <td>47770eb9100c2d0c44946d9cf07ec65d</td>\n",
       "      <td>41ce2a54c0b03bf3443c3d931a367089</td>\n",
       "      <td>delivered</td>\n",
       "      <td>2018-08-08 08:38:49</td>\n",
       "      <td>2018-08-08 08:55:23</td>\n",
       "      <td>2018-08-08 13:50:00</td>\n",
       "      <td>2018-08-17 18:06:29</td>\n",
       "      <td>2018-09-04 00:00:00</td>\n",
       "    </tr>\n",
       "    <tr>\n",
       "      <th>3</th>\n",
       "      <td>949d5b44dbf5de918fe9c16f97b45f8a</td>\n",
       "      <td>f88197465ea7920adcdbec7375364d82</td>\n",
       "      <td>delivered</td>\n",
       "      <td>2017-11-18 19:28:06</td>\n",
       "      <td>2017-11-18 19:45:59</td>\n",
       "      <td>2017-11-22 13:39:59</td>\n",
       "      <td>2017-12-02 00:28:42</td>\n",
       "      <td>2017-12-15 00:00:00</td>\n",
       "    </tr>\n",
       "    <tr>\n",
       "      <th>4</th>\n",
       "      <td>ad21c59c0840e6cb83a9ceb5573f8159</td>\n",
       "      <td>8ab97904e6daea8866dbdbc4fb7aad2c</td>\n",
       "      <td>delivered</td>\n",
       "      <td>2018-02-13 21:18:39</td>\n",
       "      <td>2018-02-13 22:20:29</td>\n",
       "      <td>2018-02-14 19:46:34</td>\n",
       "      <td>2018-02-16 18:17:02</td>\n",
       "      <td>2018-02-26 00:00:00</td>\n",
       "    </tr>\n",
       "  </tbody>\n",
       "</table>\n",
       "</div>\n",
       "      <button class=\"colab-df-convert\" onclick=\"convertToInteractive('df-ebd0885b-da9c-43db-9a90-6984e4028565')\"\n",
       "              title=\"Convert this dataframe to an interactive table.\"\n",
       "              style=\"display:none;\">\n",
       "        \n",
       "  <svg xmlns=\"http://www.w3.org/2000/svg\" height=\"24px\"viewBox=\"0 0 24 24\"\n",
       "       width=\"24px\">\n",
       "    <path d=\"M0 0h24v24H0V0z\" fill=\"none\"/>\n",
       "    <path d=\"M18.56 5.44l.94 2.06.94-2.06 2.06-.94-2.06-.94-.94-2.06-.94 2.06-2.06.94zm-11 1L8.5 8.5l.94-2.06 2.06-.94-2.06-.94L8.5 2.5l-.94 2.06-2.06.94zm10 10l.94 2.06.94-2.06 2.06-.94-2.06-.94-.94-2.06-.94 2.06-2.06.94z\"/><path d=\"M17.41 7.96l-1.37-1.37c-.4-.4-.92-.59-1.43-.59-.52 0-1.04.2-1.43.59L10.3 9.45l-7.72 7.72c-.78.78-.78 2.05 0 2.83L4 21.41c.39.39.9.59 1.41.59.51 0 1.02-.2 1.41-.59l7.78-7.78 2.81-2.81c.8-.78.8-2.07 0-2.86zM5.41 20L4 18.59l7.72-7.72 1.47 1.35L5.41 20z\"/>\n",
       "  </svg>\n",
       "      </button>\n",
       "      \n",
       "  <style>\n",
       "    .colab-df-container {\n",
       "      display:flex;\n",
       "      flex-wrap:wrap;\n",
       "      gap: 12px;\n",
       "    }\n",
       "\n",
       "    .colab-df-convert {\n",
       "      background-color: #E8F0FE;\n",
       "      border: none;\n",
       "      border-radius: 50%;\n",
       "      cursor: pointer;\n",
       "      display: none;\n",
       "      fill: #1967D2;\n",
       "      height: 32px;\n",
       "      padding: 0 0 0 0;\n",
       "      width: 32px;\n",
       "    }\n",
       "\n",
       "    .colab-df-convert:hover {\n",
       "      background-color: #E2EBFA;\n",
       "      box-shadow: 0px 1px 2px rgba(60, 64, 67, 0.3), 0px 1px 3px 1px rgba(60, 64, 67, 0.15);\n",
       "      fill: #174EA6;\n",
       "    }\n",
       "\n",
       "    [theme=dark] .colab-df-convert {\n",
       "      background-color: #3B4455;\n",
       "      fill: #D2E3FC;\n",
       "    }\n",
       "\n",
       "    [theme=dark] .colab-df-convert:hover {\n",
       "      background-color: #434B5C;\n",
       "      box-shadow: 0px 1px 3px 1px rgba(0, 0, 0, 0.15);\n",
       "      filter: drop-shadow(0px 1px 2px rgba(0, 0, 0, 0.3));\n",
       "      fill: #FFFFFF;\n",
       "    }\n",
       "  </style>\n",
       "\n",
       "      <script>\n",
       "        const buttonEl =\n",
       "          document.querySelector('#df-ebd0885b-da9c-43db-9a90-6984e4028565 button.colab-df-convert');\n",
       "        buttonEl.style.display =\n",
       "          google.colab.kernel.accessAllowed ? 'block' : 'none';\n",
       "\n",
       "        async function convertToInteractive(key) {\n",
       "          const element = document.querySelector('#df-ebd0885b-da9c-43db-9a90-6984e4028565');\n",
       "          const dataTable =\n",
       "            await google.colab.kernel.invokeFunction('convertToInteractive',\n",
       "                                                     [key], {});\n",
       "          if (!dataTable) return;\n",
       "\n",
       "          const docLinkHtml = 'Like what you see? Visit the ' +\n",
       "            '<a target=\"_blank\" href=https://colab.research.google.com/notebooks/data_table.ipynb>data table notebook</a>'\n",
       "            + ' to learn more about interactive tables.';\n",
       "          element.innerHTML = '';\n",
       "          dataTable['output_type'] = 'display_data';\n",
       "          await google.colab.output.renderOutput(dataTable, element);\n",
       "          const docLink = document.createElement('div');\n",
       "          docLink.innerHTML = docLinkHtml;\n",
       "          element.appendChild(docLink);\n",
       "        }\n",
       "      </script>\n",
       "    </div>\n",
       "  </div>\n",
       "  "
      ],
      "text/plain": [
       "                           order_id                       customer_id  \\\n",
       "0  e481f51cbdc54678b7cc49136f2d6af7  9ef432eb6251297304e76186b10a928d   \n",
       "1  53cdb2fc8bc7dce0b6741e2150273451  b0830fb4747a6c6d20dea0b8c802d7ef   \n",
       "2  47770eb9100c2d0c44946d9cf07ec65d  41ce2a54c0b03bf3443c3d931a367089   \n",
       "3  949d5b44dbf5de918fe9c16f97b45f8a  f88197465ea7920adcdbec7375364d82   \n",
       "4  ad21c59c0840e6cb83a9ceb5573f8159  8ab97904e6daea8866dbdbc4fb7aad2c   \n",
       "\n",
       "  order_status order_purchase_timestamp    order_approved_at  \\\n",
       "0    delivered      2017-10-02 10:56:33  2017-10-02 11:07:15   \n",
       "1    delivered      2018-07-24 20:41:37  2018-07-26 03:24:27   \n",
       "2    delivered      2018-08-08 08:38:49  2018-08-08 08:55:23   \n",
       "3    delivered      2017-11-18 19:28:06  2017-11-18 19:45:59   \n",
       "4    delivered      2018-02-13 21:18:39  2018-02-13 22:20:29   \n",
       "\n",
       "  order_delivered_carrier_date order_delivered_customer_date  \\\n",
       "0          2017-10-04 19:55:00           2017-10-10 21:25:13   \n",
       "1          2018-07-26 14:31:00           2018-08-07 15:27:45   \n",
       "2          2018-08-08 13:50:00           2018-08-17 18:06:29   \n",
       "3          2017-11-22 13:39:59           2017-12-02 00:28:42   \n",
       "4          2018-02-14 19:46:34           2018-02-16 18:17:02   \n",
       "\n",
       "  order_estimated_delivery_date  \n",
       "0           2017-10-18 00:00:00  \n",
       "1           2018-08-13 00:00:00  \n",
       "2           2018-09-04 00:00:00  \n",
       "3           2017-12-15 00:00:00  \n",
       "4           2018-02-26 00:00:00  "
      ]
     },
     "execution_count": 2,
     "metadata": {},
     "output_type": "execute_result"
    }
   ],
   "source": [
    "orders_url='https://drive.google.com/file/d/1bwhNyA4GnRu7bnHDvcNT-wlAp6ArA754/view?usp=sharing'\n",
    "orders_url='https://drive.google.com/uc?id=' + orders_url.split('/')[-2]\n",
    "df_orders = pd.read_csv(orders_url)\n",
    "df_orders.head()"
   ]
  },
  {
   "cell_type": "markdown",
   "id": "ec0b42d4",
   "metadata": {
    "id": "ec0b42d4"
   },
   "source": [
    "***Customers Dataset***"
   ]
  },
  {
   "cell_type": "code",
   "execution_count": null,
   "id": "6935c109",
   "metadata": {
    "colab": {
     "base_uri": "https://localhost:8080/",
     "height": 206
    },
    "id": "6935c109",
    "outputId": "4e930694-ca91-4686-f24b-7c8208fb7882",
    "scrolled": false
   },
   "outputs": [
    {
     "data": {
      "text/html": [
       "\n",
       "  <div id=\"df-01e04715-723b-418a-9ef1-0161bbe3309e\">\n",
       "    <div class=\"colab-df-container\">\n",
       "      <div>\n",
       "<style scoped>\n",
       "    .dataframe tbody tr th:only-of-type {\n",
       "        vertical-align: middle;\n",
       "    }\n",
       "\n",
       "    .dataframe tbody tr th {\n",
       "        vertical-align: top;\n",
       "    }\n",
       "\n",
       "    .dataframe thead th {\n",
       "        text-align: right;\n",
       "    }\n",
       "</style>\n",
       "<table border=\"1\" class=\"dataframe\">\n",
       "  <thead>\n",
       "    <tr style=\"text-align: right;\">\n",
       "      <th></th>\n",
       "      <th>customer_id</th>\n",
       "      <th>customer_unique_id</th>\n",
       "      <th>customer_zip_code_prefix</th>\n",
       "      <th>customer_city</th>\n",
       "      <th>customer_state</th>\n",
       "    </tr>\n",
       "  </thead>\n",
       "  <tbody>\n",
       "    <tr>\n",
       "      <th>0</th>\n",
       "      <td>06b8999e2fba1a1fbc88172c00ba8bc7</td>\n",
       "      <td>861eff4711a542e4b93843c6dd7febb0</td>\n",
       "      <td>14409</td>\n",
       "      <td>franca</td>\n",
       "      <td>SP</td>\n",
       "    </tr>\n",
       "    <tr>\n",
       "      <th>1</th>\n",
       "      <td>18955e83d337fd6b2def6b18a428ac77</td>\n",
       "      <td>290c77bc529b7ac935b93aa66c333dc3</td>\n",
       "      <td>9790</td>\n",
       "      <td>sao bernardo do campo</td>\n",
       "      <td>SP</td>\n",
       "    </tr>\n",
       "    <tr>\n",
       "      <th>2</th>\n",
       "      <td>4e7b3e00288586ebd08712fdd0374a03</td>\n",
       "      <td>060e732b5b29e8181a18229c7b0b2b5e</td>\n",
       "      <td>1151</td>\n",
       "      <td>sao paulo</td>\n",
       "      <td>SP</td>\n",
       "    </tr>\n",
       "    <tr>\n",
       "      <th>3</th>\n",
       "      <td>b2b6027bc5c5109e529d4dc6358b12c3</td>\n",
       "      <td>259dac757896d24d7702b9acbbff3f3c</td>\n",
       "      <td>8775</td>\n",
       "      <td>mogi das cruzes</td>\n",
       "      <td>SP</td>\n",
       "    </tr>\n",
       "    <tr>\n",
       "      <th>4</th>\n",
       "      <td>4f2d8ab171c80ec8364f7c12e35b23ad</td>\n",
       "      <td>345ecd01c38d18a9036ed96c73b8d066</td>\n",
       "      <td>13056</td>\n",
       "      <td>campinas</td>\n",
       "      <td>SP</td>\n",
       "    </tr>\n",
       "  </tbody>\n",
       "</table>\n",
       "</div>\n",
       "      <button class=\"colab-df-convert\" onclick=\"convertToInteractive('df-01e04715-723b-418a-9ef1-0161bbe3309e')\"\n",
       "              title=\"Convert this dataframe to an interactive table.\"\n",
       "              style=\"display:none;\">\n",
       "        \n",
       "  <svg xmlns=\"http://www.w3.org/2000/svg\" height=\"24px\"viewBox=\"0 0 24 24\"\n",
       "       width=\"24px\">\n",
       "    <path d=\"M0 0h24v24H0V0z\" fill=\"none\"/>\n",
       "    <path d=\"M18.56 5.44l.94 2.06.94-2.06 2.06-.94-2.06-.94-.94-2.06-.94 2.06-2.06.94zm-11 1L8.5 8.5l.94-2.06 2.06-.94-2.06-.94L8.5 2.5l-.94 2.06-2.06.94zm10 10l.94 2.06.94-2.06 2.06-.94-2.06-.94-.94-2.06-.94 2.06-2.06.94z\"/><path d=\"M17.41 7.96l-1.37-1.37c-.4-.4-.92-.59-1.43-.59-.52 0-1.04.2-1.43.59L10.3 9.45l-7.72 7.72c-.78.78-.78 2.05 0 2.83L4 21.41c.39.39.9.59 1.41.59.51 0 1.02-.2 1.41-.59l7.78-7.78 2.81-2.81c.8-.78.8-2.07 0-2.86zM5.41 20L4 18.59l7.72-7.72 1.47 1.35L5.41 20z\"/>\n",
       "  </svg>\n",
       "      </button>\n",
       "      \n",
       "  <style>\n",
       "    .colab-df-container {\n",
       "      display:flex;\n",
       "      flex-wrap:wrap;\n",
       "      gap: 12px;\n",
       "    }\n",
       "\n",
       "    .colab-df-convert {\n",
       "      background-color: #E8F0FE;\n",
       "      border: none;\n",
       "      border-radius: 50%;\n",
       "      cursor: pointer;\n",
       "      display: none;\n",
       "      fill: #1967D2;\n",
       "      height: 32px;\n",
       "      padding: 0 0 0 0;\n",
       "      width: 32px;\n",
       "    }\n",
       "\n",
       "    .colab-df-convert:hover {\n",
       "      background-color: #E2EBFA;\n",
       "      box-shadow: 0px 1px 2px rgba(60, 64, 67, 0.3), 0px 1px 3px 1px rgba(60, 64, 67, 0.15);\n",
       "      fill: #174EA6;\n",
       "    }\n",
       "\n",
       "    [theme=dark] .colab-df-convert {\n",
       "      background-color: #3B4455;\n",
       "      fill: #D2E3FC;\n",
       "    }\n",
       "\n",
       "    [theme=dark] .colab-df-convert:hover {\n",
       "      background-color: #434B5C;\n",
       "      box-shadow: 0px 1px 3px 1px rgba(0, 0, 0, 0.15);\n",
       "      filter: drop-shadow(0px 1px 2px rgba(0, 0, 0, 0.3));\n",
       "      fill: #FFFFFF;\n",
       "    }\n",
       "  </style>\n",
       "\n",
       "      <script>\n",
       "        const buttonEl =\n",
       "          document.querySelector('#df-01e04715-723b-418a-9ef1-0161bbe3309e button.colab-df-convert');\n",
       "        buttonEl.style.display =\n",
       "          google.colab.kernel.accessAllowed ? 'block' : 'none';\n",
       "\n",
       "        async function convertToInteractive(key) {\n",
       "          const element = document.querySelector('#df-01e04715-723b-418a-9ef1-0161bbe3309e');\n",
       "          const dataTable =\n",
       "            await google.colab.kernel.invokeFunction('convertToInteractive',\n",
       "                                                     [key], {});\n",
       "          if (!dataTable) return;\n",
       "\n",
       "          const docLinkHtml = 'Like what you see? Visit the ' +\n",
       "            '<a target=\"_blank\" href=https://colab.research.google.com/notebooks/data_table.ipynb>data table notebook</a>'\n",
       "            + ' to learn more about interactive tables.';\n",
       "          element.innerHTML = '';\n",
       "          dataTable['output_type'] = 'display_data';\n",
       "          await google.colab.output.renderOutput(dataTable, element);\n",
       "          const docLink = document.createElement('div');\n",
       "          docLink.innerHTML = docLinkHtml;\n",
       "          element.appendChild(docLink);\n",
       "        }\n",
       "      </script>\n",
       "    </div>\n",
       "  </div>\n",
       "  "
      ],
      "text/plain": [
       "                        customer_id                customer_unique_id  \\\n",
       "0  06b8999e2fba1a1fbc88172c00ba8bc7  861eff4711a542e4b93843c6dd7febb0   \n",
       "1  18955e83d337fd6b2def6b18a428ac77  290c77bc529b7ac935b93aa66c333dc3   \n",
       "2  4e7b3e00288586ebd08712fdd0374a03  060e732b5b29e8181a18229c7b0b2b5e   \n",
       "3  b2b6027bc5c5109e529d4dc6358b12c3  259dac757896d24d7702b9acbbff3f3c   \n",
       "4  4f2d8ab171c80ec8364f7c12e35b23ad  345ecd01c38d18a9036ed96c73b8d066   \n",
       "\n",
       "   customer_zip_code_prefix          customer_city customer_state  \n",
       "0                     14409                 franca             SP  \n",
       "1                      9790  sao bernardo do campo             SP  \n",
       "2                      1151              sao paulo             SP  \n",
       "3                      8775        mogi das cruzes             SP  \n",
       "4                     13056               campinas             SP  "
      ]
     },
     "execution_count": 3,
     "metadata": {},
     "output_type": "execute_result"
    }
   ],
   "source": [
    "customers_url='https://drive.google.com/file/d/1w_ThnpNgOEE5UHhYh_-iBYmTYZ_OWBjq/view?usp=sharing'\n",
    "customers_url='https://drive.google.com/uc?id=' + customers_url.split('/')[-2]\n",
    "df_customers = pd.read_csv(customers_url)\n",
    "df_customers.head()"
   ]
  },
  {
   "cell_type": "markdown",
   "id": "ba4d8b72",
   "metadata": {
    "id": "ba4d8b72"
   },
   "source": [
    "***Order Payments Dataset***"
   ]
  },
  {
   "cell_type": "code",
   "execution_count": null,
   "id": "925993c4",
   "metadata": {
    "colab": {
     "base_uri": "https://localhost:8080/",
     "height": 206
    },
    "id": "925993c4",
    "outputId": "8d5e7b60-e2e9-4641-b24d-a1337bc4f4af",
    "scrolled": false
   },
   "outputs": [
    {
     "data": {
      "text/html": [
       "\n",
       "  <div id=\"df-48a1a3e9-a643-4aed-935f-01fc464239ca\">\n",
       "    <div class=\"colab-df-container\">\n",
       "      <div>\n",
       "<style scoped>\n",
       "    .dataframe tbody tr th:only-of-type {\n",
       "        vertical-align: middle;\n",
       "    }\n",
       "\n",
       "    .dataframe tbody tr th {\n",
       "        vertical-align: top;\n",
       "    }\n",
       "\n",
       "    .dataframe thead th {\n",
       "        text-align: right;\n",
       "    }\n",
       "</style>\n",
       "<table border=\"1\" class=\"dataframe\">\n",
       "  <thead>\n",
       "    <tr style=\"text-align: right;\">\n",
       "      <th></th>\n",
       "      <th>order_id</th>\n",
       "      <th>payment_sequential</th>\n",
       "      <th>payment_type</th>\n",
       "      <th>payment_installments</th>\n",
       "      <th>payment_value</th>\n",
       "    </tr>\n",
       "  </thead>\n",
       "  <tbody>\n",
       "    <tr>\n",
       "      <th>0</th>\n",
       "      <td>b81ef226f3fe1789b1e8b2acac839d17</td>\n",
       "      <td>1</td>\n",
       "      <td>credit_card</td>\n",
       "      <td>8</td>\n",
       "      <td>99.33</td>\n",
       "    </tr>\n",
       "    <tr>\n",
       "      <th>1</th>\n",
       "      <td>a9810da82917af2d9aefd1278f1dcfa0</td>\n",
       "      <td>1</td>\n",
       "      <td>credit_card</td>\n",
       "      <td>1</td>\n",
       "      <td>24.39</td>\n",
       "    </tr>\n",
       "    <tr>\n",
       "      <th>2</th>\n",
       "      <td>25e8ea4e93396b6fa0d3dd708e76c1bd</td>\n",
       "      <td>1</td>\n",
       "      <td>credit_card</td>\n",
       "      <td>1</td>\n",
       "      <td>65.71</td>\n",
       "    </tr>\n",
       "    <tr>\n",
       "      <th>3</th>\n",
       "      <td>ba78997921bbcdc1373bb41e913ab953</td>\n",
       "      <td>1</td>\n",
       "      <td>credit_card</td>\n",
       "      <td>8</td>\n",
       "      <td>107.78</td>\n",
       "    </tr>\n",
       "    <tr>\n",
       "      <th>4</th>\n",
       "      <td>42fdf880ba16b47b59251dd489d4441a</td>\n",
       "      <td>1</td>\n",
       "      <td>credit_card</td>\n",
       "      <td>2</td>\n",
       "      <td>128.45</td>\n",
       "    </tr>\n",
       "  </tbody>\n",
       "</table>\n",
       "</div>\n",
       "      <button class=\"colab-df-convert\" onclick=\"convertToInteractive('df-48a1a3e9-a643-4aed-935f-01fc464239ca')\"\n",
       "              title=\"Convert this dataframe to an interactive table.\"\n",
       "              style=\"display:none;\">\n",
       "        \n",
       "  <svg xmlns=\"http://www.w3.org/2000/svg\" height=\"24px\"viewBox=\"0 0 24 24\"\n",
       "       width=\"24px\">\n",
       "    <path d=\"M0 0h24v24H0V0z\" fill=\"none\"/>\n",
       "    <path d=\"M18.56 5.44l.94 2.06.94-2.06 2.06-.94-2.06-.94-.94-2.06-.94 2.06-2.06.94zm-11 1L8.5 8.5l.94-2.06 2.06-.94-2.06-.94L8.5 2.5l-.94 2.06-2.06.94zm10 10l.94 2.06.94-2.06 2.06-.94-2.06-.94-.94-2.06-.94 2.06-2.06.94z\"/><path d=\"M17.41 7.96l-1.37-1.37c-.4-.4-.92-.59-1.43-.59-.52 0-1.04.2-1.43.59L10.3 9.45l-7.72 7.72c-.78.78-.78 2.05 0 2.83L4 21.41c.39.39.9.59 1.41.59.51 0 1.02-.2 1.41-.59l7.78-7.78 2.81-2.81c.8-.78.8-2.07 0-2.86zM5.41 20L4 18.59l7.72-7.72 1.47 1.35L5.41 20z\"/>\n",
       "  </svg>\n",
       "      </button>\n",
       "      \n",
       "  <style>\n",
       "    .colab-df-container {\n",
       "      display:flex;\n",
       "      flex-wrap:wrap;\n",
       "      gap: 12px;\n",
       "    }\n",
       "\n",
       "    .colab-df-convert {\n",
       "      background-color: #E8F0FE;\n",
       "      border: none;\n",
       "      border-radius: 50%;\n",
       "      cursor: pointer;\n",
       "      display: none;\n",
       "      fill: #1967D2;\n",
       "      height: 32px;\n",
       "      padding: 0 0 0 0;\n",
       "      width: 32px;\n",
       "    }\n",
       "\n",
       "    .colab-df-convert:hover {\n",
       "      background-color: #E2EBFA;\n",
       "      box-shadow: 0px 1px 2px rgba(60, 64, 67, 0.3), 0px 1px 3px 1px rgba(60, 64, 67, 0.15);\n",
       "      fill: #174EA6;\n",
       "    }\n",
       "\n",
       "    [theme=dark] .colab-df-convert {\n",
       "      background-color: #3B4455;\n",
       "      fill: #D2E3FC;\n",
       "    }\n",
       "\n",
       "    [theme=dark] .colab-df-convert:hover {\n",
       "      background-color: #434B5C;\n",
       "      box-shadow: 0px 1px 3px 1px rgba(0, 0, 0, 0.15);\n",
       "      filter: drop-shadow(0px 1px 2px rgba(0, 0, 0, 0.3));\n",
       "      fill: #FFFFFF;\n",
       "    }\n",
       "  </style>\n",
       "\n",
       "      <script>\n",
       "        const buttonEl =\n",
       "          document.querySelector('#df-48a1a3e9-a643-4aed-935f-01fc464239ca button.colab-df-convert');\n",
       "        buttonEl.style.display =\n",
       "          google.colab.kernel.accessAllowed ? 'block' : 'none';\n",
       "\n",
       "        async function convertToInteractive(key) {\n",
       "          const element = document.querySelector('#df-48a1a3e9-a643-4aed-935f-01fc464239ca');\n",
       "          const dataTable =\n",
       "            await google.colab.kernel.invokeFunction('convertToInteractive',\n",
       "                                                     [key], {});\n",
       "          if (!dataTable) return;\n",
       "\n",
       "          const docLinkHtml = 'Like what you see? Visit the ' +\n",
       "            '<a target=\"_blank\" href=https://colab.research.google.com/notebooks/data_table.ipynb>data table notebook</a>'\n",
       "            + ' to learn more about interactive tables.';\n",
       "          element.innerHTML = '';\n",
       "          dataTable['output_type'] = 'display_data';\n",
       "          await google.colab.output.renderOutput(dataTable, element);\n",
       "          const docLink = document.createElement('div');\n",
       "          docLink.innerHTML = docLinkHtml;\n",
       "          element.appendChild(docLink);\n",
       "        }\n",
       "      </script>\n",
       "    </div>\n",
       "  </div>\n",
       "  "
      ],
      "text/plain": [
       "                           order_id  payment_sequential payment_type  \\\n",
       "0  b81ef226f3fe1789b1e8b2acac839d17                   1  credit_card   \n",
       "1  a9810da82917af2d9aefd1278f1dcfa0                   1  credit_card   \n",
       "2  25e8ea4e93396b6fa0d3dd708e76c1bd                   1  credit_card   \n",
       "3  ba78997921bbcdc1373bb41e913ab953                   1  credit_card   \n",
       "4  42fdf880ba16b47b59251dd489d4441a                   1  credit_card   \n",
       "\n",
       "   payment_installments  payment_value  \n",
       "0                     8          99.33  \n",
       "1                     1          24.39  \n",
       "2                     1          65.71  \n",
       "3                     8         107.78  \n",
       "4                     2         128.45  "
      ]
     },
     "execution_count": 4,
     "metadata": {},
     "output_type": "execute_result"
    }
   ],
   "source": [
    "order_payments_url='https://drive.google.com/file/d/1shJ7J49E9-HYneQpTP4cAlp2HHTHpRdz/view?usp=sharing'\n",
    "order_payments_url='https://drive.google.com/uc?id=' + order_payments_url.split('/')[-2]\n",
    "df_order_payments = pd.read_csv(order_payments_url)\n",
    "df_order_payments.head()"
   ]
  },
  {
   "cell_type": "code",
   "execution_count": null,
   "id": "1ed8c8a1",
   "metadata": {
    "id": "1ed8c8a1"
   },
   "outputs": [],
   "source": [
    "orders = df_orders.copy()\n",
    "customers = df_customers.copy()\n",
    "order_payments = df_order_payments.copy()"
   ]
  },
  {
   "cell_type": "markdown",
   "id": "53279f73",
   "metadata": {
    "id": "53279f73"
   },
   "source": [
    "## Data Preparation"
   ]
  },
  {
   "cell_type": "markdown",
   "id": "39b78bd1",
   "metadata": {
    "id": "39b78bd1"
   },
   "source": [
    "### Combine the dataset into single dataset"
   ]
  },
  {
   "cell_type": "code",
   "execution_count": null,
   "id": "c12fa973",
   "metadata": {
    "id": "c12fa973"
   },
   "outputs": [],
   "source": [
    "df = orders.merge(customers,on='customer_id', how='left').merge(order_payments,on='order_id', how='left')"
   ]
  },
  {
   "cell_type": "code",
   "execution_count": null,
   "id": "9067a1c1",
   "metadata": {
    "colab": {
     "base_uri": "https://localhost:8080/",
     "height": 270
    },
    "id": "9067a1c1",
    "outputId": "340102fe-a62d-4b24-be0a-cf7fefddd765"
   },
   "outputs": [
    {
     "data": {
      "text/html": [
       "\n",
       "  <div id=\"df-1f99a23c-123c-4323-b3c5-6688c7b072ad\">\n",
       "    <div class=\"colab-df-container\">\n",
       "      <div>\n",
       "<style scoped>\n",
       "    .dataframe tbody tr th:only-of-type {\n",
       "        vertical-align: middle;\n",
       "    }\n",
       "\n",
       "    .dataframe tbody tr th {\n",
       "        vertical-align: top;\n",
       "    }\n",
       "\n",
       "    .dataframe thead th {\n",
       "        text-align: right;\n",
       "    }\n",
       "</style>\n",
       "<table border=\"1\" class=\"dataframe\">\n",
       "  <thead>\n",
       "    <tr style=\"text-align: right;\">\n",
       "      <th></th>\n",
       "      <th>order_id</th>\n",
       "      <th>customer_id</th>\n",
       "      <th>order_status</th>\n",
       "      <th>order_purchase_timestamp</th>\n",
       "      <th>order_approved_at</th>\n",
       "      <th>order_delivered_carrier_date</th>\n",
       "      <th>order_delivered_customer_date</th>\n",
       "      <th>order_estimated_delivery_date</th>\n",
       "      <th>customer_unique_id</th>\n",
       "      <th>customer_zip_code_prefix</th>\n",
       "      <th>customer_city</th>\n",
       "      <th>customer_state</th>\n",
       "      <th>payment_sequential</th>\n",
       "      <th>payment_type</th>\n",
       "      <th>payment_installments</th>\n",
       "      <th>payment_value</th>\n",
       "    </tr>\n",
       "  </thead>\n",
       "  <tbody>\n",
       "    <tr>\n",
       "      <th>0</th>\n",
       "      <td>e481f51cbdc54678b7cc49136f2d6af7</td>\n",
       "      <td>9ef432eb6251297304e76186b10a928d</td>\n",
       "      <td>delivered</td>\n",
       "      <td>2017-10-02 10:56:33</td>\n",
       "      <td>2017-10-02 11:07:15</td>\n",
       "      <td>2017-10-04 19:55:00</td>\n",
       "      <td>2017-10-10 21:25:13</td>\n",
       "      <td>2017-10-18 00:00:00</td>\n",
       "      <td>7c396fd4830fd04220f754e42b4e5bff</td>\n",
       "      <td>3149</td>\n",
       "      <td>sao paulo</td>\n",
       "      <td>SP</td>\n",
       "      <td>1.0</td>\n",
       "      <td>credit_card</td>\n",
       "      <td>1.0</td>\n",
       "      <td>18.12</td>\n",
       "    </tr>\n",
       "    <tr>\n",
       "      <th>1</th>\n",
       "      <td>e481f51cbdc54678b7cc49136f2d6af7</td>\n",
       "      <td>9ef432eb6251297304e76186b10a928d</td>\n",
       "      <td>delivered</td>\n",
       "      <td>2017-10-02 10:56:33</td>\n",
       "      <td>2017-10-02 11:07:15</td>\n",
       "      <td>2017-10-04 19:55:00</td>\n",
       "      <td>2017-10-10 21:25:13</td>\n",
       "      <td>2017-10-18 00:00:00</td>\n",
       "      <td>7c396fd4830fd04220f754e42b4e5bff</td>\n",
       "      <td>3149</td>\n",
       "      <td>sao paulo</td>\n",
       "      <td>SP</td>\n",
       "      <td>3.0</td>\n",
       "      <td>voucher</td>\n",
       "      <td>1.0</td>\n",
       "      <td>2.00</td>\n",
       "    </tr>\n",
       "    <tr>\n",
       "      <th>2</th>\n",
       "      <td>e481f51cbdc54678b7cc49136f2d6af7</td>\n",
       "      <td>9ef432eb6251297304e76186b10a928d</td>\n",
       "      <td>delivered</td>\n",
       "      <td>2017-10-02 10:56:33</td>\n",
       "      <td>2017-10-02 11:07:15</td>\n",
       "      <td>2017-10-04 19:55:00</td>\n",
       "      <td>2017-10-10 21:25:13</td>\n",
       "      <td>2017-10-18 00:00:00</td>\n",
       "      <td>7c396fd4830fd04220f754e42b4e5bff</td>\n",
       "      <td>3149</td>\n",
       "      <td>sao paulo</td>\n",
       "      <td>SP</td>\n",
       "      <td>2.0</td>\n",
       "      <td>voucher</td>\n",
       "      <td>1.0</td>\n",
       "      <td>18.59</td>\n",
       "    </tr>\n",
       "    <tr>\n",
       "      <th>3</th>\n",
       "      <td>53cdb2fc8bc7dce0b6741e2150273451</td>\n",
       "      <td>b0830fb4747a6c6d20dea0b8c802d7ef</td>\n",
       "      <td>delivered</td>\n",
       "      <td>2018-07-24 20:41:37</td>\n",
       "      <td>2018-07-26 03:24:27</td>\n",
       "      <td>2018-07-26 14:31:00</td>\n",
       "      <td>2018-08-07 15:27:45</td>\n",
       "      <td>2018-08-13 00:00:00</td>\n",
       "      <td>af07308b275d755c9edb36a90c618231</td>\n",
       "      <td>47813</td>\n",
       "      <td>barreiras</td>\n",
       "      <td>BA</td>\n",
       "      <td>1.0</td>\n",
       "      <td>boleto</td>\n",
       "      <td>1.0</td>\n",
       "      <td>141.46</td>\n",
       "    </tr>\n",
       "    <tr>\n",
       "      <th>4</th>\n",
       "      <td>47770eb9100c2d0c44946d9cf07ec65d</td>\n",
       "      <td>41ce2a54c0b03bf3443c3d931a367089</td>\n",
       "      <td>delivered</td>\n",
       "      <td>2018-08-08 08:38:49</td>\n",
       "      <td>2018-08-08 08:55:23</td>\n",
       "      <td>2018-08-08 13:50:00</td>\n",
       "      <td>2018-08-17 18:06:29</td>\n",
       "      <td>2018-09-04 00:00:00</td>\n",
       "      <td>3a653a41f6f9fc3d2a113cf8398680e8</td>\n",
       "      <td>75265</td>\n",
       "      <td>vianopolis</td>\n",
       "      <td>GO</td>\n",
       "      <td>1.0</td>\n",
       "      <td>credit_card</td>\n",
       "      <td>3.0</td>\n",
       "      <td>179.12</td>\n",
       "    </tr>\n",
       "  </tbody>\n",
       "</table>\n",
       "</div>\n",
       "      <button class=\"colab-df-convert\" onclick=\"convertToInteractive('df-1f99a23c-123c-4323-b3c5-6688c7b072ad')\"\n",
       "              title=\"Convert this dataframe to an interactive table.\"\n",
       "              style=\"display:none;\">\n",
       "        \n",
       "  <svg xmlns=\"http://www.w3.org/2000/svg\" height=\"24px\"viewBox=\"0 0 24 24\"\n",
       "       width=\"24px\">\n",
       "    <path d=\"M0 0h24v24H0V0z\" fill=\"none\"/>\n",
       "    <path d=\"M18.56 5.44l.94 2.06.94-2.06 2.06-.94-2.06-.94-.94-2.06-.94 2.06-2.06.94zm-11 1L8.5 8.5l.94-2.06 2.06-.94-2.06-.94L8.5 2.5l-.94 2.06-2.06.94zm10 10l.94 2.06.94-2.06 2.06-.94-2.06-.94-.94-2.06-.94 2.06-2.06.94z\"/><path d=\"M17.41 7.96l-1.37-1.37c-.4-.4-.92-.59-1.43-.59-.52 0-1.04.2-1.43.59L10.3 9.45l-7.72 7.72c-.78.78-.78 2.05 0 2.83L4 21.41c.39.39.9.59 1.41.59.51 0 1.02-.2 1.41-.59l7.78-7.78 2.81-2.81c.8-.78.8-2.07 0-2.86zM5.41 20L4 18.59l7.72-7.72 1.47 1.35L5.41 20z\"/>\n",
       "  </svg>\n",
       "      </button>\n",
       "      \n",
       "  <style>\n",
       "    .colab-df-container {\n",
       "      display:flex;\n",
       "      flex-wrap:wrap;\n",
       "      gap: 12px;\n",
       "    }\n",
       "\n",
       "    .colab-df-convert {\n",
       "      background-color: #E8F0FE;\n",
       "      border: none;\n",
       "      border-radius: 50%;\n",
       "      cursor: pointer;\n",
       "      display: none;\n",
       "      fill: #1967D2;\n",
       "      height: 32px;\n",
       "      padding: 0 0 0 0;\n",
       "      width: 32px;\n",
       "    }\n",
       "\n",
       "    .colab-df-convert:hover {\n",
       "      background-color: #E2EBFA;\n",
       "      box-shadow: 0px 1px 2px rgba(60, 64, 67, 0.3), 0px 1px 3px 1px rgba(60, 64, 67, 0.15);\n",
       "      fill: #174EA6;\n",
       "    }\n",
       "\n",
       "    [theme=dark] .colab-df-convert {\n",
       "      background-color: #3B4455;\n",
       "      fill: #D2E3FC;\n",
       "    }\n",
       "\n",
       "    [theme=dark] .colab-df-convert:hover {\n",
       "      background-color: #434B5C;\n",
       "      box-shadow: 0px 1px 3px 1px rgba(0, 0, 0, 0.15);\n",
       "      filter: drop-shadow(0px 1px 2px rgba(0, 0, 0, 0.3));\n",
       "      fill: #FFFFFF;\n",
       "    }\n",
       "  </style>\n",
       "\n",
       "      <script>\n",
       "        const buttonEl =\n",
       "          document.querySelector('#df-1f99a23c-123c-4323-b3c5-6688c7b072ad button.colab-df-convert');\n",
       "        buttonEl.style.display =\n",
       "          google.colab.kernel.accessAllowed ? 'block' : 'none';\n",
       "\n",
       "        async function convertToInteractive(key) {\n",
       "          const element = document.querySelector('#df-1f99a23c-123c-4323-b3c5-6688c7b072ad');\n",
       "          const dataTable =\n",
       "            await google.colab.kernel.invokeFunction('convertToInteractive',\n",
       "                                                     [key], {});\n",
       "          if (!dataTable) return;\n",
       "\n",
       "          const docLinkHtml = 'Like what you see? Visit the ' +\n",
       "            '<a target=\"_blank\" href=https://colab.research.google.com/notebooks/data_table.ipynb>data table notebook</a>'\n",
       "            + ' to learn more about interactive tables.';\n",
       "          element.innerHTML = '';\n",
       "          dataTable['output_type'] = 'display_data';\n",
       "          await google.colab.output.renderOutput(dataTable, element);\n",
       "          const docLink = document.createElement('div');\n",
       "          docLink.innerHTML = docLinkHtml;\n",
       "          element.appendChild(docLink);\n",
       "        }\n",
       "      </script>\n",
       "    </div>\n",
       "  </div>\n",
       "  "
      ],
      "text/plain": [
       "                           order_id                       customer_id  \\\n",
       "0  e481f51cbdc54678b7cc49136f2d6af7  9ef432eb6251297304e76186b10a928d   \n",
       "1  e481f51cbdc54678b7cc49136f2d6af7  9ef432eb6251297304e76186b10a928d   \n",
       "2  e481f51cbdc54678b7cc49136f2d6af7  9ef432eb6251297304e76186b10a928d   \n",
       "3  53cdb2fc8bc7dce0b6741e2150273451  b0830fb4747a6c6d20dea0b8c802d7ef   \n",
       "4  47770eb9100c2d0c44946d9cf07ec65d  41ce2a54c0b03bf3443c3d931a367089   \n",
       "\n",
       "  order_status order_purchase_timestamp    order_approved_at  \\\n",
       "0    delivered      2017-10-02 10:56:33  2017-10-02 11:07:15   \n",
       "1    delivered      2017-10-02 10:56:33  2017-10-02 11:07:15   \n",
       "2    delivered      2017-10-02 10:56:33  2017-10-02 11:07:15   \n",
       "3    delivered      2018-07-24 20:41:37  2018-07-26 03:24:27   \n",
       "4    delivered      2018-08-08 08:38:49  2018-08-08 08:55:23   \n",
       "\n",
       "  order_delivered_carrier_date order_delivered_customer_date  \\\n",
       "0          2017-10-04 19:55:00           2017-10-10 21:25:13   \n",
       "1          2017-10-04 19:55:00           2017-10-10 21:25:13   \n",
       "2          2017-10-04 19:55:00           2017-10-10 21:25:13   \n",
       "3          2018-07-26 14:31:00           2018-08-07 15:27:45   \n",
       "4          2018-08-08 13:50:00           2018-08-17 18:06:29   \n",
       "\n",
       "  order_estimated_delivery_date                customer_unique_id  \\\n",
       "0           2017-10-18 00:00:00  7c396fd4830fd04220f754e42b4e5bff   \n",
       "1           2017-10-18 00:00:00  7c396fd4830fd04220f754e42b4e5bff   \n",
       "2           2017-10-18 00:00:00  7c396fd4830fd04220f754e42b4e5bff   \n",
       "3           2018-08-13 00:00:00  af07308b275d755c9edb36a90c618231   \n",
       "4           2018-09-04 00:00:00  3a653a41f6f9fc3d2a113cf8398680e8   \n",
       "\n",
       "   customer_zip_code_prefix customer_city customer_state  payment_sequential  \\\n",
       "0                      3149     sao paulo             SP                 1.0   \n",
       "1                      3149     sao paulo             SP                 3.0   \n",
       "2                      3149     sao paulo             SP                 2.0   \n",
       "3                     47813     barreiras             BA                 1.0   \n",
       "4                     75265    vianopolis             GO                 1.0   \n",
       "\n",
       "  payment_type  payment_installments  payment_value  \n",
       "0  credit_card                   1.0          18.12  \n",
       "1      voucher                   1.0           2.00  \n",
       "2      voucher                   1.0          18.59  \n",
       "3       boleto                   1.0         141.46  \n",
       "4  credit_card                   3.0         179.12  "
      ]
     },
     "execution_count": 7,
     "metadata": {},
     "output_type": "execute_result"
    }
   ],
   "source": [
    "df.head()"
   ]
  },
  {
   "cell_type": "markdown",
   "id": "9cba52c2",
   "metadata": {
    "id": "9cba52c2"
   },
   "source": [
    "### Removing irrelavant values"
   ]
  },
  {
   "cell_type": "code",
   "execution_count": null,
   "id": "e0272ec7",
   "metadata": {
    "colab": {
     "base_uri": "https://localhost:8080/"
    },
    "id": "e0272ec7",
    "outputId": "d4cf6633-69f9-4036-dc58-e7fe25d7cbc2"
   },
   "outputs": [
    {
     "name": "stdout",
     "output_type": "stream",
     "text": [
      "<class 'pandas.core.frame.DataFrame'>\n",
      "Int64Index: 103887 entries, 0 to 103886\n",
      "Data columns (total 16 columns):\n",
      " #   Column                         Non-Null Count   Dtype  \n",
      "---  ------                         --------------   -----  \n",
      " 0   order_id                       103887 non-null  object \n",
      " 1   customer_id                    103887 non-null  object \n",
      " 2   order_status                   103887 non-null  object \n",
      " 3   order_purchase_timestamp       103887 non-null  object \n",
      " 4   order_approved_at              103712 non-null  object \n",
      " 5   order_delivered_carrier_date   101999 non-null  object \n",
      " 6   order_delivered_customer_date  100755 non-null  object \n",
      " 7   order_estimated_delivery_date  103887 non-null  object \n",
      " 8   customer_unique_id             103887 non-null  object \n",
      " 9   customer_zip_code_prefix       103887 non-null  int64  \n",
      " 10  customer_city                  103887 non-null  object \n",
      " 11  customer_state                 103887 non-null  object \n",
      " 12  payment_sequential             103886 non-null  float64\n",
      " 13  payment_type                   103886 non-null  object \n",
      " 14  payment_installments           103886 non-null  float64\n",
      " 15  payment_value                  103886 non-null  float64\n",
      "dtypes: float64(3), int64(1), object(12)\n",
      "memory usage: 13.5+ MB\n"
     ]
    }
   ],
   "source": [
    "df.info()"
   ]
  },
  {
   "cell_type": "code",
   "execution_count": null,
   "id": "d53fee04",
   "metadata": {
    "id": "d53fee04"
   },
   "outputs": [],
   "source": [
    "df = df.drop(['customer_id','order_purchase_timestamp','order_delivered_carrier_date','order_delivered_customer_date','customer_unique_id','customer_zip_code_prefix','customer_city'],axis=1)"
   ]
  },
  {
   "cell_type": "markdown",
   "id": "f949234e",
   "metadata": {
    "id": "f949234e"
   },
   "source": [
    "*The columns to be removed are:*\n",
    "* customer_id: each unique order_id has a different customer_id\n",
    "* order_purchase_timestamp: would berepresented by order_approved_at and order_estimated_delivery_date\n",
    "* order_delivered_carrier_date: would be represented by order_approved_at and order_estimated_delivery_date\n",
    "* order_delivered_customer_date: would be represented by order_approved_at and order_estimated_delivery_date\n",
    "* customer_unique_id: would not be analysed, many unique values, would be represented by customer_state\n",
    "* customer_zip_code_prefix: would not be analysed, many unique values, would be represented by customer_state\n",
    "\n",
    "*These columns were deleted because they would not affect the analysis*"
   ]
  },
  {
   "cell_type": "markdown",
   "id": "e4a1f975",
   "metadata": {
    "id": "e4a1f975"
   },
   "source": [
    "*the columns to be used are:*"
   ]
  },
  {
   "cell_type": "code",
   "execution_count": null,
   "id": "75e66ea0",
   "metadata": {
    "colab": {
     "base_uri": "https://localhost:8080/"
    },
    "id": "75e66ea0",
    "outputId": "e83fe144-f23b-44d3-aa9f-ae67cdb39733"
   },
   "outputs": [
    {
     "data": {
      "text/plain": [
       "['order_id',\n",
       " 'order_status',\n",
       " 'order_approved_at',\n",
       " 'order_estimated_delivery_date',\n",
       " 'customer_state',\n",
       " 'payment_sequential',\n",
       " 'payment_type',\n",
       " 'payment_installments',\n",
       " 'payment_value']"
      ]
     },
     "execution_count": 10,
     "metadata": {},
     "output_type": "execute_result"
    }
   ],
   "source": [
    "df.columns.to_list()"
   ]
  },
  {
   "cell_type": "markdown",
   "id": "a3d86231",
   "metadata": {
    "id": "a3d86231"
   },
   "source": [
    "### Handling missing values"
   ]
  },
  {
   "cell_type": "markdown",
   "id": "d77dea99",
   "metadata": {
    "id": "d77dea99"
   },
   "source": [
    "***check number of rows and columns***"
   ]
  },
  {
   "cell_type": "code",
   "execution_count": null,
   "id": "35136f45",
   "metadata": {
    "colab": {
     "base_uri": "https://localhost:8080/"
    },
    "id": "35136f45",
    "outputId": "6ad68081-6280-4fde-f127-8b30c8aacb30",
    "scrolled": true
   },
   "outputs": [
    {
     "name": "stdout",
     "output_type": "stream",
     "text": [
      "Number of rows: 103887\n",
      "Number of columns: 9\n"
     ]
    }
   ],
   "source": [
    "m = df.shape[0]\n",
    "n = df.shape[1]\n",
    "\n",
    "print(\"Number of rows: \" + str(m))\n",
    "print(\"Number of columns: \" + str(n))"
   ]
  },
  {
   "cell_type": "markdown",
   "id": "23a7e0ef",
   "metadata": {
    "id": "23a7e0ef"
   },
   "source": [
    "***check missing values***"
   ]
  },
  {
   "cell_type": "code",
   "execution_count": null,
   "id": "7253bcb2",
   "metadata": {
    "colab": {
     "base_uri": "https://localhost:8080/"
    },
    "id": "7253bcb2",
    "outputId": "3f90493a-f246-4795-a296-1ce79e3cc237"
   },
   "outputs": [
    {
     "data": {
      "text/plain": [
       "order_id                           0\n",
       "order_status                       0\n",
       "order_approved_at                175\n",
       "order_estimated_delivery_date      0\n",
       "customer_state                     0\n",
       "payment_sequential                 1\n",
       "payment_type                       1\n",
       "payment_installments               1\n",
       "payment_value                      1\n",
       "dtype: int64"
      ]
     },
     "execution_count": 12,
     "metadata": {},
     "output_type": "execute_result"
    }
   ],
   "source": [
    "df.isna().sum()"
   ]
  },
  {
   "cell_type": "markdown",
   "id": "d7934f74",
   "metadata": {
    "id": "d7934f74"
   },
   "source": [
    "***percentage of missing values in each column***"
   ]
  },
  {
   "cell_type": "code",
   "execution_count": null,
   "id": "bd6eb39b",
   "metadata": {
    "colab": {
     "base_uri": "https://localhost:8080/"
    },
    "id": "bd6eb39b",
    "outputId": "136f2c83-2d59-4f0a-c8ab-0427a3baf5bb"
   },
   "outputs": [
    {
     "data": {
      "text/plain": [
       "order_id                         0.000000\n",
       "order_status                     0.000000\n",
       "order_approved_at                0.168452\n",
       "order_estimated_delivery_date    0.000000\n",
       "customer_state                   0.000000\n",
       "payment_sequential               0.000963\n",
       "payment_type                     0.000963\n",
       "payment_installments             0.000963\n",
       "payment_value                    0.000963\n",
       "dtype: float64"
      ]
     },
     "execution_count": 13,
     "metadata": {},
     "output_type": "execute_result"
    }
   ],
   "source": [
    "df.isna().sum() * 100 / len(df)"
   ]
  },
  {
   "cell_type": "markdown",
   "id": "f709adf3",
   "metadata": {
    "id": "f709adf3"
   },
   "source": [
    "***percentage of rows with missing values***"
   ]
  },
  {
   "cell_type": "code",
   "execution_count": null,
   "id": "d665c04a",
   "metadata": {
    "colab": {
     "base_uri": "https://localhost:8080/"
    },
    "id": "d665c04a",
    "outputId": "b867c358-db64-4637-fad9-69f36be6810b"
   },
   "outputs": [
    {
     "data": {
      "text/plain": [
       "0.169414844975791"
      ]
     },
     "execution_count": 14,
     "metadata": {},
     "output_type": "execute_result"
    }
   ],
   "source": [
    "df.isnull().any(axis=1).sum() * 100 /len(df)"
   ]
  },
  {
   "cell_type": "markdown",
   "id": "02b54068",
   "metadata": {
    "id": "02b54068"
   },
   "source": [
    "***drop columns?***"
   ]
  },
  {
   "cell_type": "markdown",
   "id": "fc9af745",
   "metadata": {
    "id": "fc9af745"
   },
   "source": [
    "*Based on the data on the percentage of missing values in the column 'order_approved_at' is around **0.168%**. Meanwhile, the 'payment_sequential', 'payment_type', 'payment_installments', 'payment_value' columns each have a very small percentage of missing values, **0.000963%**. Therefore, **column removal is not needed because the percentage of missing values is very small**.*"
   ]
  },
  {
   "cell_type": "markdown",
   "id": "951b0b93",
   "metadata": {
    "id": "951b0b93"
   },
   "source": [
    "***drop rows***"
   ]
  },
  {
   "cell_type": "markdown",
   "id": "82cb644a",
   "metadata": {
    "id": "82cb644a"
   },
   "source": [
    "*total percentage of rows with missing values is **0.17%**. If we don't know the actual values, a possible option is that we can delete rows of data containing missing values. Replacing missing values (using mean, median, mode, assigning an unique category, predicting using machine learning algorithm, or using the deviation of neighbouring values) is also an option, no data is wasted. However, of course there is disadvantage where the data becomes less accurate*"
   ]
  },
  {
   "cell_type": "markdown",
   "id": "df04dd03",
   "metadata": {
    "id": "df04dd03"
   },
   "source": [
    "*So, for this case, I decide to delete the records containing empty values because the percentage of rows with empty values is low **(0.17%)** compared to the whole dataset, so we still have  enough samples in the data set. Also from the references I found, complete removal of data with missing values results in robust and highly accurate model. Deleting a particular row or a column with no specific information is better, since it does not have a high weightage.*"
   ]
  },
  {
   "cell_type": "code",
   "execution_count": null,
   "id": "307cc2ec",
   "metadata": {
    "id": "307cc2ec"
   },
   "outputs": [],
   "source": [
    "df.dropna(axis=0, inplace=True)"
   ]
  },
  {
   "cell_type": "code",
   "execution_count": null,
   "id": "b976d25a",
   "metadata": {
    "colab": {
     "base_uri": "https://localhost:8080/"
    },
    "id": "b976d25a",
    "outputId": "0124bd0c-0be2-42b6-8f9c-c2d1aef0d28d"
   },
   "outputs": [
    {
     "name": "stdout",
     "output_type": "stream",
     "text": [
      "Number of rows: 103711\n"
     ]
    }
   ],
   "source": [
    "print(\"Number of rows: \" + str(df.shape[0]))"
   ]
  },
  {
   "cell_type": "markdown",
   "id": "420f1ff7",
   "metadata": {
    "id": "420f1ff7"
   },
   "source": [
    "*after deleting rows that have missing values, the number of rows that originally amounted to 103887 becomes 103711 rows*"
   ]
  },
  {
   "cell_type": "markdown",
   "id": "5RJxab9RTd6l",
   "metadata": {
    "id": "5RJxab9RTd6l"
   },
   "source": [
    "***re-check the number of missing values***"
   ]
  },
  {
   "cell_type": "code",
   "execution_count": null,
   "id": "s07Jqu_yTcsu",
   "metadata": {
    "colab": {
     "base_uri": "https://localhost:8080/"
    },
    "id": "s07Jqu_yTcsu",
    "outputId": "ac6b1efc-db4b-4255-fe53-cf48c68180c0"
   },
   "outputs": [
    {
     "data": {
      "text/plain": [
       "order_id                         0\n",
       "order_status                     0\n",
       "order_approved_at                0\n",
       "order_estimated_delivery_date    0\n",
       "customer_state                   0\n",
       "payment_sequential               0\n",
       "payment_type                     0\n",
       "payment_installments             0\n",
       "payment_value                    0\n",
       "dtype: int64"
      ]
     },
     "execution_count": 17,
     "metadata": {},
     "output_type": "execute_result"
    }
   ],
   "source": [
    "df.isna().sum()"
   ]
  },
  {
   "cell_type": "markdown",
   "id": "KKc_MWwLUu6T",
   "metadata": {
    "id": "KKc_MWwLUu6T"
   },
   "source": [
    "*Missing values already been handled, ​​no longer exist in the data.*"
   ]
  },
  {
   "cell_type": "markdown",
   "id": "E0-uL1NUQava",
   "metadata": {
    "id": "E0-uL1NUQava"
   },
   "source": [
    "### Removing duplicate values"
   ]
  },
  {
   "cell_type": "code",
   "execution_count": null,
   "id": "12e32e52",
   "metadata": {
    "colab": {
     "base_uri": "https://localhost:8080/"
    },
    "id": "12e32e52",
    "outputId": "1d7aea8d-a857-46e2-91da-436156786e0f"
   },
   "outputs": [
    {
     "name": "stdout",
     "output_type": "stream",
     "text": [
      "Number of duplicated data: 0\n"
     ]
    }
   ],
   "source": [
    "print(\"Number of duplicated data:\", df.duplicated().sum())"
   ]
  },
  {
   "cell_type": "markdown",
   "id": "QvMnWuGzVgIY",
   "metadata": {
    "id": "QvMnWuGzVgIY"
   },
   "source": [
    "*No duplicate values ​​or rows in data*"
   ]
  },
  {
   "cell_type": "markdown",
   "id": "lp8NAuRYVvit",
   "metadata": {
    "id": "lp8NAuRYVvit"
   },
   "source": [
    "### Handling outliers"
   ]
  },
  {
   "cell_type": "markdown",
   "id": "zjLERjP_WqIt",
   "metadata": {
    "id": "zjLERjP_WqIt"
   },
   "source": [
    "***check data types***"
   ]
  },
  {
   "cell_type": "code",
   "execution_count": null,
   "id": "7cb87c28",
   "metadata": {
    "colab": {
     "base_uri": "https://localhost:8080/"
    },
    "id": "7cb87c28",
    "outputId": "2a7a2b68-cf49-46a3-bccb-e0cb30354163"
   },
   "outputs": [
    {
     "data": {
      "text/plain": [
       "order_id                          object\n",
       "order_status                      object\n",
       "order_approved_at                 object\n",
       "order_estimated_delivery_date     object\n",
       "customer_state                    object\n",
       "payment_sequential               float64\n",
       "payment_type                      object\n",
       "payment_installments             float64\n",
       "payment_value                    float64\n",
       "dtype: object"
      ]
     },
     "execution_count": 19,
     "metadata": {},
     "output_type": "execute_result"
    }
   ],
   "source": [
    "df.dtypes"
   ]
  },
  {
   "cell_type": "markdown",
   "id": "Vr3jrza_6w9F",
   "metadata": {
    "id": "Vr3jrza_6w9F"
   },
   "source": [
    "*From the data above, we will find out the outliers in columns 'payment_sequential','payment_installments','payment_value'*"
   ]
  },
  {
   "cell_type": "markdown",
   "id": "xabI0ecM_hi1",
   "metadata": {
    "id": "xabI0ecM_hi1"
   },
   "source": [
    "***visualisation of outliers***"
   ]
  },
  {
   "cell_type": "code",
   "execution_count": null,
   "id": "y00vbAABASFk",
   "metadata": {
    "id": "y00vbAABASFk"
   },
   "outputs": [],
   "source": [
    "df_check_outliers = df.select_dtypes(include=[np.float])"
   ]
  },
  {
   "cell_type": "code",
   "execution_count": null,
   "id": "49236adf",
   "metadata": {
    "colab": {
     "base_uri": "https://localhost:8080/",
     "height": 225
    },
    "id": "49236adf",
    "outputId": "cac888e3-f800-4d83-a51e-a39f1ba8d13d"
   },
   "outputs": [
    {
     "data": {
      "image/png": "[encoded data removed]",
      "text/plain": [
       "<Figure size 936x216 with 3 Axes>"
      ]
     },
     "metadata": {
      "needs_background": "light"
     },
     "output_type": "display_data"
    }
   ],
   "source": [
    "plt.figure(figsize=(13,3))\n",
    "\n",
    "for i in range(0, len(df_check_outliers.columns)):\n",
    "    ax = plt.subplot(1,len(df_check_outliers.columns),i+1)\n",
    "    sns.boxplot(df_check_outliers[df_check_outliers.columns[i]], color='lightblue')\n",
    "    plt.tight_layout()"
   ]
  },
  {
   "cell_type": "markdown",
   "id": "NeGOt5q_EAiI",
   "metadata": {
    "id": "NeGOt5q_EAiI"
   },
   "source": [
    "***find out the range***"
   ]
  },
  {
   "cell_type": "markdown",
   "id": "8QU_Lg30p5u8",
   "metadata": {
    "id": "8QU_Lg30p5u8"
   },
   "source": [
    "*check counts of unique values*"
   ]
  },
  {
   "cell_type": "code",
   "execution_count": null,
   "id": "jqGzu3j7pmPe",
   "metadata": {
    "colab": {
     "base_uri": "https://localhost:8080/"
    },
    "id": "jqGzu3j7pmPe",
    "outputId": "cee51124-1424-4c45-f0ed-91fa632ca724"
   },
   "outputs": [
    {
     "name": "stdout",
     "output_type": "stream",
     "text": [
      "|    |   payment_sequential_counts |   percentage_counts |\n",
      "|---:|----------------------------:|--------------------:|\n",
      "|  1 |                       99200 |          0.956504   |\n",
      "|  2 |                        3036 |          0.0292737  |\n",
      "|  3 |                         578 |          0.00557318 |\n",
      "|  4 |                         275 |          0.0026516  |\n",
      "|  5 |                         168 |          0.00161989 | \n",
      "\n",
      "\n",
      "|    |   payment_sequential_counts |   percentage_counts |\n",
      "|---:|----------------------------:|--------------------:|\n",
      "| 23 |                           2 |         1.92844e-05 |\n",
      "| 24 |                           2 |         1.92844e-05 |\n",
      "| 27 |                           1 |         9.64218e-06 |\n",
      "| 29 |                           1 |         9.64218e-06 |\n",
      "| 28 |                           1 |         9.64218e-06 | \n",
      "\n",
      "\n",
      "|    |   payment_installments_counts |   percentage_counts |\n",
      "|---:|------------------------------:|--------------------:|\n",
      "|  1 |                         52411 |           0.505356  |\n",
      "|  2 |                         12407 |           0.119631  |\n",
      "|  3 |                         10454 |           0.100799  |\n",
      "|  4 |                          7093 |           0.068392  |\n",
      "| 10 |                          5322 |           0.0513157 | \n",
      "\n",
      "\n",
      "|    |   payment_installments_counts |   percentage_counts |\n",
      "|---:|------------------------------:|--------------------:|\n",
      "| 16 |                             5 |         4.82109e-05 |\n",
      "| 21 |                             3 |         2.89265e-05 |\n",
      "|  0 |                             2 |         1.92844e-05 |\n",
      "| 23 |                             1 |         9.64218e-06 |\n",
      "| 22 |                             1 |         9.64218e-06 | \n",
      "\n",
      "\n",
      "|        |   payment_value_counts |   percentage_counts |\n",
      "|-------:|-----------------------:|--------------------:|\n",
      "|  50    |                    324 |          0.00312407 |\n",
      "|  20    |                    274 |          0.00264196 |\n",
      "| 100    |                    255 |          0.00245876 |\n",
      "|  77.57 |                    250 |          0.00241054 |\n",
      "|  35    |                    165 |          0.00159096 | \n",
      "\n",
      "\n",
      "|        |   payment_value_counts |   percentage_counts |\n",
      "|-------:|-----------------------:|--------------------:|\n",
      "| 957.15 |                      1 |         9.64218e-06 |\n",
      "| 155.35 |                      1 |         9.64218e-06 |\n",
      "| 175.53 |                      1 |         9.64218e-06 |\n",
      "| 575.22 |                      1 |         9.64218e-06 |\n",
      "| 441.16 |                      1 |         9.64218e-06 | \n",
      "\n",
      "\n"
     ]
    }
   ],
   "source": [
    "for i in df.select_dtypes(include=[np.float]):\n",
    "  df_counts = df[i].value_counts()\n",
    "  df_counts_percentage = df_counts / len(df.index)\n",
    "  df_counts_res = pd.concat([df_counts, df_counts_percentage], axis=1)\\\n",
    "    .set_axis([i+'_counts', 'percentage_counts'], axis=1, inplace=False)\n",
    "  print(df_counts_res.head(5).to_markdown(), '\\n\\n')\n",
    "  print(df_counts_res.tail(5).to_markdown(), '\\n\\n')"
   ]
  },
  {
   "cell_type": "markdown",
   "id": "MxceyICarFKq",
   "metadata": {
    "id": "MxceyICarFKq"
   },
   "source": [
    "*find out the range*"
   ]
  },
  {
   "cell_type": "code",
   "execution_count": null,
   "id": "cf5b2c88",
   "metadata": {
    "id": "cf5b2c88"
   },
   "outputs": [],
   "source": [
    "def data_range(df_in, col_name):\n",
    "    q1 = df_in[col_name].quantile(0.25)\n",
    "    q3 = df_in[col_name].quantile(0.75)\n",
    "    iqr = q3-q1 \n",
    "    fence_low = q1-1.5*iqr\n",
    "    fence_high = q3+1.5*iqr\n",
    "    outer_fence_low = q1-3*iqr\n",
    "    outer_fence_high = q3+3*iqr\n",
    "    print('Q1: ', q1)\n",
    "    print('Q3: ', q3)\n",
    "    print('IQR: ', iqr)\n",
    "    print('lower inner fence: ', fence_low)\n",
    "    print('upper inner fence: ', fence_high)\n",
    "    print('lower outer fence: ', outer_fence_low)\n",
    "    print('upper outer fence: ', outer_fence_high)"
   ]
  },
  {
   "cell_type": "code",
   "execution_count": null,
   "id": "863b8e3b",
   "metadata": {
    "colab": {
     "base_uri": "https://localhost:8080/"
    },
    "id": "863b8e3b",
    "outputId": "a94d2e8b-ea8a-420f-8aeb-2a696c5243b6"
   },
   "outputs": [
    {
     "name": "stdout",
     "output_type": "stream",
     "text": [
      "payment_sequential :\n",
      "Q1:  1.0\n",
      "Q3:  1.0\n",
      "IQR:  0.0\n",
      "lower inner fence:  1.0\n",
      "upper inner fence:  1.0\n",
      "lower outer fence:  1.0\n",
      "upper outer fence:  1.0\n",
      "\n",
      "\n",
      "payment_installments :\n",
      "Q1:  1.0\n",
      "Q3:  4.0\n",
      "IQR:  3.0\n",
      "lower inner fence:  -3.5\n",
      "upper inner fence:  8.5\n",
      "lower outer fence:  -8.0\n",
      "upper outer fence:  13.0\n",
      "\n",
      "\n",
      "payment_value :\n",
      "Q1:  56.79\n",
      "Q3:  171.79500000000002\n",
      "IQR:  115.00500000000002\n",
      "lower inner fence:  -115.71750000000006\n",
      "upper inner fence:  344.30250000000007\n",
      "lower outer fence:  -288.2250000000001\n",
      "upper outer fence:  516.8100000000002\n",
      "\n",
      "\n"
     ]
    }
   ],
   "source": [
    "for i in df_check_outliers:\n",
    "  print(i,':')\n",
    "  data_range(df,i)\n",
    "  print('\\n')"
   ]
  },
  {
   "cell_type": "markdown",
   "id": "i0mFwq3xSm6r",
   "metadata": {
    "id": "i0mFwq3xSm6r"
   },
   "source": [
    "*   *payment_sequential*:\n",
    "outliers are indicated by 'payment_sequential' values, more than 1. The IQR is zero because the middle 50% of the values are equal. From the table of counts of unique values, it is known that 'payment_sequential' with value '1' has a 95% of total data. \n",
    "*   *payment_installments*:\n",
    "outliers are indicated by payment value data more than 8.5 (upper inner fence), upper outer fence is 13. For the lower inner fence is -3.5 and lower outer fence is -8. Since all the observations are positive, there are no \"outliers\" on the low side\n",
    "*   *payment_value*:\n",
    "outliers are indicated by payment value data more than 344 (upper inner fence), upper outer fence is 516. For the lower inner fence is -115 and lower outer fence is -288. Since all the observations are positive, there are no \"outliers\" on the low side"
   ]
  },
  {
   "cell_type": "markdown",
   "id": "ythjAWed5WV3",
   "metadata": {
    "id": "ythjAWed5WV3"
   },
   "source": [
    "*I decide not to remove outliers data in 'payment_sequential' and 'payment_installments' because data detected as outliers are still reasonable and not invalid data, invalid means the data is corrupted, or incorrect. The outliers here occur in the data less frequently. Removing outliers here means drop all the non-zero entries, so column would be constant, less variable than it is in reality, and will lose a lot of valuable information, hence useless. Moreover, the infrequent data might happen again and may be very valuable in terms of the unique information they bring to the data.*\n"
   ]
  },
  {
   "cell_type": "markdown",
   "id": "YJ3BEmi9IEKy",
   "metadata": {
    "id": "YJ3BEmi9IEKy"
   },
   "source": [
    "*In the 'payment_value' data where most of the 'payment_value' data range is hundreds of dollars, but there is data with data ranges up to thousands and more than tens of thousands of dollars. According to the calculation and boxplot, there are potential outliers at a value of more than 344. All the potential outliers always require further investigation. A potential outlier is a data point that is significantly different from the other data points. These special data points may be errors or some kind of abnormality or they may be a key to understanding the data.*"
   ]
  },
  {
   "cell_type": "markdown",
   "id": "612cf81a",
   "metadata": {
    "id": "612cf81a"
   },
   "source": [
    "*The the extreme outliers would be removed because I think the 'payment_value' detected as outliers here would increase the variability in data, which decreases statistical power. I will recheck the number of data after the outliers are removed. Handle outliers by removing them will be applied if there is a lot of data remaining. I choose to remove the extreme outliers because a 'payment_value' of less than about 500 dollars is still reasonable.*"
   ]
  },
  {
   "cell_type": "markdown",
   "id": "S6n9-YsTR-In",
   "metadata": {
    "id": "S6n9-YsTR-In"
   },
   "source": [
    "***remove outliers***"
   ]
  },
  {
   "cell_type": "code",
   "execution_count": null,
   "id": "1afe5fee",
   "metadata": {
    "colab": {
     "base_uri": "https://localhost:8080/"
    },
    "id": "1afe5fee",
    "outputId": "8db3ac00-4f5d-47a1-dfa6-47b56cfa5d59"
   },
   "outputs": [
    {
     "name": "stdout",
     "output_type": "stream",
     "text": [
      "number of rows with outliers 103711\n"
     ]
    }
   ],
   "source": [
    "print('number of rows with outliers', df.shape[0])"
   ]
  },
  {
   "cell_type": "code",
   "execution_count": null,
   "id": "QtyGuiR5ZJD5",
   "metadata": {
    "id": "QtyGuiR5ZJD5"
   },
   "outputs": [],
   "source": [
    "q1 = df['payment_value'].quantile(0.25)\n",
    "q3 = df['payment_value'].quantile(0.75)\n",
    "iqr = q3-q1 \n",
    "fence_low = q1-3*iqr\n",
    "fence_high = q3+3*iqr\n",
    "df_clean = df[(df['payment_value'] > fence_low) & (df['payment_value'] < fence_high)]"
   ]
  },
  {
   "cell_type": "code",
   "execution_count": null,
   "id": "47a42466",
   "metadata": {
    "id": "47a42466"
   },
   "outputs": [],
   "source": [
    "# also remove if payment value = 0 \n",
    "df_clean = df_clean[~(df_clean['payment_value'] == 0)]"
   ]
  },
  {
   "cell_type": "code",
   "execution_count": null,
   "id": "VnQ1v1C_Z0uq",
   "metadata": {
    "colab": {
     "base_uri": "https://localhost:8080/"
    },
    "id": "VnQ1v1C_Z0uq",
    "outputId": "36e7de21-5b99-42cc-e604-1c0a59e745bb"
   },
   "outputs": [
    {
     "name": "stdout",
     "output_type": "stream",
     "text": [
      "number of rows without outliers 99670\n"
     ]
    }
   ],
   "source": [
    "print('number of rows without outliers', df_clean.shape[0])"
   ]
  },
  {
   "cell_type": "code",
   "execution_count": null,
   "id": "Q8nbJ3MzcFiZ",
   "metadata": {
    "colab": {
     "base_uri": "https://localhost:8080/"
    },
    "id": "Q8nbJ3MzcFiZ",
    "outputId": "d77a8e9d-248b-4def-d281-7a6635d5b249"
   },
   "outputs": [
    {
     "name": "stdout",
     "output_type": "stream",
     "text": [
      "the percentage of data used after removing outliers is 96.1 %\n"
     ]
    }
   ],
   "source": [
    "print('the percentage of data used after removing outliers is',round(df_clean.shape[0]/df.shape[0]*100,2),'%')"
   ]
  },
  {
   "cell_type": "markdown",
   "id": "6592c749",
   "metadata": {
    "id": "6592c749"
   },
   "source": [
    "*It won't be hurt by dropping the outliers since a 96.1% of data is left after the outliers are removed.*"
   ]
  },
  {
   "cell_type": "markdown",
   "id": "195c8b4d",
   "metadata": {
    "id": "195c8b4d"
   },
   "source": [
    "### Converting data types"
   ]
  },
  {
   "cell_type": "code",
   "execution_count": null,
   "id": "721e584b",
   "metadata": {
    "colab": {
     "base_uri": "https://localhost:8080/"
    },
    "id": "721e584b",
    "outputId": "97c5b9cf-bea1-4577-dcc5-3ce06477b294"
   },
   "outputs": [
    {
     "data": {
      "text/plain": [
       "order_id                          object\n",
       "order_status                      object\n",
       "order_approved_at                 object\n",
       "order_estimated_delivery_date     object\n",
       "customer_state                    object\n",
       "payment_sequential               float64\n",
       "payment_type                      object\n",
       "payment_installments             float64\n",
       "payment_value                    float64\n",
       "dtype: object"
      ]
     },
     "execution_count": 30,
     "metadata": {},
     "output_type": "execute_result"
    }
   ],
   "source": [
    "df_clean.dtypes"
   ]
  },
  {
   "cell_type": "code",
   "execution_count": null,
   "id": "af98c4c9",
   "metadata": {
    "colab": {
     "base_uri": "https://localhost:8080/",
     "height": 207
    },
    "id": "af98c4c9",
    "outputId": "249e2aad-5401-4c51-dfe1-dec0b9ab3663",
    "scrolled": false
   },
   "outputs": [
    {
     "data": {
      "text/html": [
       "\n",
       "  <div id=\"df-ac8f6a9a-c64a-4bab-908e-0364831ea247\">\n",
       "    <div class=\"colab-df-container\">\n",
       "      <div>\n",
       "<style scoped>\n",
       "    .dataframe tbody tr th:only-of-type {\n",
       "        vertical-align: middle;\n",
       "    }\n",
       "\n",
       "    .dataframe tbody tr th {\n",
       "        vertical-align: top;\n",
       "    }\n",
       "\n",
       "    .dataframe thead th {\n",
       "        text-align: right;\n",
       "    }\n",
       "</style>\n",
       "<table border=\"1\" class=\"dataframe\">\n",
       "  <thead>\n",
       "    <tr style=\"text-align: right;\">\n",
       "      <th></th>\n",
       "      <th>order_id</th>\n",
       "      <th>order_status</th>\n",
       "      <th>order_approved_at</th>\n",
       "      <th>order_estimated_delivery_date</th>\n",
       "      <th>customer_state</th>\n",
       "      <th>payment_sequential</th>\n",
       "      <th>payment_type</th>\n",
       "      <th>payment_installments</th>\n",
       "      <th>payment_value</th>\n",
       "    </tr>\n",
       "  </thead>\n",
       "  <tbody>\n",
       "    <tr>\n",
       "      <th>0</th>\n",
       "      <td>e481f51cbdc54678b7cc49136f2d6af7</td>\n",
       "      <td>delivered</td>\n",
       "      <td>2017-10-02 11:07:15</td>\n",
       "      <td>2017-10-18 00:00:00</td>\n",
       "      <td>SP</td>\n",
       "      <td>1.0</td>\n",
       "      <td>credit_card</td>\n",
       "      <td>1.0</td>\n",
       "      <td>18.12</td>\n",
       "    </tr>\n",
       "    <tr>\n",
       "      <th>1</th>\n",
       "      <td>e481f51cbdc54678b7cc49136f2d6af7</td>\n",
       "      <td>delivered</td>\n",
       "      <td>2017-10-02 11:07:15</td>\n",
       "      <td>2017-10-18 00:00:00</td>\n",
       "      <td>SP</td>\n",
       "      <td>3.0</td>\n",
       "      <td>voucher</td>\n",
       "      <td>1.0</td>\n",
       "      <td>2.00</td>\n",
       "    </tr>\n",
       "    <tr>\n",
       "      <th>2</th>\n",
       "      <td>e481f51cbdc54678b7cc49136f2d6af7</td>\n",
       "      <td>delivered</td>\n",
       "      <td>2017-10-02 11:07:15</td>\n",
       "      <td>2017-10-18 00:00:00</td>\n",
       "      <td>SP</td>\n",
       "      <td>2.0</td>\n",
       "      <td>voucher</td>\n",
       "      <td>1.0</td>\n",
       "      <td>18.59</td>\n",
       "    </tr>\n",
       "  </tbody>\n",
       "</table>\n",
       "</div>\n",
       "      <button class=\"colab-df-convert\" onclick=\"convertToInteractive('df-ac8f6a9a-c64a-4bab-908e-0364831ea247')\"\n",
       "              title=\"Convert this dataframe to an interactive table.\"\n",
       "              style=\"display:none;\">\n",
       "        \n",
       "  <svg xmlns=\"http://www.w3.org/2000/svg\" height=\"24px\"viewBox=\"0 0 24 24\"\n",
       "       width=\"24px\">\n",
       "    <path d=\"M0 0h24v24H0V0z\" fill=\"none\"/>\n",
       "    <path d=\"M18.56 5.44l.94 2.06.94-2.06 2.06-.94-2.06-.94-.94-2.06-.94 2.06-2.06.94zm-11 1L8.5 8.5l.94-2.06 2.06-.94-2.06-.94L8.5 2.5l-.94 2.06-2.06.94zm10 10l.94 2.06.94-2.06 2.06-.94-2.06-.94-.94-2.06-.94 2.06-2.06.94z\"/><path d=\"M17.41 7.96l-1.37-1.37c-.4-.4-.92-.59-1.43-.59-.52 0-1.04.2-1.43.59L10.3 9.45l-7.72 7.72c-.78.78-.78 2.05 0 2.83L4 21.41c.39.39.9.59 1.41.59.51 0 1.02-.2 1.41-.59l7.78-7.78 2.81-2.81c.8-.78.8-2.07 0-2.86zM5.41 20L4 18.59l7.72-7.72 1.47 1.35L5.41 20z\"/>\n",
       "  </svg>\n",
       "      </button>\n",
       "      \n",
       "  <style>\n",
       "    .colab-df-container {\n",
       "      display:flex;\n",
       "      flex-wrap:wrap;\n",
       "      gap: 12px;\n",
       "    }\n",
       "\n",
       "    .colab-df-convert {\n",
       "      background-color: #E8F0FE;\n",
       "      border: none;\n",
       "      border-radius: 50%;\n",
       "      cursor: pointer;\n",
       "      display: none;\n",
       "      fill: #1967D2;\n",
       "      height: 32px;\n",
       "      padding: 0 0 0 0;\n",
       "      width: 32px;\n",
       "    }\n",
       "\n",
       "    .colab-df-convert:hover {\n",
       "      background-color: #E2EBFA;\n",
       "      box-shadow: 0px 1px 2px rgba(60, 64, 67, 0.3), 0px 1px 3px 1px rgba(60, 64, 67, 0.15);\n",
       "      fill: #174EA6;\n",
       "    }\n",
       "\n",
       "    [theme=dark] .colab-df-convert {\n",
       "      background-color: #3B4455;\n",
       "      fill: #D2E3FC;\n",
       "    }\n",
       "\n",
       "    [theme=dark] .colab-df-convert:hover {\n",
       "      background-color: #434B5C;\n",
       "      box-shadow: 0px 1px 3px 1px rgba(0, 0, 0, 0.15);\n",
       "      filter: drop-shadow(0px 1px 2px rgba(0, 0, 0, 0.3));\n",
       "      fill: #FFFFFF;\n",
       "    }\n",
       "  </style>\n",
       "\n",
       "      <script>\n",
       "        const buttonEl =\n",
       "          document.querySelector('#df-ac8f6a9a-c64a-4bab-908e-0364831ea247 button.colab-df-convert');\n",
       "        buttonEl.style.display =\n",
       "          google.colab.kernel.accessAllowed ? 'block' : 'none';\n",
       "\n",
       "        async function convertToInteractive(key) {\n",
       "          const element = document.querySelector('#df-ac8f6a9a-c64a-4bab-908e-0364831ea247');\n",
       "          const dataTable =\n",
       "            await google.colab.kernel.invokeFunction('convertToInteractive',\n",
       "                                                     [key], {});\n",
       "          if (!dataTable) return;\n",
       "\n",
       "          const docLinkHtml = 'Like what you see? Visit the ' +\n",
       "            '<a target=\"_blank\" href=https://colab.research.google.com/notebooks/data_table.ipynb>data table notebook</a>'\n",
       "            + ' to learn more about interactive tables.';\n",
       "          element.innerHTML = '';\n",
       "          dataTable['output_type'] = 'display_data';\n",
       "          await google.colab.output.renderOutput(dataTable, element);\n",
       "          const docLink = document.createElement('div');\n",
       "          docLink.innerHTML = docLinkHtml;\n",
       "          element.appendChild(docLink);\n",
       "        }\n",
       "      </script>\n",
       "    </div>\n",
       "  </div>\n",
       "  "
      ],
      "text/plain": [
       "                           order_id order_status    order_approved_at  \\\n",
       "0  e481f51cbdc54678b7cc49136f2d6af7    delivered  2017-10-02 11:07:15   \n",
       "1  e481f51cbdc54678b7cc49136f2d6af7    delivered  2017-10-02 11:07:15   \n",
       "2  e481f51cbdc54678b7cc49136f2d6af7    delivered  2017-10-02 11:07:15   \n",
       "\n",
       "  order_estimated_delivery_date customer_state  payment_sequential  \\\n",
       "0           2017-10-18 00:00:00             SP                 1.0   \n",
       "1           2017-10-18 00:00:00             SP                 3.0   \n",
       "2           2017-10-18 00:00:00             SP                 2.0   \n",
       "\n",
       "  payment_type  payment_installments  payment_value  \n",
       "0  credit_card                   1.0          18.12  \n",
       "1      voucher                   1.0           2.00  \n",
       "2      voucher                   1.0          18.59  "
      ]
     },
     "execution_count": 31,
     "metadata": {},
     "output_type": "execute_result"
    }
   ],
   "source": [
    "df_clean.head(3)"
   ]
  },
  {
   "cell_type": "markdown",
   "id": "bd9d946c",
   "metadata": {
    "id": "bd9d946c"
   },
   "source": [
    "***string***"
   ]
  },
  {
   "cell_type": "markdown",
   "id": "44085444",
   "metadata": {
    "id": "44085444"
   },
   "source": [
    "*after checking data types above, typo data will be checked out in columns 'order_status', 'customer_state', 'payment_type'*"
   ]
  },
  {
   "cell_type": "code",
   "execution_count": null,
   "id": "6a74810b",
   "metadata": {
    "colab": {
     "base_uri": "https://localhost:8080/"
    },
    "id": "6a74810b",
    "outputId": "4b64c849-2251-494d-9c08-b2d19039de18"
   },
   "outputs": [
    {
     "name": "stdout",
     "output_type": "stream",
     "text": [
      "|             |   order_status |\n",
      "|:------------|---------------:|\n",
      "| delivered   |          96901 |\n",
      "| shipped     |           1113 |\n",
      "| unavailable |            601 |\n",
      "| canceled    |            469 |\n",
      "| invoiced    |            295 |\n",
      "| processing  |            289 |\n",
      "| approved    |              2 | \n",
      "\n",
      "\n",
      "|    |   customer_state |\n",
      "|:---|-----------------:|\n",
      "| SP |            42171 |\n",
      "| RJ |            12993 |\n",
      "| MG |            11627 |\n",
      "| RS |             5448 |\n",
      "| PR |             5062 |\n",
      "| SC |             3581 |\n",
      "| BA |             3425 |\n",
      "| DF |             2103 |\n",
      "| ES |             2030 |\n",
      "| GO |             2016 |\n",
      "| PE |             1631 |\n",
      "| CE |             1299 |\n",
      "| PA |              925 |\n",
      "| MT |              891 |\n",
      "| MA |              717 |\n",
      "| MS |              703 |\n",
      "| PB |              512 |\n",
      "| RN |              486 |\n",
      "| PI |              483 |\n",
      "| AL |              387 |\n",
      "| SE |              334 |\n",
      "| TO |              280 |\n",
      "| RO |              241 |\n",
      "| AM |              143 |\n",
      "| AC |               75 |\n",
      "| AP |               65 |\n",
      "| RR |               42 | \n",
      "\n",
      "\n",
      "|             |   payment_type |\n",
      "|:------------|---------------:|\n",
      "| credit_card |          73429 |\n",
      "| boleto      |          19106 |\n",
      "| voucher     |           5648 |\n",
      "| debit_card  |           1487 | \n",
      "\n",
      "\n"
     ]
    }
   ],
   "source": [
    "df_check_typo = ['order_status','customer_state','payment_type']\n",
    "\n",
    "for i in df_check_typo:\n",
    "  unique_data = df_clean[i].value_counts()\n",
    "  print(unique_data.to_markdown(),'\\n\\n')"
   ]
  },
  {
   "cell_type": "markdown",
   "id": "f89030fd",
   "metadata": {
    "id": "f89030fd"
   },
   "source": [
    "*From looking at the number of unique values in the 'order_status', 'customer_state', and 'payment_type' columns, **no typo data** was found.*"
   ]
  },
  {
   "cell_type": "markdown",
   "id": "c3fafb0d",
   "metadata": {
    "id": "c3fafb0d"
   },
   "source": [
    "***timeseries***"
   ]
  },
  {
   "cell_type": "markdown",
   "id": "3f8c1d5b",
   "metadata": {
    "id": "3f8c1d5b"
   },
   "source": [
    "*after checking data types above, time series transformation will be carried out in columns 'order_approved_at' and 'order_estimated_delivery_date' to convert object type of those timeries columns to datetime type*"
   ]
  },
  {
   "cell_type": "markdown",
   "id": "81063919",
   "metadata": {
    "id": "81063919"
   },
   "source": [
    "*check the data type of each value in the time series column*"
   ]
  },
  {
   "cell_type": "code",
   "execution_count": null,
   "id": "54ab723f",
   "metadata": {
    "colab": {
     "base_uri": "https://localhost:8080/"
    },
    "id": "54ab723f",
    "outputId": "a89278ed-96b4-4806-b322-a4c75bf35b83"
   },
   "outputs": [
    {
     "name": "stdout",
     "output_type": "stream",
     "text": [
      "type order_approved_at before transformation is  <class 'str'>\n",
      "type order_estimated_delivery_date before transformation is  <class 'str'>\n"
     ]
    }
   ],
   "source": [
    "df_ts = ['order_approved_at','order_estimated_delivery_date']\n",
    "\n",
    "for i in df_ts:    \n",
    "    print('type',i,'before transformation is ',type(df_clean[i][0]))"
   ]
  },
  {
   "cell_type": "markdown",
   "id": "88885726",
   "metadata": {
    "id": "88885726"
   },
   "source": [
    "*convert to datetime*"
   ]
  },
  {
   "cell_type": "code",
   "execution_count": null,
   "id": "93eb26c0",
   "metadata": {
    "colab": {
     "base_uri": "https://localhost:8080/"
    },
    "id": "93eb26c0",
    "outputId": "2d2fb56d-e680-4df0-fc85-e51de2bfcd5c"
   },
   "outputs": [
    {
     "name": "stdout",
     "output_type": "stream",
     "text": [
      "type order_approved_at after transformation is  <class 'pandas._libs.tslibs.timestamps.Timestamp'>\n",
      "type order_estimated_delivery_date after transformation is  <class 'pandas._libs.tslibs.timestamps.Timestamp'>\n"
     ]
    }
   ],
   "source": [
    "for i in df_ts:\n",
    "    df_clean[i] = pd.to_datetime(df_clean[i])\n",
    "    print('type',i,'after transformation is ',type(df_clean[i][0]))"
   ]
  },
  {
   "cell_type": "markdown",
   "id": "6c8b6929",
   "metadata": {
    "id": "6c8b6929"
   },
   "source": [
    "*check data types*"
   ]
  },
  {
   "cell_type": "code",
   "execution_count": null,
   "id": "45e7622f",
   "metadata": {
    "colab": {
     "base_uri": "https://localhost:8080/"
    },
    "id": "45e7622f",
    "outputId": "c54f0772-6617-46cb-82c0-097e56cf1f56"
   },
   "outputs": [
    {
     "data": {
      "text/plain": [
       "order_id                                 object\n",
       "order_status                             object\n",
       "order_approved_at                datetime64[ns]\n",
       "order_estimated_delivery_date    datetime64[ns]\n",
       "customer_state                           object\n",
       "payment_sequential                      float64\n",
       "payment_type                             object\n",
       "payment_installments                    float64\n",
       "payment_value                           float64\n",
       "dtype: object"
      ]
     },
     "execution_count": 35,
     "metadata": {},
     "output_type": "execute_result"
    }
   ],
   "source": [
    "df_clean.dtypes"
   ]
  },
  {
   "cell_type": "markdown",
   "id": "53572ff3",
   "metadata": {
    "id": "53572ff3"
   },
   "source": [
    "## Exploratory Data Analysis"
   ]
  },
  {
   "cell_type": "markdown",
   "id": "e55de28e",
   "metadata": {
    "id": "e55de28e"
   },
   "source": [
    "### Evaluate descriptive statistic"
   ]
  },
  {
   "cell_type": "markdown",
   "id": "8bbb5d00",
   "metadata": {
    "id": "8bbb5d00"
   },
   "source": [
    "*numerical data*"
   ]
  },
  {
   "cell_type": "code",
   "execution_count": null,
   "id": "2430da2a",
   "metadata": {
    "colab": {
     "base_uri": "https://localhost:8080/",
     "height": 143
    },
    "id": "2430da2a",
    "outputId": "3bd6af1c-1757-4c81-ca3c-c046abebac38"
   },
   "outputs": [
    {
     "data": {
      "text/html": [
       "\n",
       "  <div id=\"df-e7855091-eb9d-44b0-ab01-deeecb70d91e\">\n",
       "    <div class=\"colab-df-container\">\n",
       "      <div>\n",
       "<style scoped>\n",
       "    .dataframe tbody tr th:only-of-type {\n",
       "        vertical-align: middle;\n",
       "    }\n",
       "\n",
       "    .dataframe tbody tr th {\n",
       "        vertical-align: top;\n",
       "    }\n",
       "\n",
       "    .dataframe thead th {\n",
       "        text-align: right;\n",
       "    }\n",
       "</style>\n",
       "<table border=\"1\" class=\"dataframe\">\n",
       "  <thead>\n",
       "    <tr style=\"text-align: right;\">\n",
       "      <th></th>\n",
       "      <th>payment_sequential</th>\n",
       "      <th>payment_installments</th>\n",
       "      <th>payment_value</th>\n",
       "    </tr>\n",
       "  </thead>\n",
       "  <tbody>\n",
       "    <tr>\n",
       "      <th>0</th>\n",
       "      <td>1.0</td>\n",
       "      <td>1.0</td>\n",
       "      <td>18.12</td>\n",
       "    </tr>\n",
       "    <tr>\n",
       "      <th>1</th>\n",
       "      <td>3.0</td>\n",
       "      <td>1.0</td>\n",
       "      <td>2.00</td>\n",
       "    </tr>\n",
       "    <tr>\n",
       "      <th>2</th>\n",
       "      <td>2.0</td>\n",
       "      <td>1.0</td>\n",
       "      <td>18.59</td>\n",
       "    </tr>\n",
       "  </tbody>\n",
       "</table>\n",
       "</div>\n",
       "      <button class=\"colab-df-convert\" onclick=\"convertToInteractive('df-e7855091-eb9d-44b0-ab01-deeecb70d91e')\"\n",
       "              title=\"Convert this dataframe to an interactive table.\"\n",
       "              style=\"display:none;\">\n",
       "        \n",
       "  <svg xmlns=\"http://www.w3.org/2000/svg\" height=\"24px\"viewBox=\"0 0 24 24\"\n",
       "       width=\"24px\">\n",
       "    <path d=\"M0 0h24v24H0V0z\" fill=\"none\"/>\n",
       "    <path d=\"M18.56 5.44l.94 2.06.94-2.06 2.06-.94-2.06-.94-.94-2.06-.94 2.06-2.06.94zm-11 1L8.5 8.5l.94-2.06 2.06-.94-2.06-.94L8.5 2.5l-.94 2.06-2.06.94zm10 10l.94 2.06.94-2.06 2.06-.94-2.06-.94-.94-2.06-.94 2.06-2.06.94z\"/><path d=\"M17.41 7.96l-1.37-1.37c-.4-.4-.92-.59-1.43-.59-.52 0-1.04.2-1.43.59L10.3 9.45l-7.72 7.72c-.78.78-.78 2.05 0 2.83L4 21.41c.39.39.9.59 1.41.59.51 0 1.02-.2 1.41-.59l7.78-7.78 2.81-2.81c.8-.78.8-2.07 0-2.86zM5.41 20L4 18.59l7.72-7.72 1.47 1.35L5.41 20z\"/>\n",
       "  </svg>\n",
       "      </button>\n",
       "      \n",
       "  <style>\n",
       "    .colab-df-container {\n",
       "      display:flex;\n",
       "      flex-wrap:wrap;\n",
       "      gap: 12px;\n",
       "    }\n",
       "\n",
       "    .colab-df-convert {\n",
       "      background-color: #E8F0FE;\n",
       "      border: none;\n",
       "      border-radius: 50%;\n",
       "      cursor: pointer;\n",
       "      display: none;\n",
       "      fill: #1967D2;\n",
       "      height: 32px;\n",
       "      padding: 0 0 0 0;\n",
       "      width: 32px;\n",
       "    }\n",
       "\n",
       "    .colab-df-convert:hover {\n",
       "      background-color: #E2EBFA;\n",
       "      box-shadow: 0px 1px 2px rgba(60, 64, 67, 0.3), 0px 1px 3px 1px rgba(60, 64, 67, 0.15);\n",
       "      fill: #174EA6;\n",
       "    }\n",
       "\n",
       "    [theme=dark] .colab-df-convert {\n",
       "      background-color: #3B4455;\n",
       "      fill: #D2E3FC;\n",
       "    }\n",
       "\n",
       "    [theme=dark] .colab-df-convert:hover {\n",
       "      background-color: #434B5C;\n",
       "      box-shadow: 0px 1px 3px 1px rgba(0, 0, 0, 0.15);\n",
       "      filter: drop-shadow(0px 1px 2px rgba(0, 0, 0, 0.3));\n",
       "      fill: #FFFFFF;\n",
       "    }\n",
       "  </style>\n",
       "\n",
       "      <script>\n",
       "        const buttonEl =\n",
       "          document.querySelector('#df-e7855091-eb9d-44b0-ab01-deeecb70d91e button.colab-df-convert');\n",
       "        buttonEl.style.display =\n",
       "          google.colab.kernel.accessAllowed ? 'block' : 'none';\n",
       "\n",
       "        async function convertToInteractive(key) {\n",
       "          const element = document.querySelector('#df-e7855091-eb9d-44b0-ab01-deeecb70d91e');\n",
       "          const dataTable =\n",
       "            await google.colab.kernel.invokeFunction('convertToInteractive',\n",
       "                                                     [key], {});\n",
       "          if (!dataTable) return;\n",
       "\n",
       "          const docLinkHtml = 'Like what you see? Visit the ' +\n",
       "            '<a target=\"_blank\" href=https://colab.research.google.com/notebooks/data_table.ipynb>data table notebook</a>'\n",
       "            + ' to learn more about interactive tables.';\n",
       "          element.innerHTML = '';\n",
       "          dataTable['output_type'] = 'display_data';\n",
       "          await google.colab.output.renderOutput(dataTable, element);\n",
       "          const docLink = document.createElement('div');\n",
       "          docLink.innerHTML = docLinkHtml;\n",
       "          element.appendChild(docLink);\n",
       "        }\n",
       "      </script>\n",
       "    </div>\n",
       "  </div>\n",
       "  "
      ],
      "text/plain": [
       "   payment_sequential  payment_installments  payment_value\n",
       "0                 1.0                   1.0          18.12\n",
       "1                 3.0                   1.0           2.00\n",
       "2                 2.0                   1.0          18.59"
      ]
     },
     "execution_count": 36,
     "metadata": {},
     "output_type": "execute_result"
    }
   ],
   "source": [
    "numerical = df_clean.select_dtypes(include=['number'])\n",
    "numerical.head(3)"
   ]
  },
  {
   "cell_type": "markdown",
   "id": "a13bec99",
   "metadata": {
    "id": "a13bec99"
   },
   "source": [
    "*categorical data*"
   ]
  },
  {
   "cell_type": "code",
   "execution_count": null,
   "id": "af07a12c",
   "metadata": {
    "colab": {
     "base_uri": "https://localhost:8080/",
     "height": 143
    },
    "id": "af07a12c",
    "outputId": "33a51d5f-112b-4c0e-8151-89b68df78b6c"
   },
   "outputs": [
    {
     "data": {
      "text/html": [
       "\n",
       "  <div id=\"df-68f8db7e-4d2f-4d9a-9c45-5a8d88fe13bd\">\n",
       "    <div class=\"colab-df-container\">\n",
       "      <div>\n",
       "<style scoped>\n",
       "    .dataframe tbody tr th:only-of-type {\n",
       "        vertical-align: middle;\n",
       "    }\n",
       "\n",
       "    .dataframe tbody tr th {\n",
       "        vertical-align: top;\n",
       "    }\n",
       "\n",
       "    .dataframe thead th {\n",
       "        text-align: right;\n",
       "    }\n",
       "</style>\n",
       "<table border=\"1\" class=\"dataframe\">\n",
       "  <thead>\n",
       "    <tr style=\"text-align: right;\">\n",
       "      <th></th>\n",
       "      <th>order_id</th>\n",
       "      <th>order_status</th>\n",
       "      <th>order_approved_at</th>\n",
       "      <th>order_estimated_delivery_date</th>\n",
       "      <th>customer_state</th>\n",
       "      <th>payment_type</th>\n",
       "    </tr>\n",
       "  </thead>\n",
       "  <tbody>\n",
       "    <tr>\n",
       "      <th>0</th>\n",
       "      <td>e481f51cbdc54678b7cc49136f2d6af7</td>\n",
       "      <td>delivered</td>\n",
       "      <td>2017-10-02 11:07:15</td>\n",
       "      <td>2017-10-18</td>\n",
       "      <td>SP</td>\n",
       "      <td>credit_card</td>\n",
       "    </tr>\n",
       "    <tr>\n",
       "      <th>1</th>\n",
       "      <td>e481f51cbdc54678b7cc49136f2d6af7</td>\n",
       "      <td>delivered</td>\n",
       "      <td>2017-10-02 11:07:15</td>\n",
       "      <td>2017-10-18</td>\n",
       "      <td>SP</td>\n",
       "      <td>voucher</td>\n",
       "    </tr>\n",
       "    <tr>\n",
       "      <th>2</th>\n",
       "      <td>e481f51cbdc54678b7cc49136f2d6af7</td>\n",
       "      <td>delivered</td>\n",
       "      <td>2017-10-02 11:07:15</td>\n",
       "      <td>2017-10-18</td>\n",
       "      <td>SP</td>\n",
       "      <td>voucher</td>\n",
       "    </tr>\n",
       "  </tbody>\n",
       "</table>\n",
       "</div>\n",
       "      <button class=\"colab-df-convert\" onclick=\"convertToInteractive('df-68f8db7e-4d2f-4d9a-9c45-5a8d88fe13bd')\"\n",
       "              title=\"Convert this dataframe to an interactive table.\"\n",
       "              style=\"display:none;\">\n",
       "        \n",
       "  <svg xmlns=\"http://www.w3.org/2000/svg\" height=\"24px\"viewBox=\"0 0 24 24\"\n",
       "       width=\"24px\">\n",
       "    <path d=\"M0 0h24v24H0V0z\" fill=\"none\"/>\n",
       "    <path d=\"M18.56 5.44l.94 2.06.94-2.06 2.06-.94-2.06-.94-.94-2.06-.94 2.06-2.06.94zm-11 1L8.5 8.5l.94-2.06 2.06-.94-2.06-.94L8.5 2.5l-.94 2.06-2.06.94zm10 10l.94 2.06.94-2.06 2.06-.94-2.06-.94-.94-2.06-.94 2.06-2.06.94z\"/><path d=\"M17.41 7.96l-1.37-1.37c-.4-.4-.92-.59-1.43-.59-.52 0-1.04.2-1.43.59L10.3 9.45l-7.72 7.72c-.78.78-.78 2.05 0 2.83L4 21.41c.39.39.9.59 1.41.59.51 0 1.02-.2 1.41-.59l7.78-7.78 2.81-2.81c.8-.78.8-2.07 0-2.86zM5.41 20L4 18.59l7.72-7.72 1.47 1.35L5.41 20z\"/>\n",
       "  </svg>\n",
       "      </button>\n",
       "      \n",
       "  <style>\n",
       "    .colab-df-container {\n",
       "      display:flex;\n",
       "      flex-wrap:wrap;\n",
       "      gap: 12px;\n",
       "    }\n",
       "\n",
       "    .colab-df-convert {\n",
       "      background-color: #E8F0FE;\n",
       "      border: none;\n",
       "      border-radius: 50%;\n",
       "      cursor: pointer;\n",
       "      display: none;\n",
       "      fill: #1967D2;\n",
       "      height: 32px;\n",
       "      padding: 0 0 0 0;\n",
       "      width: 32px;\n",
       "    }\n",
       "\n",
       "    .colab-df-convert:hover {\n",
       "      background-color: #E2EBFA;\n",
       "      box-shadow: 0px 1px 2px rgba(60, 64, 67, 0.3), 0px 1px 3px 1px rgba(60, 64, 67, 0.15);\n",
       "      fill: #174EA6;\n",
       "    }\n",
       "\n",
       "    [theme=dark] .colab-df-convert {\n",
       "      background-color: #3B4455;\n",
       "      fill: #D2E3FC;\n",
       "    }\n",
       "\n",
       "    [theme=dark] .colab-df-convert:hover {\n",
       "      background-color: #434B5C;\n",
       "      box-shadow: 0px 1px 3px 1px rgba(0, 0, 0, 0.15);\n",
       "      filter: drop-shadow(0px 1px 2px rgba(0, 0, 0, 0.3));\n",
       "      fill: #FFFFFF;\n",
       "    }\n",
       "  </style>\n",
       "\n",
       "      <script>\n",
       "        const buttonEl =\n",
       "          document.querySelector('#df-68f8db7e-4d2f-4d9a-9c45-5a8d88fe13bd button.colab-df-convert');\n",
       "        buttonEl.style.display =\n",
       "          google.colab.kernel.accessAllowed ? 'block' : 'none';\n",
       "\n",
       "        async function convertToInteractive(key) {\n",
       "          const element = document.querySelector('#df-68f8db7e-4d2f-4d9a-9c45-5a8d88fe13bd');\n",
       "          const dataTable =\n",
       "            await google.colab.kernel.invokeFunction('convertToInteractive',\n",
       "                                                     [key], {});\n",
       "          if (!dataTable) return;\n",
       "\n",
       "          const docLinkHtml = 'Like what you see? Visit the ' +\n",
       "            '<a target=\"_blank\" href=https://colab.research.google.com/notebooks/data_table.ipynb>data table notebook</a>'\n",
       "            + ' to learn more about interactive tables.';\n",
       "          element.innerHTML = '';\n",
       "          dataTable['output_type'] = 'display_data';\n",
       "          await google.colab.output.renderOutput(dataTable, element);\n",
       "          const docLink = document.createElement('div');\n",
       "          docLink.innerHTML = docLinkHtml;\n",
       "          element.appendChild(docLink);\n",
       "        }\n",
       "      </script>\n",
       "    </div>\n",
       "  </div>\n",
       "  "
      ],
      "text/plain": [
       "                           order_id order_status   order_approved_at  \\\n",
       "0  e481f51cbdc54678b7cc49136f2d6af7    delivered 2017-10-02 11:07:15   \n",
       "1  e481f51cbdc54678b7cc49136f2d6af7    delivered 2017-10-02 11:07:15   \n",
       "2  e481f51cbdc54678b7cc49136f2d6af7    delivered 2017-10-02 11:07:15   \n",
       "\n",
       "  order_estimated_delivery_date customer_state payment_type  \n",
       "0                    2017-10-18             SP  credit_card  \n",
       "1                    2017-10-18             SP      voucher  \n",
       "2                    2017-10-18             SP      voucher  "
      ]
     },
     "execution_count": 37,
     "metadata": {},
     "output_type": "execute_result"
    }
   ],
   "source": [
    "categorical = df_clean.select_dtypes(exclude=['number'])\n",
    "categorical.head(3)"
   ]
  },
  {
   "cell_type": "markdown",
   "id": "037e8bdc",
   "metadata": {
    "id": "037e8bdc"
   },
   "source": [
    "*descriptive statistics*"
   ]
  },
  {
   "cell_type": "code",
   "execution_count": null,
   "id": "1ba8ecc9",
   "metadata": {
    "colab": {
     "base_uri": "https://localhost:8080/",
     "height": 488
    },
    "id": "1ba8ecc9",
    "outputId": "4eddd853-faf7-4244-a7c7-de1cd5dba78f"
   },
   "outputs": [
    {
     "data": {
      "text/html": [
       "\n",
       "  <div id=\"df-a83990af-e47f-44ca-813e-d06a4e64e0a8\">\n",
       "    <div class=\"colab-df-container\">\n",
       "      <div>\n",
       "<style scoped>\n",
       "    .dataframe tbody tr th:only-of-type {\n",
       "        vertical-align: middle;\n",
       "    }\n",
       "\n",
       "    .dataframe tbody tr th {\n",
       "        vertical-align: top;\n",
       "    }\n",
       "\n",
       "    .dataframe thead th {\n",
       "        text-align: right;\n",
       "    }\n",
       "</style>\n",
       "<table border=\"1\" class=\"dataframe\">\n",
       "  <thead>\n",
       "    <tr style=\"text-align: right;\">\n",
       "      <th></th>\n",
       "      <th>payment_sequential</th>\n",
       "      <th>payment_installments</th>\n",
       "      <th>payment_value</th>\n",
       "    </tr>\n",
       "  </thead>\n",
       "  <tbody>\n",
       "    <tr>\n",
       "      <th>count</th>\n",
       "      <td>99670.000000</td>\n",
       "      <td>99670.000000</td>\n",
       "      <td>99670.000000</td>\n",
       "    </tr>\n",
       "    <tr>\n",
       "      <th>mean</th>\n",
       "      <td>1.095385</td>\n",
       "      <td>2.723568</td>\n",
       "      <td>121.926411</td>\n",
       "    </tr>\n",
       "    <tr>\n",
       "      <th>std</th>\n",
       "      <td>0.717164</td>\n",
       "      <td>2.543220</td>\n",
       "      <td>92.774860</td>\n",
       "    </tr>\n",
       "    <tr>\n",
       "      <th>min</th>\n",
       "      <td>1.000000</td>\n",
       "      <td>0.000000</td>\n",
       "      <td>0.010000</td>\n",
       "    </tr>\n",
       "    <tr>\n",
       "      <th>25%</th>\n",
       "      <td>1.000000</td>\n",
       "      <td>1.000000</td>\n",
       "      <td>55.220000</td>\n",
       "    </tr>\n",
       "    <tr>\n",
       "      <th>50%</th>\n",
       "      <td>1.000000</td>\n",
       "      <td>1.000000</td>\n",
       "      <td>96.320000</td>\n",
       "    </tr>\n",
       "    <tr>\n",
       "      <th>75%</th>\n",
       "      <td>1.000000</td>\n",
       "      <td>4.000000</td>\n",
       "      <td>161.270000</td>\n",
       "    </tr>\n",
       "    <tr>\n",
       "      <th>max</th>\n",
       "      <td>29.000000</td>\n",
       "      <td>24.000000</td>\n",
       "      <td>516.730000</td>\n",
       "    </tr>\n",
       "    <tr>\n",
       "      <th>var</th>\n",
       "      <td>0.514324</td>\n",
       "      <td>6.467966</td>\n",
       "      <td>8607.174572</td>\n",
       "    </tr>\n",
       "    <tr>\n",
       "      <th>skew</th>\n",
       "      <td>15.983603</td>\n",
       "      <td>1.723589</td>\n",
       "      <td>1.527333</td>\n",
       "    </tr>\n",
       "    <tr>\n",
       "      <th>kurt</th>\n",
       "      <td>361.652264</td>\n",
       "      <td>2.798370</td>\n",
       "      <td>2.460670</td>\n",
       "    </tr>\n",
       "    <tr>\n",
       "      <th>mode</th>\n",
       "      <td>1.000000</td>\n",
       "      <td>1.000000</td>\n",
       "      <td>50.000000</td>\n",
       "    </tr>\n",
       "    <tr>\n",
       "      <th>range</th>\n",
       "      <td>28.000000</td>\n",
       "      <td>24.000000</td>\n",
       "      <td>516.720000</td>\n",
       "    </tr>\n",
       "    <tr>\n",
       "      <th>coeff of var</th>\n",
       "      <td>0.654714</td>\n",
       "      <td>0.933782</td>\n",
       "      <td>0.760909</td>\n",
       "    </tr>\n",
       "  </tbody>\n",
       "</table>\n",
       "</div>\n",
       "      <button class=\"colab-df-convert\" onclick=\"convertToInteractive('df-a83990af-e47f-44ca-813e-d06a4e64e0a8')\"\n",
       "              title=\"Convert this dataframe to an interactive table.\"\n",
       "              style=\"display:none;\">\n",
       "        \n",
       "  <svg xmlns=\"http://www.w3.org/2000/svg\" height=\"24px\"viewBox=\"0 0 24 24\"\n",
       "       width=\"24px\">\n",
       "    <path d=\"M0 0h24v24H0V0z\" fill=\"none\"/>\n",
       "    <path d=\"M18.56 5.44l.94 2.06.94-2.06 2.06-.94-2.06-.94-.94-2.06-.94 2.06-2.06.94zm-11 1L8.5 8.5l.94-2.06 2.06-.94-2.06-.94L8.5 2.5l-.94 2.06-2.06.94zm10 10l.94 2.06.94-2.06 2.06-.94-2.06-.94-.94-2.06-.94 2.06-2.06.94z\"/><path d=\"M17.41 7.96l-1.37-1.37c-.4-.4-.92-.59-1.43-.59-.52 0-1.04.2-1.43.59L10.3 9.45l-7.72 7.72c-.78.78-.78 2.05 0 2.83L4 21.41c.39.39.9.59 1.41.59.51 0 1.02-.2 1.41-.59l7.78-7.78 2.81-2.81c.8-.78.8-2.07 0-2.86zM5.41 20L4 18.59l7.72-7.72 1.47 1.35L5.41 20z\"/>\n",
       "  </svg>\n",
       "      </button>\n",
       "      \n",
       "  <style>\n",
       "    .colab-df-container {\n",
       "      display:flex;\n",
       "      flex-wrap:wrap;\n",
       "      gap: 12px;\n",
       "    }\n",
       "\n",
       "    .colab-df-convert {\n",
       "      background-color: #E8F0FE;\n",
       "      border: none;\n",
       "      border-radius: 50%;\n",
       "      cursor: pointer;\n",
       "      display: none;\n",
       "      fill: #1967D2;\n",
       "      height: 32px;\n",
       "      padding: 0 0 0 0;\n",
       "      width: 32px;\n",
       "    }\n",
       "\n",
       "    .colab-df-convert:hover {\n",
       "      background-color: #E2EBFA;\n",
       "      box-shadow: 0px 1px 2px rgba(60, 64, 67, 0.3), 0px 1px 3px 1px rgba(60, 64, 67, 0.15);\n",
       "      fill: #174EA6;\n",
       "    }\n",
       "\n",
       "    [theme=dark] .colab-df-convert {\n",
       "      background-color: #3B4455;\n",
       "      fill: #D2E3FC;\n",
       "    }\n",
       "\n",
       "    [theme=dark] .colab-df-convert:hover {\n",
       "      background-color: #434B5C;\n",
       "      box-shadow: 0px 1px 3px 1px rgba(0, 0, 0, 0.15);\n",
       "      filter: drop-shadow(0px 1px 2px rgba(0, 0, 0, 0.3));\n",
       "      fill: #FFFFFF;\n",
       "    }\n",
       "  </style>\n",
       "\n",
       "      <script>\n",
       "        const buttonEl =\n",
       "          document.querySelector('#df-a83990af-e47f-44ca-813e-d06a4e64e0a8 button.colab-df-convert');\n",
       "        buttonEl.style.display =\n",
       "          google.colab.kernel.accessAllowed ? 'block' : 'none';\n",
       "\n",
       "        async function convertToInteractive(key) {\n",
       "          const element = document.querySelector('#df-a83990af-e47f-44ca-813e-d06a4e64e0a8');\n",
       "          const dataTable =\n",
       "            await google.colab.kernel.invokeFunction('convertToInteractive',\n",
       "                                                     [key], {});\n",
       "          if (!dataTable) return;\n",
       "\n",
       "          const docLinkHtml = 'Like what you see? Visit the ' +\n",
       "            '<a target=\"_blank\" href=https://colab.research.google.com/notebooks/data_table.ipynb>data table notebook</a>'\n",
       "            + ' to learn more about interactive tables.';\n",
       "          element.innerHTML = '';\n",
       "          dataTable['output_type'] = 'display_data';\n",
       "          await google.colab.output.renderOutput(dataTable, element);\n",
       "          const docLink = document.createElement('div');\n",
       "          docLink.innerHTML = docLinkHtml;\n",
       "          element.appendChild(docLink);\n",
       "        }\n",
       "      </script>\n",
       "    </div>\n",
       "  </div>\n",
       "  "
      ],
      "text/plain": [
       "              payment_sequential  payment_installments  payment_value\n",
       "count               99670.000000          99670.000000   99670.000000\n",
       "mean                    1.095385              2.723568     121.926411\n",
       "std                     0.717164              2.543220      92.774860\n",
       "min                     1.000000              0.000000       0.010000\n",
       "25%                     1.000000              1.000000      55.220000\n",
       "50%                     1.000000              1.000000      96.320000\n",
       "75%                     1.000000              4.000000     161.270000\n",
       "max                    29.000000             24.000000     516.730000\n",
       "var                     0.514324              6.467966    8607.174572\n",
       "skew                   15.983603              1.723589       1.527333\n",
       "kurt                  361.652264              2.798370       2.460670\n",
       "mode                    1.000000              1.000000      50.000000\n",
       "range                  28.000000             24.000000     516.720000\n",
       "coeff of var            0.654714              0.933782       0.760909"
      ]
     },
     "execution_count": 38,
     "metadata": {},
     "output_type": "execute_result"
    }
   ],
   "source": [
    "from scipy import stats\n",
    "\n",
    "\n",
    "def describe(df, statis):\n",
    "    d = df.describe()\n",
    "    \n",
    "    if 'mode' in statis:\n",
    "        statis.remove('mode')\n",
    "        d = d.append(df.agg(statis))\n",
    "        d = d.append(df.agg(lambda x: stats.mode(x)[0]))\n",
    "        d = d.rename(index={0:'mode'})\n",
    "    else: \n",
    "        d = d.append(df.agg(statis))\n",
    "    return d\n",
    "\n",
    "\n",
    "ds = describe(numerical, ['mode','var','skew','kurt'])\n",
    "\n",
    "# add range \n",
    "ds.loc['range'] = ds.loc['max'] - ds.loc['min']\n",
    "\n",
    "# coefficient of variation (std / mean) \n",
    "ds.loc['coeff of var'] = ds.loc['std'] / ds.loc['mean']\n",
    "\n",
    "ds"
   ]
  },
  {
   "cell_type": "code",
   "execution_count": null,
   "id": "6162eccd",
   "metadata": {
    "colab": {
     "base_uri": "https://localhost:8080/",
     "height": 238
    },
    "id": "6162eccd",
    "outputId": "294c6736-a88e-4fde-8822-c23e0abf0dc5"
   },
   "outputs": [
    {
     "data": {
      "text/html": [
       "\n",
       "  <div id=\"df-94ac7a66-3278-4647-beba-ce50fc223a8e\">\n",
       "    <div class=\"colab-df-container\">\n",
       "      <div>\n",
       "<style scoped>\n",
       "    .dataframe tbody tr th:only-of-type {\n",
       "        vertical-align: middle;\n",
       "    }\n",
       "\n",
       "    .dataframe tbody tr th {\n",
       "        vertical-align: top;\n",
       "    }\n",
       "\n",
       "    .dataframe thead th {\n",
       "        text-align: right;\n",
       "    }\n",
       "</style>\n",
       "<table border=\"1\" class=\"dataframe\">\n",
       "  <thead>\n",
       "    <tr style=\"text-align: right;\">\n",
       "      <th></th>\n",
       "      <th>order_id</th>\n",
       "      <th>order_status</th>\n",
       "      <th>order_approved_at</th>\n",
       "      <th>order_estimated_delivery_date</th>\n",
       "      <th>customer_state</th>\n",
       "      <th>payment_type</th>\n",
       "    </tr>\n",
       "  </thead>\n",
       "  <tbody>\n",
       "    <tr>\n",
       "      <th>count</th>\n",
       "      <td>99670</td>\n",
       "      <td>99670</td>\n",
       "      <td>99670</td>\n",
       "      <td>99670</td>\n",
       "      <td>99670</td>\n",
       "      <td>99670</td>\n",
       "    </tr>\n",
       "    <tr>\n",
       "      <th>unique</th>\n",
       "      <td>95327</td>\n",
       "      <td>7</td>\n",
       "      <td>87335</td>\n",
       "      <td>450</td>\n",
       "      <td>27</td>\n",
       "      <td>4</td>\n",
       "    </tr>\n",
       "    <tr>\n",
       "      <th>top</th>\n",
       "      <td>fa65dad1b0e818e3ccc5cb0e39231352</td>\n",
       "      <td>delivered</td>\n",
       "      <td>2017-04-22 09:10:13</td>\n",
       "      <td>2017-12-20 00:00:00</td>\n",
       "      <td>SP</td>\n",
       "      <td>credit_card</td>\n",
       "    </tr>\n",
       "    <tr>\n",
       "      <th>freq</th>\n",
       "      <td>27</td>\n",
       "      <td>96901</td>\n",
       "      <td>27</td>\n",
       "      <td>547</td>\n",
       "      <td>42171</td>\n",
       "      <td>73429</td>\n",
       "    </tr>\n",
       "    <tr>\n",
       "      <th>first</th>\n",
       "      <td>NaN</td>\n",
       "      <td>NaN</td>\n",
       "      <td>2016-10-04 09:43:32</td>\n",
       "      <td>2016-09-30 00:00:00</td>\n",
       "      <td>NaN</td>\n",
       "      <td>NaN</td>\n",
       "    </tr>\n",
       "    <tr>\n",
       "      <th>last</th>\n",
       "      <td>NaN</td>\n",
       "      <td>NaN</td>\n",
       "      <td>2018-09-03 17:40:06</td>\n",
       "      <td>2018-10-23 00:00:00</td>\n",
       "      <td>NaN</td>\n",
       "      <td>NaN</td>\n",
       "    </tr>\n",
       "  </tbody>\n",
       "</table>\n",
       "</div>\n",
       "      <button class=\"colab-df-convert\" onclick=\"convertToInteractive('df-94ac7a66-3278-4647-beba-ce50fc223a8e')\"\n",
       "              title=\"Convert this dataframe to an interactive table.\"\n",
       "              style=\"display:none;\">\n",
       "        \n",
       "  <svg xmlns=\"http://www.w3.org/2000/svg\" height=\"24px\"viewBox=\"0 0 24 24\"\n",
       "       width=\"24px\">\n",
       "    <path d=\"M0 0h24v24H0V0z\" fill=\"none\"/>\n",
       "    <path d=\"M18.56 5.44l.94 2.06.94-2.06 2.06-.94-2.06-.94-.94-2.06-.94 2.06-2.06.94zm-11 1L8.5 8.5l.94-2.06 2.06-.94-2.06-.94L8.5 2.5l-.94 2.06-2.06.94zm10 10l.94 2.06.94-2.06 2.06-.94-2.06-.94-.94-2.06-.94 2.06-2.06.94z\"/><path d=\"M17.41 7.96l-1.37-1.37c-.4-.4-.92-.59-1.43-.59-.52 0-1.04.2-1.43.59L10.3 9.45l-7.72 7.72c-.78.78-.78 2.05 0 2.83L4 21.41c.39.39.9.59 1.41.59.51 0 1.02-.2 1.41-.59l7.78-7.78 2.81-2.81c.8-.78.8-2.07 0-2.86zM5.41 20L4 18.59l7.72-7.72 1.47 1.35L5.41 20z\"/>\n",
       "  </svg>\n",
       "      </button>\n",
       "      \n",
       "  <style>\n",
       "    .colab-df-container {\n",
       "      display:flex;\n",
       "      flex-wrap:wrap;\n",
       "      gap: 12px;\n",
       "    }\n",
       "\n",
       "    .colab-df-convert {\n",
       "      background-color: #E8F0FE;\n",
       "      border: none;\n",
       "      border-radius: 50%;\n",
       "      cursor: pointer;\n",
       "      display: none;\n",
       "      fill: #1967D2;\n",
       "      height: 32px;\n",
       "      padding: 0 0 0 0;\n",
       "      width: 32px;\n",
       "    }\n",
       "\n",
       "    .colab-df-convert:hover {\n",
       "      background-color: #E2EBFA;\n",
       "      box-shadow: 0px 1px 2px rgba(60, 64, 67, 0.3), 0px 1px 3px 1px rgba(60, 64, 67, 0.15);\n",
       "      fill: #174EA6;\n",
       "    }\n",
       "\n",
       "    [theme=dark] .colab-df-convert {\n",
       "      background-color: #3B4455;\n",
       "      fill: #D2E3FC;\n",
       "    }\n",
       "\n",
       "    [theme=dark] .colab-df-convert:hover {\n",
       "      background-color: #434B5C;\n",
       "      box-shadow: 0px 1px 3px 1px rgba(0, 0, 0, 0.15);\n",
       "      filter: drop-shadow(0px 1px 2px rgba(0, 0, 0, 0.3));\n",
       "      fill: #FFFFFF;\n",
       "    }\n",
       "  </style>\n",
       "\n",
       "      <script>\n",
       "        const buttonEl =\n",
       "          document.querySelector('#df-94ac7a66-3278-4647-beba-ce50fc223a8e button.colab-df-convert');\n",
       "        buttonEl.style.display =\n",
       "          google.colab.kernel.accessAllowed ? 'block' : 'none';\n",
       "\n",
       "        async function convertToInteractive(key) {\n",
       "          const element = document.querySelector('#df-94ac7a66-3278-4647-beba-ce50fc223a8e');\n",
       "          const dataTable =\n",
       "            await google.colab.kernel.invokeFunction('convertToInteractive',\n",
       "                                                     [key], {});\n",
       "          if (!dataTable) return;\n",
       "\n",
       "          const docLinkHtml = 'Like what you see? Visit the ' +\n",
       "            '<a target=\"_blank\" href=https://colab.research.google.com/notebooks/data_table.ipynb>data table notebook</a>'\n",
       "            + ' to learn more about interactive tables.';\n",
       "          element.innerHTML = '';\n",
       "          dataTable['output_type'] = 'display_data';\n",
       "          await google.colab.output.renderOutput(dataTable, element);\n",
       "          const docLink = document.createElement('div');\n",
       "          docLink.innerHTML = docLinkHtml;\n",
       "          element.appendChild(docLink);\n",
       "        }\n",
       "      </script>\n",
       "    </div>\n",
       "  </div>\n",
       "  "
      ],
      "text/plain": [
       "                                order_id order_status    order_approved_at  \\\n",
       "count                              99670        99670                99670   \n",
       "unique                             95327            7                87335   \n",
       "top     fa65dad1b0e818e3ccc5cb0e39231352    delivered  2017-04-22 09:10:13   \n",
       "freq                                  27        96901                   27   \n",
       "first                                NaN          NaN  2016-10-04 09:43:32   \n",
       "last                                 NaN          NaN  2018-09-03 17:40:06   \n",
       "\n",
       "       order_estimated_delivery_date customer_state payment_type  \n",
       "count                          99670          99670        99670  \n",
       "unique                           450             27            4  \n",
       "top              2017-12-20 00:00:00             SP  credit_card  \n",
       "freq                             547          42171        73429  \n",
       "first            2016-09-30 00:00:00            NaN          NaN  \n",
       "last             2018-10-23 00:00:00            NaN          NaN  "
      ]
     },
     "execution_count": 39,
     "metadata": {},
     "output_type": "execute_result"
    }
   ],
   "source": [
    "categorical.describe()"
   ]
  },
  {
   "cell_type": "markdown",
   "id": "05811968",
   "metadata": {
    "id": "05811968"
   },
   "source": [
    "By using the describe() method and other customised statistical methods, it can be seen that the information for each column in the numerical data is:\n",
    "* count - The number of not-empty values\n",
    "* mean - The average (mean) value\n",
    "* std - The standard deviation\n",
    "* min - the minimum value\n",
    "* 25% - Q1 or The 25% percentile\n",
    "* 50% - The 50% percentile or median\n",
    "* 75% - Q3 or The 75% percentile\n",
    "* max - the maximum value\n",
    "* var - measure how spread out the data is\n",
    "* skew - measure of asymmetry of a distribution\n",
    "* kurt - measure of whether the data are heavy-tailed or light-tailed relative to a normal distribution. That is, data sets with high kurtosis tend to have heavy tails, or outliers\n",
    "* mode - the most commonly observed value in a set of data\n",
    "* range -  the difference between the largest value and the smallest value\n",
    "* coefficient of variation - measure of the dispersion of data points around the mean\n",
    "\n",
    "While the categorical data contains information:\n",
    "* count - The number of not-empty values\n",
    "* unique - Number of unique values\n",
    "* top - The most common value\n",
    "* freq - The most common value's frequency\n",
    "* first - For Timestamps or Datetime\n",
    "* last - For Timestamps or Datetime"
   ]
  },
  {
   "cell_type": "markdown",
   "id": "2ef449e0",
   "metadata": {
    "id": "2ef449e0"
   },
   "source": [
    "***insights***"
   ]
  },
  {
   "cell_type": "markdown",
   "id": "26702c42",
   "metadata": {
    "id": "26702c42"
   },
   "source": [
    "<!-- *   *payment_sequential*:\n",
    "Analysis on payment_sequential using descriptive statistics shows the lowest payment sequence is 1 and the highest is 26. There is no significant difference between the mean and median in the payment sequential indicating the data has a normal distribution pattern. Mode and data distribution from Q1 (25% percentile) to Q3 (75% percentile) show that the most commonly payment sequence taken by customer is 1. Based on the standard deviation, the measures of dispersion of the payment sequential is 0.67 means data are clustered around the mean.\n",
    " -->\n",
    " *   *payment_sequential*:\n",
    "Analysis on payment_sequential using descriptive statistics shows the lowest payment sequence is 1 and the highest is 29. The skewness of 16 indicates that the data is highly positive skewed likely to be affected by outliers that piled up at the right end. Mode, data distribution from Q1 (25% percentile) to Q3 (75% percentile), and the median show that the most commonly payment sequence taken by customer is 1, the median is used for analysis instead of the mean because it is robust against outliers. Based on the IQR which is also robust against outliers, the measures of dispersion of the payment sequential is 0. The IQR is zero because the middle 50% of the values are equal. From the table of counts of unique values, it is known that 'payment_sequential' with value '1' has a 95% of total data.\n",
    " *   *payment_installments*:\n",
    " The lowest payment installments is 0 and the highest is 24 which shows that there are customers who do not take payment installments, then the highest payment installments taken by customers are 24 times of payment. There is a difference between the mean and median in the payment installments, as well as the skewness of 1.72 indicating the data has a positive skewed likely to be affected by outliers that piled up at the right end. Data distribution from Q1 (25% percentile) is 1 and Q3 (75% percentile) is 4 show that the most commonly payment installments taken by customer is 1 to 4 of installments. The median is at 1 showing the payment installments data explains that most customers take payment only in 1 installment, the median is used for analysis instead of other central tendency methods because the median is robust against outliers. Based on the IQR which is also robust against outliers, the measures of dispersion of the payment installments is 3.\n",
    " *   *payment_value*:\n",
    "Analysis on payment value using descriptive statistics shows the lowest transaction value is 0.01 and the highest transaction value is 516 dollars. Payment value data shows that the mean is larger than the median,so the distribution is positively skewed likely to be affected by outliers that piled up at the right end, this means that many transations are gathered at values that are not too high with data distribution from about Q1 55.2 to Q3 161 and the median is at 96.3. The median is used for analysis because it is robust against outliers. Based on the standard deviation, measure of spread of data about the mean that is the measures of dispersion of the payment value data is 92.8. Since the data is not a normal/gaussian distribution, then to measure of spread of data will be used IQR which is robust againts outliers. The measures of dispersion of the payment_value data using IQR is 106.\n",
    " *   *order_id*:\n",
    "The most frequent transactions made by customers are a maximum of 27 transactions.\n",
    " *   *order_status*:\n",
    "Order_status data shows that almost all products have been delivered to the customer.\n",
    " *   *customer_state*:\n",
    "The customer_state data shows that the customers who make the most transactions come from the state of Sao Paulo.\n",
    " *   *payment_type*:\n",
    "The payment_type data shows that most customers use credit card payments to make transactions."
   ]
  },
  {
   "cell_type": "markdown",
   "id": "143ac425",
   "metadata": {
    "id": "143ac425"
   },
   "source": [
    "### Visualise the order dataset and check if there is some pattern on the time-series data"
   ]
  },
  {
   "cell_type": "code",
   "execution_count": null,
   "id": "4a59effd",
   "metadata": {
    "id": "4a59effd"
   },
   "outputs": [],
   "source": [
    "df_plot = df_clean.copy()\n",
    "df_plot = df_plot.sort_values('order_approved_at', ascending=False)\n",
    "df_plot = df_plot[~(df_plot['order_approved_at'].dt.strftime('%Y-%m') == '2018-09')]"
   ]
  },
  {
   "cell_type": "markdown",
   "id": "fc6652ff",
   "metadata": {
    "id": "fc6652ff"
   },
   "source": [
    "***number of orders per month***"
   ]
  },
  {
   "cell_type": "code",
   "execution_count": null,
   "id": "4b84d0c7",
   "metadata": {
    "colab": {
     "base_uri": "https://localhost:8080/",
     "height": 485
    },
    "id": "4b84d0c7",
    "outputId": "b006be0a-dfcd-4264-e89c-13ac5590b86a"
   },
   "outputs": [
    {
     "data": {
      "image/png": "[encoded data removed]",
      "text/plain": [
       "<Figure size 1440x432 with 1 Axes>"
      ]
     },
     "metadata": {
      "needs_background": "light"
     },
     "output_type": "display_data"
    }
   ],
   "source": [
    "# plot \n",
    "plt.figure(figsize=(20,6))\n",
    "df_plot['year_month'] = df_plot['order_approved_at'].dt.strftime('%Y-%m')\n",
    "data = df_plot.groupby(['year_month'], as_index=False)['order_id'].nunique()\n",
    "ax = sns.lineplot(x='year_month', y='order_id', marker='o', markersize=10, lw=4, color='lightblue', alpha=1, data=data)\n",
    "\n",
    "# data points\n",
    "for x, y in zip(data['year_month'], data['order_id']):\n",
    "    plt.text(x, y=y+50, s='{:.0f}'.format(y), alpha=.7) \n",
    "    \n",
    "# # setting\n",
    "sns.despine(top=True, right=True, left=False, bottom=False)\n",
    "ax.spines['left'].set_color('lightgray')\n",
    "ax.spines['bottom'].set_color('lightgray')\n",
    "plt.xlabel('Year Month', fontsize=13, labelpad=20)\n",
    "plt.ylabel('Orders', fontsize=13, labelpad=20)\n",
    "plt.title('Number of Orders per Month', fontweight='bold', fontsize=16, y=1.2, x=.48, alpha = .75)\n",
    "plt.suptitle('Is there any significant difference?', fontweight='bold', fontsize = 14, y=1, x=.5, alpha = .75);"
   ]
  },
  {
   "cell_type": "markdown",
   "id": "5b1ec325",
   "metadata": {
    "id": "5b1ec325"
   },
   "source": [
    "*number of orders per month insight*"
   ]
  },
  {
   "cell_type": "markdown",
   "id": "00483dcc",
   "metadata": {
    "id": "00483dcc"
   },
   "source": [
    "*The graph of the number of orders per month from October 2016 to August 2018 shows that the overall number of orders each month has increased. A significant increase from October 2016 to November 2017 where there was the highest increase in the number of orders of 7098 total orders for that month. However, after that the number of orders decreased slightly and did not experience a significant movement from December 2017 to August 2018.*"
   ]
  },
  {
   "cell_type": "markdown",
   "id": "dbe02973",
   "metadata": {
    "id": "dbe02973"
   },
   "source": [
    "***daily orders trend (which day of week is the busiest)***"
   ]
  },
  {
   "cell_type": "code",
   "execution_count": null,
   "id": "680201d2",
   "metadata": {
    "colab": {
     "base_uri": "https://localhost:8080/",
     "height": 360
    },
    "id": "680201d2",
    "outputId": "812d7e81-569d-4d5b-d380-043aedcadd77"
   },
   "outputs": [
    {
     "data": {
      "image/png": "[encoded data removed]",
      "text/plain": [
       "<Figure size 1080x288 with 1 Axes>"
      ]
     },
     "metadata": {
      "needs_background": "light"
     },
     "output_type": "display_data"
    }
   ],
   "source": [
    "# plot \n",
    "plt.figure(figsize=(15,4))\n",
    "df_plot['week'] = df_plot['order_approved_at'].dt.strftime('%w - %A')\n",
    "data = df_plot.groupby(['week'], as_index=False)['order_id'].nunique()\n",
    "ax = sns.lineplot(x='week', y='order_id', marker='o', markersize=10, lw=4, color='lightblue', alpha=1, data=data)\n",
    "\n",
    "# data points\n",
    "for x, y in zip(data['week'], data['order_id']):\n",
    "    plt.text(x, y=y+50, s='{:.0f}'.format(y), alpha=.7) \n",
    "    \n",
    "# setting\n",
    "sns.despine(top=True, right=True, left=False, bottom=False)\n",
    "ax.spines['left'].set_color('lightgray')\n",
    "ax.spines['bottom'].set_color('lightgray')\n",
    "plt.xlabel('Day of the week', fontsize=13, labelpad=20)\n",
    "plt.ylabel('Orders', fontsize=13, labelpad=20)\n",
    "plt.title('Daily Order Trend', fontweight='bold', fontsize=16, y=1.2, x=.48, alpha = .75)\n",
    "plt.suptitle('Is there any significant difference?', fontweight='bold', fontsize = 14, y=1, x=.5, alpha = .75);\n",
    "\n",
    "# modify tick label\n",
    "weeks = ['Sunday','Monday','Tuesday','Wednesday','Thursday','Friday','Saturday']\n",
    "\n",
    "a=ax.get_xticks()\n",
    "\n",
    "for index, week in enumerate(weeks):\n",
    "    a[index] = week\n",
    "\n",
    "ax.set_xticklabels(a)\n",
    "plt.show()"
   ]
  },
  {
   "cell_type": "markdown",
   "id": "0b8f88cd",
   "metadata": {
    "id": "0b8f88cd"
   },
   "source": [
    "*daily orders trend (which day of week is the busiest) insight*"
   ]
  },
  {
   "cell_type": "markdown",
   "id": "3eb14fcf",
   "metadata": {
    "id": "3eb14fcf"
   },
   "source": [
    "*The daily order trend chart shows that Tuesday is the busiest day where on that day, many orders are made by customers. The least busy day for order transactions is Sunday, the number of order transactions on Sunday is the least than other days.*"
   ]
  },
  {
   "cell_type": "markdown",
   "id": "3b61c339",
   "metadata": {
    "id": "3b61c339"
   },
   "source": [
    "***percentage of orders per payment type***"
   ]
  },
  {
   "cell_type": "code",
   "execution_count": null,
   "id": "e247810e",
   "metadata": {
    "colab": {
     "base_uri": "https://localhost:8080/",
     "height": 524
    },
    "id": "e247810e",
    "outputId": "9f8c214c-2533-4704-96bf-61deb3686625"
   },
   "outputs": [
    {
     "data": {
      "image/png": "[encoded data removed]",
      "text/plain": [
       "<Figure size 576x504 with 1 Axes>"
      ]
     },
     "metadata": {
      "needs_background": "light"
     },
     "output_type": "display_data"
    }
   ],
   "source": [
    "data_agg = df_plot.groupby(['payment_type'], as_index=False)['order_id'].nunique().sort_values(['order_id'], ascending=False)\n",
    "\n",
    "def set_custom_palette(series, max_color = 'blue', other_color = 'lightblue'):\n",
    "    max_val = series.max()\n",
    "    pal = []\n",
    "    \n",
    "    for item in series:\n",
    "        if item == max_val:\n",
    "            pal.append(max_color)\n",
    "        else:\n",
    "            pal.append(other_color)\n",
    "    return pal\n",
    "\n",
    "# plot \n",
    "plt.figure(figsize=(8,7));\n",
    "ax = sns.barplot(x = 'payment_type', y = 'order_id', data = data_agg, palette=set_custom_palette(data_agg['order_id']));\n",
    "sns.despine(top=True, right=True, left=False, bottom=False);\n",
    "ax.spines['left'].set_color('lightgray');\n",
    "ax.spines['bottom'].set_color('lightgray');\n",
    "\n",
    "# data points\n",
    "tampung = []\n",
    "for x in ax.patches:\n",
    "    tampung.append(x.get_height())\n",
    "\n",
    "for x in ax.patches:\n",
    "#     ax.annotate(f'{x.get_height():0.0f}', (x.get_x() + x.get_width() / 2., x.get_height()), ha = 'center', va = 'center', xytext = (0, 10), textcoords = 'offset points')\n",
    "    ax.annotate(f'{100 * x.get_height() / sum(tampung):0.2f}%', (x.get_x() + x.get_width() / 2., x.get_height()), ha = 'center', va = 'center', xytext = (0, 10), textcoords = 'offset points')\n",
    "    \n",
    "# setting xticks, label, title  \n",
    "plt.xticks(rotation=45, ha=\"right\");\n",
    "plt.xlabel('Payment Type', fontsize = 13);\n",
    "plt.ylabel('Orders', fontsize = 13);\n",
    "plt.title('Percentage of Orders per Payment Type', fontsize = 16, pad = 30);"
   ]
  },
  {
   "cell_type": "markdown",
   "id": "4064d972",
   "metadata": {
    "id": "4064d972"
   },
   "source": [
    "*percentage of orders per payment type insight*"
   ]
  },
  {
   "cell_type": "markdown",
   "id": "66510e18",
   "metadata": {
    "id": "66510e18"
   },
   "source": [
    "*The graph of percentage of orders per payment type shows that the most frequently used payment method in transactions, amounting to 75.03%, is credit card. Then, the boleto payment method is used for transactions with a percentage of 19.59%. The rest, the payment methods that are the least or rarely used when making transactions, which are voucher and debit card payment methods.*"
   ]
  },
  {
   "cell_type": "markdown",
   "id": "4cf162dc",
   "metadata": {
    "id": "4cf162dc"
   },
   "source": [
    "## User Segmentation Using Cluster Analysis"
   ]
  },
  {
   "cell_type": "code",
   "execution_count": null,
   "id": "94df7b84",
   "metadata": {
    "id": "94df7b84"
   },
   "outputs": [],
   "source": [
    "from sklearn import cluster"
   ]
  },
  {
   "cell_type": "code",
   "execution_count": null,
   "id": "c196b867",
   "metadata": {
    "id": "c196b867"
   },
   "outputs": [],
   "source": [
    "from sklearn.datasets import make_blobs\n",
    "from sklearn.cluster import KMeans\n",
    "from sklearn.metrics import silhouette_samples, silhouette_score\n",
    "\n",
    "import matplotlib.cm as cm\n",
    "\n",
    "# Generating the sample data from make_blobs\n",
    "# This particular setting has one distinct cluster and 3 clusters placed close\n",
    "# together.\n",
    "def silhoutte_analysis(data,cluster=[2,3,4]):\n",
    "    X = data.to_numpy()\n",
    "\n",
    "    range_n_clusters = cluster\n",
    "\n",
    "    for n_clusters in range_n_clusters:\n",
    "        # Create a subplot with 1 row and 2 columns\n",
    "        fig, (ax1, ax2) = plt.subplots(1, 2)\n",
    "        fig.set_size_inches(18, 7)\n",
    "\n",
    "        # The 1st subplot is the silhouette plot\n",
    "        # The silhouette coefficient can range from -1, 1 but in this example all\n",
    "        # lie within [-0.1, 1]\n",
    "        ax1.set_xlim([-0.1, 1])\n",
    "        # The (n_clusters+1)*10 is for inserting blank space between silhouette\n",
    "        # plots of individual clusters, to demarcate them clearly.\n",
    "        ax1.set_ylim([0, len(X) + (n_clusters + 1) * 10])\n",
    "\n",
    "        # Initialize the clusterer with n_clusters value and a random generator\n",
    "        # seed of 10 for reproducibility.\n",
    "        clusterer = KMeans(n_clusters=n_clusters, random_state=10)\n",
    "        cluster_labels = clusterer.fit_predict(X)\n",
    "\n",
    "        # The silhouette_score gives the average value for all the samples.\n",
    "        # This gives a perspective into the density and separation of the formed\n",
    "        # clusters\n",
    "        silhouette_avg = silhouette_score(X, cluster_labels)\n",
    "        print(\n",
    "            \"For n_clusters =\",\n",
    "            n_clusters,\n",
    "            \"The average silhouette_score is :\",\n",
    "            silhouette_avg,\n",
    "        )\n",
    "\n",
    "        # Compute the silhouette scores for each sample\n",
    "        sample_silhouette_values = silhouette_samples(X, cluster_labels)\n",
    "\n",
    "        y_lower = 10\n",
    "        for i in range(n_clusters):\n",
    "            # Aggregate the silhouette scores for samples belonging to\n",
    "            # cluster i, and sort them\n",
    "            ith_cluster_silhouette_values = sample_silhouette_values[cluster_labels == i]\n",
    "\n",
    "            ith_cluster_silhouette_values.sort()\n",
    "\n",
    "            size_cluster_i = ith_cluster_silhouette_values.shape[0]\n",
    "            y_upper = y_lower + size_cluster_i\n",
    "\n",
    "            color = cm.nipy_spectral(float(i) / n_clusters)\n",
    "            ax1.fill_betweenx(\n",
    "                np.arange(y_lower, y_upper),\n",
    "                0,\n",
    "                ith_cluster_silhouette_values,\n",
    "                facecolor=color,\n",
    "                edgecolor=color,\n",
    "                alpha=0.7,\n",
    "            )\n",
    "\n",
    "            # Label the silhouette plots with their cluster numbers at the middle\n",
    "            ax1.text(-0.05, y_lower + 0.5 * size_cluster_i, str(i))\n",
    "\n",
    "            # Compute the new y_lower for next plot\n",
    "            y_lower = y_upper + 10  # 10 for the 0 samples\n",
    "\n",
    "        ax1.set_title(\"The silhouette plot for the various clusters.\")\n",
    "        ax1.set_xlabel(\"The silhouette coefficient values\")\n",
    "        ax1.set_ylabel(\"Cluster label\")\n",
    "\n",
    "        # The vertical line for average silhouette score of all the values\n",
    "        ax1.axvline(x=silhouette_avg, color=\"red\", linestyle=\"--\")\n",
    "\n",
    "        ax1.set_yticks([])  # Clear the yaxis labels / ticks\n",
    "        ax1.set_xticks([-0.1, 0, 0.2, 0.4, 0.6, 0.8, 1])\n",
    "\n",
    "        # 2nd Plot showing the actual clusters formed\n",
    "        colors = cm.nipy_spectral(cluster_labels.astype(float) / n_clusters)\n",
    "        ax2.scatter(\n",
    "            X[:, 0], X[:, 1], marker=\".\", s=30, lw=0, alpha=0.7, c=colors, edgecolor=\"k\"\n",
    "        )\n",
    "\n",
    "        # Labeling the clusters\n",
    "        centers = clusterer.cluster_centers_\n",
    "        # Draw white circles at cluster centers\n",
    "        ax2.scatter(\n",
    "            centers[:, 0],\n",
    "            centers[:, 1],\n",
    "            marker=\"o\",\n",
    "            c=\"white\",\n",
    "            alpha=1,\n",
    "            s=200,\n",
    "            edgecolor=\"k\",\n",
    "        )\n",
    "\n",
    "        for i, c in enumerate(centers):\n",
    "            ax2.scatter(c[0], c[1], marker=\"$%d$\" % i, alpha=1, s=50, edgecolor=\"k\")\n",
    "\n",
    "        ax2.set_title(\"The visualization of the clustered data.\")\n",
    "        ax2.set_xlabel(\"Feature space for the 1st feature\")\n",
    "        ax2.set_ylabel(\"Feature space for the 2nd feature\")\n",
    "\n",
    "        plt.suptitle(\n",
    "            \"Silhouette analysis for KMeans clustering on sample data with n_clusters = %d\"\n",
    "            % n_clusters,\n",
    "            fontsize=14,\n",
    "            fontweight=\"bold\",\n",
    "        )\n",
    "\n",
    "    plt.show()"
   ]
  },
  {
   "cell_type": "code",
   "execution_count": null,
   "id": "55d2766d",
   "metadata": {
    "colab": {
     "base_uri": "https://localhost:8080/",
     "height": 207
    },
    "id": "55d2766d",
    "outputId": "643fa41b-5e6f-4d1e-9c85-38c3dd6c625c",
    "scrolled": true
   },
   "outputs": [
    {
     "data": {
      "text/html": [
       "\n",
       "  <div id=\"df-93fe3e76-87e3-402e-b6be-1fdaa43187b3\">\n",
       "    <div class=\"colab-df-container\">\n",
       "      <div>\n",
       "<style scoped>\n",
       "    .dataframe tbody tr th:only-of-type {\n",
       "        vertical-align: middle;\n",
       "    }\n",
       "\n",
       "    .dataframe tbody tr th {\n",
       "        vertical-align: top;\n",
       "    }\n",
       "\n",
       "    .dataframe thead th {\n",
       "        text-align: right;\n",
       "    }\n",
       "</style>\n",
       "<table border=\"1\" class=\"dataframe\">\n",
       "  <thead>\n",
       "    <tr style=\"text-align: right;\">\n",
       "      <th></th>\n",
       "      <th>order_id</th>\n",
       "      <th>order_status</th>\n",
       "      <th>order_approved_at</th>\n",
       "      <th>order_estimated_delivery_date</th>\n",
       "      <th>customer_state</th>\n",
       "      <th>payment_sequential</th>\n",
       "      <th>payment_type</th>\n",
       "      <th>payment_installments</th>\n",
       "      <th>payment_value</th>\n",
       "    </tr>\n",
       "  </thead>\n",
       "  <tbody>\n",
       "    <tr>\n",
       "      <th>0</th>\n",
       "      <td>e481f51cbdc54678b7cc49136f2d6af7</td>\n",
       "      <td>delivered</td>\n",
       "      <td>2017-10-02 11:07:15</td>\n",
       "      <td>2017-10-18</td>\n",
       "      <td>SP</td>\n",
       "      <td>1.0</td>\n",
       "      <td>credit_card</td>\n",
       "      <td>1.0</td>\n",
       "      <td>18.12</td>\n",
       "    </tr>\n",
       "    <tr>\n",
       "      <th>1</th>\n",
       "      <td>e481f51cbdc54678b7cc49136f2d6af7</td>\n",
       "      <td>delivered</td>\n",
       "      <td>2017-10-02 11:07:15</td>\n",
       "      <td>2017-10-18</td>\n",
       "      <td>SP</td>\n",
       "      <td>3.0</td>\n",
       "      <td>voucher</td>\n",
       "      <td>1.0</td>\n",
       "      <td>2.00</td>\n",
       "    </tr>\n",
       "    <tr>\n",
       "      <th>2</th>\n",
       "      <td>e481f51cbdc54678b7cc49136f2d6af7</td>\n",
       "      <td>delivered</td>\n",
       "      <td>2017-10-02 11:07:15</td>\n",
       "      <td>2017-10-18</td>\n",
       "      <td>SP</td>\n",
       "      <td>2.0</td>\n",
       "      <td>voucher</td>\n",
       "      <td>1.0</td>\n",
       "      <td>18.59</td>\n",
       "    </tr>\n",
       "  </tbody>\n",
       "</table>\n",
       "</div>\n",
       "      <button class=\"colab-df-convert\" onclick=\"convertToInteractive('df-93fe3e76-87e3-402e-b6be-1fdaa43187b3')\"\n",
       "              title=\"Convert this dataframe to an interactive table.\"\n",
       "              style=\"display:none;\">\n",
       "        \n",
       "  <svg xmlns=\"http://www.w3.org/2000/svg\" height=\"24px\"viewBox=\"0 0 24 24\"\n",
       "       width=\"24px\">\n",
       "    <path d=\"M0 0h24v24H0V0z\" fill=\"none\"/>\n",
       "    <path d=\"M18.56 5.44l.94 2.06.94-2.06 2.06-.94-2.06-.94-.94-2.06-.94 2.06-2.06.94zm-11 1L8.5 8.5l.94-2.06 2.06-.94-2.06-.94L8.5 2.5l-.94 2.06-2.06.94zm10 10l.94 2.06.94-2.06 2.06-.94-2.06-.94-.94-2.06-.94 2.06-2.06.94z\"/><path d=\"M17.41 7.96l-1.37-1.37c-.4-.4-.92-.59-1.43-.59-.52 0-1.04.2-1.43.59L10.3 9.45l-7.72 7.72c-.78.78-.78 2.05 0 2.83L4 21.41c.39.39.9.59 1.41.59.51 0 1.02-.2 1.41-.59l7.78-7.78 2.81-2.81c.8-.78.8-2.07 0-2.86zM5.41 20L4 18.59l7.72-7.72 1.47 1.35L5.41 20z\"/>\n",
       "  </svg>\n",
       "      </button>\n",
       "      \n",
       "  <style>\n",
       "    .colab-df-container {\n",
       "      display:flex;\n",
       "      flex-wrap:wrap;\n",
       "      gap: 12px;\n",
       "    }\n",
       "\n",
       "    .colab-df-convert {\n",
       "      background-color: #E8F0FE;\n",
       "      border: none;\n",
       "      border-radius: 50%;\n",
       "      cursor: pointer;\n",
       "      display: none;\n",
       "      fill: #1967D2;\n",
       "      height: 32px;\n",
       "      padding: 0 0 0 0;\n",
       "      width: 32px;\n",
       "    }\n",
       "\n",
       "    .colab-df-convert:hover {\n",
       "      background-color: #E2EBFA;\n",
       "      box-shadow: 0px 1px 2px rgba(60, 64, 67, 0.3), 0px 1px 3px 1px rgba(60, 64, 67, 0.15);\n",
       "      fill: #174EA6;\n",
       "    }\n",
       "\n",
       "    [theme=dark] .colab-df-convert {\n",
       "      background-color: #3B4455;\n",
       "      fill: #D2E3FC;\n",
       "    }\n",
       "\n",
       "    [theme=dark] .colab-df-convert:hover {\n",
       "      background-color: #434B5C;\n",
       "      box-shadow: 0px 1px 3px 1px rgba(0, 0, 0, 0.15);\n",
       "      filter: drop-shadow(0px 1px 2px rgba(0, 0, 0, 0.3));\n",
       "      fill: #FFFFFF;\n",
       "    }\n",
       "  </style>\n",
       "\n",
       "      <script>\n",
       "        const buttonEl =\n",
       "          document.querySelector('#df-93fe3e76-87e3-402e-b6be-1fdaa43187b3 button.colab-df-convert');\n",
       "        buttonEl.style.display =\n",
       "          google.colab.kernel.accessAllowed ? 'block' : 'none';\n",
       "\n",
       "        async function convertToInteractive(key) {\n",
       "          const element = document.querySelector('#df-93fe3e76-87e3-402e-b6be-1fdaa43187b3');\n",
       "          const dataTable =\n",
       "            await google.colab.kernel.invokeFunction('convertToInteractive',\n",
       "                                                     [key], {});\n",
       "          if (!dataTable) return;\n",
       "\n",
       "          const docLinkHtml = 'Like what you see? Visit the ' +\n",
       "            '<a target=\"_blank\" href=https://colab.research.google.com/notebooks/data_table.ipynb>data table notebook</a>'\n",
       "            + ' to learn more about interactive tables.';\n",
       "          element.innerHTML = '';\n",
       "          dataTable['output_type'] = 'display_data';\n",
       "          await google.colab.output.renderOutput(dataTable, element);\n",
       "          const docLink = document.createElement('div');\n",
       "          docLink.innerHTML = docLinkHtml;\n",
       "          element.appendChild(docLink);\n",
       "        }\n",
       "      </script>\n",
       "    </div>\n",
       "  </div>\n",
       "  "
      ],
      "text/plain": [
       "                           order_id order_status   order_approved_at  \\\n",
       "0  e481f51cbdc54678b7cc49136f2d6af7    delivered 2017-10-02 11:07:15   \n",
       "1  e481f51cbdc54678b7cc49136f2d6af7    delivered 2017-10-02 11:07:15   \n",
       "2  e481f51cbdc54678b7cc49136f2d6af7    delivered 2017-10-02 11:07:15   \n",
       "\n",
       "  order_estimated_delivery_date customer_state  payment_sequential  \\\n",
       "0                    2017-10-18             SP                 1.0   \n",
       "1                    2017-10-18             SP                 3.0   \n",
       "2                    2017-10-18             SP                 2.0   \n",
       "\n",
       "  payment_type  payment_installments  payment_value  \n",
       "0  credit_card                   1.0          18.12  \n",
       "1      voucher                   1.0           2.00  \n",
       "2      voucher                   1.0          18.59  "
      ]
     },
     "execution_count": 46,
     "metadata": {},
     "output_type": "execute_result"
    }
   ],
   "source": [
    "df_clust = df_clean.copy()\n",
    "df_clust.head(3)"
   ]
  },
  {
   "cell_type": "markdown",
   "id": "1cbcc90b",
   "metadata": {
    "id": "1cbcc90b"
   },
   "source": [
    "***feature engineering and feature selection***"
   ]
  },
  {
   "cell_type": "code",
   "execution_count": null,
   "id": "27db07dd",
   "metadata": {
    "colab": {
     "base_uri": "https://localhost:8080/",
     "height": 143
    },
    "id": "27db07dd",
    "outputId": "05aefcd4-6957-4817-967c-f183d1e743f6"
   },
   "outputs": [
    {
     "data": {
      "text/html": [
       "\n",
       "  <div id=\"df-05d18951-a518-475a-809f-7cb673ffd34c\">\n",
       "    <div class=\"colab-df-container\">\n",
       "      <div>\n",
       "<style scoped>\n",
       "    .dataframe tbody tr th:only-of-type {\n",
       "        vertical-align: middle;\n",
       "    }\n",
       "\n",
       "    .dataframe tbody tr th {\n",
       "        vertical-align: top;\n",
       "    }\n",
       "\n",
       "    .dataframe thead th {\n",
       "        text-align: right;\n",
       "    }\n",
       "</style>\n",
       "<table border=\"1\" class=\"dataframe\">\n",
       "  <thead>\n",
       "    <tr style=\"text-align: right;\">\n",
       "      <th></th>\n",
       "      <th>order_status</th>\n",
       "      <th>payment_sequential</th>\n",
       "      <th>payment_type</th>\n",
       "      <th>payment_installments</th>\n",
       "      <th>payment_value</th>\n",
       "      <th>dev_time</th>\n",
       "    </tr>\n",
       "  </thead>\n",
       "  <tbody>\n",
       "    <tr>\n",
       "      <th>0</th>\n",
       "      <td>delivered</td>\n",
       "      <td>1.0</td>\n",
       "      <td>credit_card</td>\n",
       "      <td>1.0</td>\n",
       "      <td>18.12</td>\n",
       "      <td>15</td>\n",
       "    </tr>\n",
       "    <tr>\n",
       "      <th>1</th>\n",
       "      <td>delivered</td>\n",
       "      <td>3.0</td>\n",
       "      <td>voucher</td>\n",
       "      <td>1.0</td>\n",
       "      <td>2.00</td>\n",
       "      <td>15</td>\n",
       "    </tr>\n",
       "    <tr>\n",
       "      <th>2</th>\n",
       "      <td>delivered</td>\n",
       "      <td>2.0</td>\n",
       "      <td>voucher</td>\n",
       "      <td>1.0</td>\n",
       "      <td>18.59</td>\n",
       "      <td>15</td>\n",
       "    </tr>\n",
       "  </tbody>\n",
       "</table>\n",
       "</div>\n",
       "      <button class=\"colab-df-convert\" onclick=\"convertToInteractive('df-05d18951-a518-475a-809f-7cb673ffd34c')\"\n",
       "              title=\"Convert this dataframe to an interactive table.\"\n",
       "              style=\"display:none;\">\n",
       "        \n",
       "  <svg xmlns=\"http://www.w3.org/2000/svg\" height=\"24px\"viewBox=\"0 0 24 24\"\n",
       "       width=\"24px\">\n",
       "    <path d=\"M0 0h24v24H0V0z\" fill=\"none\"/>\n",
       "    <path d=\"M18.56 5.44l.94 2.06.94-2.06 2.06-.94-2.06-.94-.94-2.06-.94 2.06-2.06.94zm-11 1L8.5 8.5l.94-2.06 2.06-.94-2.06-.94L8.5 2.5l-.94 2.06-2.06.94zm10 10l.94 2.06.94-2.06 2.06-.94-2.06-.94-.94-2.06-.94 2.06-2.06.94z\"/><path d=\"M17.41 7.96l-1.37-1.37c-.4-.4-.92-.59-1.43-.59-.52 0-1.04.2-1.43.59L10.3 9.45l-7.72 7.72c-.78.78-.78 2.05 0 2.83L4 21.41c.39.39.9.59 1.41.59.51 0 1.02-.2 1.41-.59l7.78-7.78 2.81-2.81c.8-.78.8-2.07 0-2.86zM5.41 20L4 18.59l7.72-7.72 1.47 1.35L5.41 20z\"/>\n",
       "  </svg>\n",
       "      </button>\n",
       "      \n",
       "  <style>\n",
       "    .colab-df-container {\n",
       "      display:flex;\n",
       "      flex-wrap:wrap;\n",
       "      gap: 12px;\n",
       "    }\n",
       "\n",
       "    .colab-df-convert {\n",
       "      background-color: #E8F0FE;\n",
       "      border: none;\n",
       "      border-radius: 50%;\n",
       "      cursor: pointer;\n",
       "      display: none;\n",
       "      fill: #1967D2;\n",
       "      height: 32px;\n",
       "      padding: 0 0 0 0;\n",
       "      width: 32px;\n",
       "    }\n",
       "\n",
       "    .colab-df-convert:hover {\n",
       "      background-color: #E2EBFA;\n",
       "      box-shadow: 0px 1px 2px rgba(60, 64, 67, 0.3), 0px 1px 3px 1px rgba(60, 64, 67, 0.15);\n",
       "      fill: #174EA6;\n",
       "    }\n",
       "\n",
       "    [theme=dark] .colab-df-convert {\n",
       "      background-color: #3B4455;\n",
       "      fill: #D2E3FC;\n",
       "    }\n",
       "\n",
       "    [theme=dark] .colab-df-convert:hover {\n",
       "      background-color: #434B5C;\n",
       "      box-shadow: 0px 1px 3px 1px rgba(0, 0, 0, 0.15);\n",
       "      filter: drop-shadow(0px 1px 2px rgba(0, 0, 0, 0.3));\n",
       "      fill: #FFFFFF;\n",
       "    }\n",
       "  </style>\n",
       "\n",
       "      <script>\n",
       "        const buttonEl =\n",
       "          document.querySelector('#df-05d18951-a518-475a-809f-7cb673ffd34c button.colab-df-convert');\n",
       "        buttonEl.style.display =\n",
       "          google.colab.kernel.accessAllowed ? 'block' : 'none';\n",
       "\n",
       "        async function convertToInteractive(key) {\n",
       "          const element = document.querySelector('#df-05d18951-a518-475a-809f-7cb673ffd34c');\n",
       "          const dataTable =\n",
       "            await google.colab.kernel.invokeFunction('convertToInteractive',\n",
       "                                                     [key], {});\n",
       "          if (!dataTable) return;\n",
       "\n",
       "          const docLinkHtml = 'Like what you see? Visit the ' +\n",
       "            '<a target=\"_blank\" href=https://colab.research.google.com/notebooks/data_table.ipynb>data table notebook</a>'\n",
       "            + ' to learn more about interactive tables.';\n",
       "          element.innerHTML = '';\n",
       "          dataTable['output_type'] = 'display_data';\n",
       "          await google.colab.output.renderOutput(dataTable, element);\n",
       "          const docLink = document.createElement('div');\n",
       "          docLink.innerHTML = docLinkHtml;\n",
       "          element.appendChild(docLink);\n",
       "        }\n",
       "      </script>\n",
       "    </div>\n",
       "  </div>\n",
       "  "
      ],
      "text/plain": [
       "  order_status  payment_sequential payment_type  payment_installments  \\\n",
       "0    delivered                 1.0  credit_card                   1.0   \n",
       "1    delivered                 3.0      voucher                   1.0   \n",
       "2    delivered                 2.0      voucher                   1.0   \n",
       "\n",
       "   payment_value  dev_time  \n",
       "0          18.12        15  \n",
       "1           2.00        15  \n",
       "2          18.59        15  "
      ]
     },
     "execution_count": 47,
     "metadata": {},
     "output_type": "execute_result"
    }
   ],
   "source": [
    "df_clust['dev_time'] = (df_clust['order_estimated_delivery_date'] - df_clust['order_approved_at']).dt.days\n",
    "df_clust = df_clust.drop(['order_id','order_approved_at','order_estimated_delivery_date','customer_state'], axis=1)\n",
    "df_clust.head(3)"
   ]
  },
  {
   "cell_type": "markdown",
   "id": "0ceb370d",
   "metadata": {
    "id": "0ceb370d"
   },
   "source": [
    "***normalisation/standardisation***"
   ]
  },
  {
   "cell_type": "code",
   "execution_count": null,
   "id": "8cea2440",
   "metadata": {
    "id": "8cea2440"
   },
   "outputs": [],
   "source": [
    "from sklearn.preprocessing import MinMaxScaler"
   ]
  },
  {
   "cell_type": "code",
   "execution_count": null,
   "id": "2de56ff8",
   "metadata": {
    "colab": {
     "base_uri": "https://localhost:8080/",
     "height": 143
    },
    "id": "2de56ff8",
    "outputId": "e12ee2df-ccc7-4370-ca41-cce17effdfb3"
   },
   "outputs": [
    {
     "data": {
      "text/html": [
       "\n",
       "  <div id=\"df-c393e808-fcf4-4df4-b33a-9dd623bd5721\">\n",
       "    <div class=\"colab-df-container\">\n",
       "      <div>\n",
       "<style scoped>\n",
       "    .dataframe tbody tr th:only-of-type {\n",
       "        vertical-align: middle;\n",
       "    }\n",
       "\n",
       "    .dataframe tbody tr th {\n",
       "        vertical-align: top;\n",
       "    }\n",
       "\n",
       "    .dataframe thead th {\n",
       "        text-align: right;\n",
       "    }\n",
       "</style>\n",
       "<table border=\"1\" class=\"dataframe\">\n",
       "  <thead>\n",
       "    <tr style=\"text-align: right;\">\n",
       "      <th></th>\n",
       "      <th>order_status</th>\n",
       "      <th>payment_sequential</th>\n",
       "      <th>payment_type</th>\n",
       "      <th>payment_installments</th>\n",
       "      <th>payment_value</th>\n",
       "      <th>dev_time</th>\n",
       "    </tr>\n",
       "  </thead>\n",
       "  <tbody>\n",
       "    <tr>\n",
       "      <th>0</th>\n",
       "      <td>delivered</td>\n",
       "      <td>0.000000</td>\n",
       "      <td>credit_card</td>\n",
       "      <td>0.041667</td>\n",
       "      <td>0.035048</td>\n",
       "      <td>0.538462</td>\n",
       "    </tr>\n",
       "    <tr>\n",
       "      <th>1</th>\n",
       "      <td>delivered</td>\n",
       "      <td>0.071429</td>\n",
       "      <td>voucher</td>\n",
       "      <td>0.041667</td>\n",
       "      <td>0.003851</td>\n",
       "      <td>0.538462</td>\n",
       "    </tr>\n",
       "    <tr>\n",
       "      <th>2</th>\n",
       "      <td>delivered</td>\n",
       "      <td>0.035714</td>\n",
       "      <td>voucher</td>\n",
       "      <td>0.041667</td>\n",
       "      <td>0.035958</td>\n",
       "      <td>0.538462</td>\n",
       "    </tr>\n",
       "  </tbody>\n",
       "</table>\n",
       "</div>\n",
       "      <button class=\"colab-df-convert\" onclick=\"convertToInteractive('df-c393e808-fcf4-4df4-b33a-9dd623bd5721')\"\n",
       "              title=\"Convert this dataframe to an interactive table.\"\n",
       "              style=\"display:none;\">\n",
       "        \n",
       "  <svg xmlns=\"http://www.w3.org/2000/svg\" height=\"24px\"viewBox=\"0 0 24 24\"\n",
       "       width=\"24px\">\n",
       "    <path d=\"M0 0h24v24H0V0z\" fill=\"none\"/>\n",
       "    <path d=\"M18.56 5.44l.94 2.06.94-2.06 2.06-.94-2.06-.94-.94-2.06-.94 2.06-2.06.94zm-11 1L8.5 8.5l.94-2.06 2.06-.94-2.06-.94L8.5 2.5l-.94 2.06-2.06.94zm10 10l.94 2.06.94-2.06 2.06-.94-2.06-.94-.94-2.06-.94 2.06-2.06.94z\"/><path d=\"M17.41 7.96l-1.37-1.37c-.4-.4-.92-.59-1.43-.59-.52 0-1.04.2-1.43.59L10.3 9.45l-7.72 7.72c-.78.78-.78 2.05 0 2.83L4 21.41c.39.39.9.59 1.41.59.51 0 1.02-.2 1.41-.59l7.78-7.78 2.81-2.81c.8-.78.8-2.07 0-2.86zM5.41 20L4 18.59l7.72-7.72 1.47 1.35L5.41 20z\"/>\n",
       "  </svg>\n",
       "      </button>\n",
       "      \n",
       "  <style>\n",
       "    .colab-df-container {\n",
       "      display:flex;\n",
       "      flex-wrap:wrap;\n",
       "      gap: 12px;\n",
       "    }\n",
       "\n",
       "    .colab-df-convert {\n",
       "      background-color: #E8F0FE;\n",
       "      border: none;\n",
       "      border-radius: 50%;\n",
       "      cursor: pointer;\n",
       "      display: none;\n",
       "      fill: #1967D2;\n",
       "      height: 32px;\n",
       "      padding: 0 0 0 0;\n",
       "      width: 32px;\n",
       "    }\n",
       "\n",
       "    .colab-df-convert:hover {\n",
       "      background-color: #E2EBFA;\n",
       "      box-shadow: 0px 1px 2px rgba(60, 64, 67, 0.3), 0px 1px 3px 1px rgba(60, 64, 67, 0.15);\n",
       "      fill: #174EA6;\n",
       "    }\n",
       "\n",
       "    [theme=dark] .colab-df-convert {\n",
       "      background-color: #3B4455;\n",
       "      fill: #D2E3FC;\n",
       "    }\n",
       "\n",
       "    [theme=dark] .colab-df-convert:hover {\n",
       "      background-color: #434B5C;\n",
       "      box-shadow: 0px 1px 3px 1px rgba(0, 0, 0, 0.15);\n",
       "      filter: drop-shadow(0px 1px 2px rgba(0, 0, 0, 0.3));\n",
       "      fill: #FFFFFF;\n",
       "    }\n",
       "  </style>\n",
       "\n",
       "      <script>\n",
       "        const buttonEl =\n",
       "          document.querySelector('#df-c393e808-fcf4-4df4-b33a-9dd623bd5721 button.colab-df-convert');\n",
       "        buttonEl.style.display =\n",
       "          google.colab.kernel.accessAllowed ? 'block' : 'none';\n",
       "\n",
       "        async function convertToInteractive(key) {\n",
       "          const element = document.querySelector('#df-c393e808-fcf4-4df4-b33a-9dd623bd5721');\n",
       "          const dataTable =\n",
       "            await google.colab.kernel.invokeFunction('convertToInteractive',\n",
       "                                                     [key], {});\n",
       "          if (!dataTable) return;\n",
       "\n",
       "          const docLinkHtml = 'Like what you see? Visit the ' +\n",
       "            '<a target=\"_blank\" href=https://colab.research.google.com/notebooks/data_table.ipynb>data table notebook</a>'\n",
       "            + ' to learn more about interactive tables.';\n",
       "          element.innerHTML = '';\n",
       "          dataTable['output_type'] = 'display_data';\n",
       "          await google.colab.output.renderOutput(dataTable, element);\n",
       "          const docLink = document.createElement('div');\n",
       "          docLink.innerHTML = docLinkHtml;\n",
       "          element.appendChild(docLink);\n",
       "        }\n",
       "      </script>\n",
       "    </div>\n",
       "  </div>\n",
       "  "
      ],
      "text/plain": [
       "  order_status  payment_sequential payment_type  payment_installments  \\\n",
       "0    delivered            0.000000  credit_card              0.041667   \n",
       "1    delivered            0.071429      voucher              0.041667   \n",
       "2    delivered            0.035714      voucher              0.041667   \n",
       "\n",
       "   payment_value  dev_time  \n",
       "0       0.035048  0.538462  \n",
       "1       0.003851  0.538462  \n",
       "2       0.035958  0.538462  "
      ]
     },
     "execution_count": 49,
     "metadata": {},
     "output_type": "execute_result"
    }
   ],
   "source": [
    "# Using normalisation for distribution that is not normal assumption \n",
    "\n",
    "norm_columns = ['payment_sequential','payment_installments','payment_value','dev_time']\n",
    "\n",
    "for i in norm_columns:\n",
    "    df_clust[i] = MinMaxScaler().fit_transform(df_clust[i].values.reshape(len(df_clust),1))\n",
    "    \n",
    "df_clust.head(3)"
   ]
  },
  {
   "cell_type": "markdown",
   "id": "ae11e069",
   "metadata": {
    "id": "ae11e069"
   },
   "source": [
    "***feature encoding***"
   ]
  },
  {
   "cell_type": "code",
   "execution_count": null,
   "id": "c9fa07ae",
   "metadata": {
    "colab": {
     "base_uri": "https://localhost:8080/",
     "height": 207
    },
    "id": "c9fa07ae",
    "outputId": "f8dec480-5cc3-4580-b32b-44abd19550eb"
   },
   "outputs": [
    {
     "data": {
      "text/html": [
       "\n",
       "  <div id=\"df-66f1751d-c29e-4557-b53b-988aff6442f0\">\n",
       "    <div class=\"colab-df-container\">\n",
       "      <div>\n",
       "<style scoped>\n",
       "    .dataframe tbody tr th:only-of-type {\n",
       "        vertical-align: middle;\n",
       "    }\n",
       "\n",
       "    .dataframe tbody tr th {\n",
       "        vertical-align: top;\n",
       "    }\n",
       "\n",
       "    .dataframe thead th {\n",
       "        text-align: right;\n",
       "    }\n",
       "</style>\n",
       "<table border=\"1\" class=\"dataframe\">\n",
       "  <thead>\n",
       "    <tr style=\"text-align: right;\">\n",
       "      <th></th>\n",
       "      <th>payment_sequential</th>\n",
       "      <th>payment_installments</th>\n",
       "      <th>payment_value</th>\n",
       "      <th>dev_time</th>\n",
       "      <th>order_status_approved</th>\n",
       "      <th>order_status_canceled</th>\n",
       "      <th>order_status_delivered</th>\n",
       "      <th>order_status_invoiced</th>\n",
       "      <th>order_status_processing</th>\n",
       "      <th>order_status_shipped</th>\n",
       "      <th>order_status_unavailable</th>\n",
       "      <th>payment_type_boleto</th>\n",
       "      <th>payment_type_credit_card</th>\n",
       "      <th>payment_type_debit_card</th>\n",
       "      <th>payment_type_voucher</th>\n",
       "    </tr>\n",
       "  </thead>\n",
       "  <tbody>\n",
       "    <tr>\n",
       "      <th>0</th>\n",
       "      <td>0.000000</td>\n",
       "      <td>0.041667</td>\n",
       "      <td>0.035048</td>\n",
       "      <td>0.538462</td>\n",
       "      <td>0</td>\n",
       "      <td>0</td>\n",
       "      <td>1</td>\n",
       "      <td>0</td>\n",
       "      <td>0</td>\n",
       "      <td>0</td>\n",
       "      <td>0</td>\n",
       "      <td>0</td>\n",
       "      <td>1</td>\n",
       "      <td>0</td>\n",
       "      <td>0</td>\n",
       "    </tr>\n",
       "    <tr>\n",
       "      <th>1</th>\n",
       "      <td>0.071429</td>\n",
       "      <td>0.041667</td>\n",
       "      <td>0.003851</td>\n",
       "      <td>0.538462</td>\n",
       "      <td>0</td>\n",
       "      <td>0</td>\n",
       "      <td>1</td>\n",
       "      <td>0</td>\n",
       "      <td>0</td>\n",
       "      <td>0</td>\n",
       "      <td>0</td>\n",
       "      <td>0</td>\n",
       "      <td>0</td>\n",
       "      <td>0</td>\n",
       "      <td>1</td>\n",
       "    </tr>\n",
       "    <tr>\n",
       "      <th>2</th>\n",
       "      <td>0.035714</td>\n",
       "      <td>0.041667</td>\n",
       "      <td>0.035958</td>\n",
       "      <td>0.538462</td>\n",
       "      <td>0</td>\n",
       "      <td>0</td>\n",
       "      <td>1</td>\n",
       "      <td>0</td>\n",
       "      <td>0</td>\n",
       "      <td>0</td>\n",
       "      <td>0</td>\n",
       "      <td>0</td>\n",
       "      <td>0</td>\n",
       "      <td>0</td>\n",
       "      <td>1</td>\n",
       "    </tr>\n",
       "  </tbody>\n",
       "</table>\n",
       "</div>\n",
       "      <button class=\"colab-df-convert\" onclick=\"convertToInteractive('df-66f1751d-c29e-4557-b53b-988aff6442f0')\"\n",
       "              title=\"Convert this dataframe to an interactive table.\"\n",
       "              style=\"display:none;\">\n",
       "        \n",
       "  <svg xmlns=\"http://www.w3.org/2000/svg\" height=\"24px\"viewBox=\"0 0 24 24\"\n",
       "       width=\"24px\">\n",
       "    <path d=\"M0 0h24v24H0V0z\" fill=\"none\"/>\n",
       "    <path d=\"M18.56 5.44l.94 2.06.94-2.06 2.06-.94-2.06-.94-.94-2.06-.94 2.06-2.06.94zm-11 1L8.5 8.5l.94-2.06 2.06-.94-2.06-.94L8.5 2.5l-.94 2.06-2.06.94zm10 10l.94 2.06.94-2.06 2.06-.94-2.06-.94-.94-2.06-.94 2.06-2.06.94z\"/><path d=\"M17.41 7.96l-1.37-1.37c-.4-.4-.92-.59-1.43-.59-.52 0-1.04.2-1.43.59L10.3 9.45l-7.72 7.72c-.78.78-.78 2.05 0 2.83L4 21.41c.39.39.9.59 1.41.59.51 0 1.02-.2 1.41-.59l7.78-7.78 2.81-2.81c.8-.78.8-2.07 0-2.86zM5.41 20L4 18.59l7.72-7.72 1.47 1.35L5.41 20z\"/>\n",
       "  </svg>\n",
       "      </button>\n",
       "      \n",
       "  <style>\n",
       "    .colab-df-container {\n",
       "      display:flex;\n",
       "      flex-wrap:wrap;\n",
       "      gap: 12px;\n",
       "    }\n",
       "\n",
       "    .colab-df-convert {\n",
       "      background-color: #E8F0FE;\n",
       "      border: none;\n",
       "      border-radius: 50%;\n",
       "      cursor: pointer;\n",
       "      display: none;\n",
       "      fill: #1967D2;\n",
       "      height: 32px;\n",
       "      padding: 0 0 0 0;\n",
       "      width: 32px;\n",
       "    }\n",
       "\n",
       "    .colab-df-convert:hover {\n",
       "      background-color: #E2EBFA;\n",
       "      box-shadow: 0px 1px 2px rgba(60, 64, 67, 0.3), 0px 1px 3px 1px rgba(60, 64, 67, 0.15);\n",
       "      fill: #174EA6;\n",
       "    }\n",
       "\n",
       "    [theme=dark] .colab-df-convert {\n",
       "      background-color: #3B4455;\n",
       "      fill: #D2E3FC;\n",
       "    }\n",
       "\n",
       "    [theme=dark] .colab-df-convert:hover {\n",
       "      background-color: #434B5C;\n",
       "      box-shadow: 0px 1px 3px 1px rgba(0, 0, 0, 0.15);\n",
       "      filter: drop-shadow(0px 1px 2px rgba(0, 0, 0, 0.3));\n",
       "      fill: #FFFFFF;\n",
       "    }\n",
       "  </style>\n",
       "\n",
       "      <script>\n",
       "        const buttonEl =\n",
       "          document.querySelector('#df-66f1751d-c29e-4557-b53b-988aff6442f0 button.colab-df-convert');\n",
       "        buttonEl.style.display =\n",
       "          google.colab.kernel.accessAllowed ? 'block' : 'none';\n",
       "\n",
       "        async function convertToInteractive(key) {\n",
       "          const element = document.querySelector('#df-66f1751d-c29e-4557-b53b-988aff6442f0');\n",
       "          const dataTable =\n",
       "            await google.colab.kernel.invokeFunction('convertToInteractive',\n",
       "                                                     [key], {});\n",
       "          if (!dataTable) return;\n",
       "\n",
       "          const docLinkHtml = 'Like what you see? Visit the ' +\n",
       "            '<a target=\"_blank\" href=https://colab.research.google.com/notebooks/data_table.ipynb>data table notebook</a>'\n",
       "            + ' to learn more about interactive tables.';\n",
       "          element.innerHTML = '';\n",
       "          dataTable['output_type'] = 'display_data';\n",
       "          await google.colab.output.renderOutput(dataTable, element);\n",
       "          const docLink = document.createElement('div');\n",
       "          docLink.innerHTML = docLinkHtml;\n",
       "          element.appendChild(docLink);\n",
       "        }\n",
       "      </script>\n",
       "    </div>\n",
       "  </div>\n",
       "  "
      ],
      "text/plain": [
       "   payment_sequential  payment_installments  payment_value  dev_time  \\\n",
       "0            0.000000              0.041667       0.035048  0.538462   \n",
       "1            0.071429              0.041667       0.003851  0.538462   \n",
       "2            0.035714              0.041667       0.035958  0.538462   \n",
       "\n",
       "   order_status_approved  order_status_canceled  order_status_delivered  \\\n",
       "0                      0                      0                       1   \n",
       "1                      0                      0                       1   \n",
       "2                      0                      0                       1   \n",
       "\n",
       "   order_status_invoiced  order_status_processing  order_status_shipped  \\\n",
       "0                      0                        0                     0   \n",
       "1                      0                        0                     0   \n",
       "2                      0                        0                     0   \n",
       "\n",
       "   order_status_unavailable  payment_type_boleto  payment_type_credit_card  \\\n",
       "0                         0                    0                         1   \n",
       "1                         0                    0                         0   \n",
       "2                         0                    0                         0   \n",
       "\n",
       "   payment_type_debit_card  payment_type_voucher  \n",
       "0                        0                     0  \n",
       "1                        0                     1  \n",
       "2                        0                     1  "
      ]
     },
     "execution_count": 50,
     "metadata": {},
     "output_type": "execute_result"
    }
   ],
   "source": [
    "# One-hot Encoding\n",
    "def onehot_encode(data, column):\n",
    "    dummies = pd.get_dummies(data[column], prefix=column)\n",
    "    data = pd.concat([data, dummies], axis=1)\n",
    "    data = data.drop(column, axis=1)\n",
    "    return data\n",
    "\n",
    "for column in ['order_status','payment_type']:\n",
    "    df_clust = onehot_encode(df_clust, column=column)\n",
    "        \n",
    "df_clust.head(3)"
   ]
  },
  {
   "cell_type": "markdown",
   "id": "3e06ea8b",
   "metadata": {
    "id": "3e06ea8b"
   },
   "source": [
    "***determine cluster number***"
   ]
  },
  {
   "cell_type": "markdown",
   "id": "274dd3c7",
   "metadata": {
    "id": "274dd3c7"
   },
   "source": [
    "*elbow method*"
   ]
  },
  {
   "cell_type": "code",
   "execution_count": null,
   "id": "27009b3b",
   "metadata": {
    "id": "27009b3b",
    "outputId": "ab76a5a0-b3e0-4414-8bbd-2fad22da7bda"
   },
   "outputs": [
    {
     "data": {
      "image/png": "[encoded data removed]",
      "text/plain": [
       "<Figure size 936x504 with 1 Axes>"
      ]
     },
     "metadata": {
      "needs_background": "light"
     },
     "output_type": "display_data"
    }
   ],
   "source": [
    "distortions = []\n",
    "K = range(2,11)\n",
    "for k in K:\n",
    "    kmeanModel = cluster.KMeans(n_clusters=k)\n",
    "    kmeanModel.fit(df_clust)\n",
    "    distortions.append(kmeanModel.inertia_)\n",
    "\n",
    "plt.figure(figsize=(13,7))\n",
    "plt.plot(K, distortions, 'bx-')\n",
    "plt.xlabel('k')\n",
    "plt.ylabel('Inertia')\n",
    "plt.title('The Elbow Method showing the optimal k')\n",
    "plt.show()"
   ]
  },
  {
   "cell_type": "markdown",
   "id": "1b14fcba",
   "metadata": {
    "id": "1b14fcba"
   },
   "source": [
    "*silhoutte analysis*"
   ]
  },
  {
   "cell_type": "code",
   "execution_count": null,
   "id": "c254fd83",
   "metadata": {
    "id": "c254fd83",
    "outputId": "ad71e2a4-ad8c-41b4-96c3-32ac2f359d6e"
   },
   "outputs": [
    {
     "name": "stdout",
     "output_type": "stream",
     "text": [
      "For n_clusters = 2 The average silhouette_score is : 0.6806948612401005\n",
      "For n_clusters = 3 The average silhouette_score is : 0.7649783740145232\n",
      "For n_clusters = 4 The average silhouette_score is : 0.8218820367610504\n",
      "For n_clusters = 5 The average silhouette_score is : 0.8359414379829428\n",
      "For n_clusters = 6 The average silhouette_score is : 0.8290002660600537\n",
      "For n_clusters = 7 The average silhouette_score is : 0.7015462222512767\n",
      "For n_clusters = 8 The average silhouette_score is : 0.5992611730121917\n",
      "For n_clusters = 9 The average silhouette_score is : 0.6101090589288654\n",
      "For n_clusters = 10 The average silhouette_score is : 0.6085047718015865\n"
     ]
    },
    {
     "data": {
      "image/png": "[encoded data removed]",
      "text/plain": [
       "<Figure size 1296x504 with 2 Axes>"
      ]
     },
     "metadata": {
      "needs_background": "light"
     },
     "output_type": "display_data"
    },
    {
     "data": {
      "image/png": "[encoded data removed]",
      "text/plain": [
       "<Figure size 1296x504 with 2 Axes>"
      ]
     },
     "metadata": {
      "needs_background": "light"
     },
     "output_type": "display_data"
    },
    {
     "data": {
      "image/png": "[encoded data removed]",
      "text/plain": [
       "<Figure size 1296x504 with 2 Axes>"
      ]
     },
     "metadata": {
      "needs_background": "light"
     },
     "output_type": "display_data"
    },
    {
     "data": {
      "image/png": "[encoded data removed]",
      "text/plain": [
       "<Figure size 1296x504 with 2 Axes>"
      ]
     },
     "metadata": {
      "needs_background": "light"
     },
     "output_type": "display_data"
    },
    {
     "data": {
      "image/png": "[encoded data removed]",
      "text/plain": [
       "<Figure size 1296x504 with 2 Axes>"
      ]
     },
     "metadata": {
      "needs_background": "light"
     },
     "output_type": "display_data"
    },
    {
     "data": {
      "image/png": "[encoded data removed]",
      "text/plain": [
       "<Figure size 1296x504 with 2 Axes>"
      ]
     },
     "metadata": {
      "needs_background": "light"
     },
     "output_type": "display_data"
    },
    {
     "data": {
      "image/png": "[encoded data removed]",
      "text/plain": [
       "<Figure size 1296x504 with 2 Axes>"
      ]
     },
     "metadata": {
      "needs_background": "light"
     },
     "output_type": "display_data"
    },
    {
     "data": {
      "image/png": "[encoded data removed]",
      "text/plain": [
       "<Figure size 1296x504 with 2 Axes>"
      ]
     },
     "metadata": {
      "needs_background": "light"
     },
     "output_type": "display_data"
    },
    {
     "data": {
      "image/png": "[encoded data removed]",
      "text/plain": [
       "<Figure size 1296x504 with 2 Axes>"
      ]
     },
     "metadata": {
      "needs_background": "light"
     },
     "output_type": "display_data"
    }
   ],
   "source": [
    "silhoutte_analysis(df_clust,list(range(2,11)))"
   ]
  },
  {
   "cell_type": "markdown",
   "id": "0a0d6098",
   "metadata": {
    "id": "0a0d6098"
   },
   "source": [
    "***create cluster***"
   ]
  },
  {
   "cell_type": "code",
   "execution_count": null,
   "id": "f1021b6d",
   "metadata": {
    "id": "f1021b6d"
   },
   "outputs": [],
   "source": [
    "df_clean['dev_time'] = (df_clean['order_estimated_delivery_date'] - df_clean['order_approved_at']).dt.days"
   ]
  },
  {
   "cell_type": "code",
   "execution_count": null,
   "id": "44242f1f",
   "metadata": {
    "colab": {
     "base_uri": "https://localhost:8080/",
     "height": 270
    },
    "id": "44242f1f",
    "outputId": "2aeee338-d455-4944-8248-c1425c0ed809"
   },
   "outputs": [
    {
     "data": {
      "text/html": [
       "\n",
       "  <div id=\"df-ab25d4d9-7392-4675-ab94-df9a8fe8a587\">\n",
       "    <div class=\"colab-df-container\">\n",
       "      <div>\n",
       "<style scoped>\n",
       "    .dataframe tbody tr th:only-of-type {\n",
       "        vertical-align: middle;\n",
       "    }\n",
       "\n",
       "    .dataframe tbody tr th {\n",
       "        vertical-align: top;\n",
       "    }\n",
       "\n",
       "    .dataframe thead th {\n",
       "        text-align: right;\n",
       "    }\n",
       "</style>\n",
       "<table border=\"1\" class=\"dataframe\">\n",
       "  <thead>\n",
       "    <tr style=\"text-align: right;\">\n",
       "      <th></th>\n",
       "      <th>order_id</th>\n",
       "      <th>order_status</th>\n",
       "      <th>order_approved_at</th>\n",
       "      <th>order_estimated_delivery_date</th>\n",
       "      <th>customer_state</th>\n",
       "      <th>payment_sequential</th>\n",
       "      <th>payment_type</th>\n",
       "      <th>payment_installments</th>\n",
       "      <th>payment_value</th>\n",
       "      <th>dev_time</th>\n",
       "      <th>cluster</th>\n",
       "    </tr>\n",
       "  </thead>\n",
       "  <tbody>\n",
       "    <tr>\n",
       "      <th>0</th>\n",
       "      <td>e481f51cbdc54678b7cc49136f2d6af7</td>\n",
       "      <td>delivered</td>\n",
       "      <td>2017-10-02 11:07:15</td>\n",
       "      <td>2017-10-18</td>\n",
       "      <td>SP</td>\n",
       "      <td>1.0</td>\n",
       "      <td>credit_card</td>\n",
       "      <td>1.0</td>\n",
       "      <td>18.12</td>\n",
       "      <td>15</td>\n",
       "      <td>0</td>\n",
       "    </tr>\n",
       "    <tr>\n",
       "      <th>1</th>\n",
       "      <td>e481f51cbdc54678b7cc49136f2d6af7</td>\n",
       "      <td>delivered</td>\n",
       "      <td>2017-10-02 11:07:15</td>\n",
       "      <td>2017-10-18</td>\n",
       "      <td>SP</td>\n",
       "      <td>3.0</td>\n",
       "      <td>voucher</td>\n",
       "      <td>1.0</td>\n",
       "      <td>2.00</td>\n",
       "      <td>15</td>\n",
       "      <td>2</td>\n",
       "    </tr>\n",
       "    <tr>\n",
       "      <th>2</th>\n",
       "      <td>e481f51cbdc54678b7cc49136f2d6af7</td>\n",
       "      <td>delivered</td>\n",
       "      <td>2017-10-02 11:07:15</td>\n",
       "      <td>2017-10-18</td>\n",
       "      <td>SP</td>\n",
       "      <td>2.0</td>\n",
       "      <td>voucher</td>\n",
       "      <td>1.0</td>\n",
       "      <td>18.59</td>\n",
       "      <td>15</td>\n",
       "      <td>2</td>\n",
       "    </tr>\n",
       "    <tr>\n",
       "      <th>3</th>\n",
       "      <td>53cdb2fc8bc7dce0b6741e2150273451</td>\n",
       "      <td>delivered</td>\n",
       "      <td>2018-07-26 03:24:27</td>\n",
       "      <td>2018-08-13</td>\n",
       "      <td>BA</td>\n",
       "      <td>1.0</td>\n",
       "      <td>boleto</td>\n",
       "      <td>1.0</td>\n",
       "      <td>141.46</td>\n",
       "      <td>17</td>\n",
       "      <td>1</td>\n",
       "    </tr>\n",
       "    <tr>\n",
       "      <th>4</th>\n",
       "      <td>47770eb9100c2d0c44946d9cf07ec65d</td>\n",
       "      <td>delivered</td>\n",
       "      <td>2018-08-08 08:55:23</td>\n",
       "      <td>2018-09-04</td>\n",
       "      <td>GO</td>\n",
       "      <td>1.0</td>\n",
       "      <td>credit_card</td>\n",
       "      <td>3.0</td>\n",
       "      <td>179.12</td>\n",
       "      <td>26</td>\n",
       "      <td>0</td>\n",
       "    </tr>\n",
       "  </tbody>\n",
       "</table>\n",
       "</div>\n",
       "      <button class=\"colab-df-convert\" onclick=\"convertToInteractive('df-ab25d4d9-7392-4675-ab94-df9a8fe8a587')\"\n",
       "              title=\"Convert this dataframe to an interactive table.\"\n",
       "              style=\"display:none;\">\n",
       "        \n",
       "  <svg xmlns=\"http://www.w3.org/2000/svg\" height=\"24px\"viewBox=\"0 0 24 24\"\n",
       "       width=\"24px\">\n",
       "    <path d=\"M0 0h24v24H0V0z\" fill=\"none\"/>\n",
       "    <path d=\"M18.56 5.44l.94 2.06.94-2.06 2.06-.94-2.06-.94-.94-2.06-.94 2.06-2.06.94zm-11 1L8.5 8.5l.94-2.06 2.06-.94-2.06-.94L8.5 2.5l-.94 2.06-2.06.94zm10 10l.94 2.06.94-2.06 2.06-.94-2.06-.94-.94-2.06-.94 2.06-2.06.94z\"/><path d=\"M17.41 7.96l-1.37-1.37c-.4-.4-.92-.59-1.43-.59-.52 0-1.04.2-1.43.59L10.3 9.45l-7.72 7.72c-.78.78-.78 2.05 0 2.83L4 21.41c.39.39.9.59 1.41.59.51 0 1.02-.2 1.41-.59l7.78-7.78 2.81-2.81c.8-.78.8-2.07 0-2.86zM5.41 20L4 18.59l7.72-7.72 1.47 1.35L5.41 20z\"/>\n",
       "  </svg>\n",
       "      </button>\n",
       "      \n",
       "  <style>\n",
       "    .colab-df-container {\n",
       "      display:flex;\n",
       "      flex-wrap:wrap;\n",
       "      gap: 12px;\n",
       "    }\n",
       "\n",
       "    .colab-df-convert {\n",
       "      background-color: #E8F0FE;\n",
       "      border: none;\n",
       "      border-radius: 50%;\n",
       "      cursor: pointer;\n",
       "      display: none;\n",
       "      fill: #1967D2;\n",
       "      height: 32px;\n",
       "      padding: 0 0 0 0;\n",
       "      width: 32px;\n",
       "    }\n",
       "\n",
       "    .colab-df-convert:hover {\n",
       "      background-color: #E2EBFA;\n",
       "      box-shadow: 0px 1px 2px rgba(60, 64, 67, 0.3), 0px 1px 3px 1px rgba(60, 64, 67, 0.15);\n",
       "      fill: #174EA6;\n",
       "    }\n",
       "\n",
       "    [theme=dark] .colab-df-convert {\n",
       "      background-color: #3B4455;\n",
       "      fill: #D2E3FC;\n",
       "    }\n",
       "\n",
       "    [theme=dark] .colab-df-convert:hover {\n",
       "      background-color: #434B5C;\n",
       "      box-shadow: 0px 1px 3px 1px rgba(0, 0, 0, 0.15);\n",
       "      filter: drop-shadow(0px 1px 2px rgba(0, 0, 0, 0.3));\n",
       "      fill: #FFFFFF;\n",
       "    }\n",
       "  </style>\n",
       "\n",
       "      <script>\n",
       "        const buttonEl =\n",
       "          document.querySelector('#df-ab25d4d9-7392-4675-ab94-df9a8fe8a587 button.colab-df-convert');\n",
       "        buttonEl.style.display =\n",
       "          google.colab.kernel.accessAllowed ? 'block' : 'none';\n",
       "\n",
       "        async function convertToInteractive(key) {\n",
       "          const element = document.querySelector('#df-ab25d4d9-7392-4675-ab94-df9a8fe8a587');\n",
       "          const dataTable =\n",
       "            await google.colab.kernel.invokeFunction('convertToInteractive',\n",
       "                                                     [key], {});\n",
       "          if (!dataTable) return;\n",
       "\n",
       "          const docLinkHtml = 'Like what you see? Visit the ' +\n",
       "            '<a target=\"_blank\" href=https://colab.research.google.com/notebooks/data_table.ipynb>data table notebook</a>'\n",
       "            + ' to learn more about interactive tables.';\n",
       "          element.innerHTML = '';\n",
       "          dataTable['output_type'] = 'display_data';\n",
       "          await google.colab.output.renderOutput(dataTable, element);\n",
       "          const docLink = document.createElement('div');\n",
       "          docLink.innerHTML = docLinkHtml;\n",
       "          element.appendChild(docLink);\n",
       "        }\n",
       "      </script>\n",
       "    </div>\n",
       "  </div>\n",
       "  "
      ],
      "text/plain": [
       "                           order_id order_status   order_approved_at  \\\n",
       "0  e481f51cbdc54678b7cc49136f2d6af7    delivered 2017-10-02 11:07:15   \n",
       "1  e481f51cbdc54678b7cc49136f2d6af7    delivered 2017-10-02 11:07:15   \n",
       "2  e481f51cbdc54678b7cc49136f2d6af7    delivered 2017-10-02 11:07:15   \n",
       "3  53cdb2fc8bc7dce0b6741e2150273451    delivered 2018-07-26 03:24:27   \n",
       "4  47770eb9100c2d0c44946d9cf07ec65d    delivered 2018-08-08 08:55:23   \n",
       "\n",
       "  order_estimated_delivery_date customer_state  payment_sequential  \\\n",
       "0                    2017-10-18             SP                 1.0   \n",
       "1                    2017-10-18             SP                 3.0   \n",
       "2                    2017-10-18             SP                 2.0   \n",
       "3                    2018-08-13             BA                 1.0   \n",
       "4                    2018-09-04             GO                 1.0   \n",
       "\n",
       "  payment_type  payment_installments  payment_value  dev_time  cluster  \n",
       "0  credit_card                   1.0          18.12        15        0  \n",
       "1      voucher                   1.0           2.00        15        2  \n",
       "2      voucher                   1.0          18.59        15        2  \n",
       "3       boleto                   1.0         141.46        17        1  \n",
       "4  credit_card                   3.0         179.12        26        0  "
      ]
     },
     "execution_count": 52,
     "metadata": {},
     "output_type": "execute_result"
    }
   ],
   "source": [
    "cluster_model = cluster.KMeans(n_clusters=4, random_state=42)\n",
    "cluster_model.fit(df_clust)\n",
    "cluster_label = cluster_model.labels_\n",
    "df_clean['cluster'] = cluster_label\n",
    "\n",
    "df_clean.head()"
   ]
  },
  {
   "cell_type": "markdown",
   "id": "3d8a0cb9",
   "metadata": {
    "id": "3d8a0cb9"
   },
   "source": [
    "***check agg for each cluster***"
   ]
  },
  {
   "cell_type": "code",
   "execution_count": null,
   "id": "84bf09e5",
   "metadata": {
    "colab": {
     "base_uri": "https://localhost:8080/",
     "height": 865
    },
    "id": "84bf09e5",
    "outputId": "7a664165-55a1-4c2e-eef3-bb213f8f64c5"
   },
   "outputs": [
    {
     "data": {
      "text/html": [
       "\n",
       "  <div id=\"df-3cd22ea2-2bd0-445f-8db2-dbf3f7447c8c\">\n",
       "    <div class=\"colab-df-container\">\n",
       "      <div>\n",
       "<style scoped>\n",
       "    .dataframe tbody tr th:only-of-type {\n",
       "        vertical-align: middle;\n",
       "    }\n",
       "\n",
       "    .dataframe tbody tr th {\n",
       "        vertical-align: top;\n",
       "    }\n",
       "\n",
       "    .dataframe thead th {\n",
       "        text-align: right;\n",
       "    }\n",
       "</style>\n",
       "<table border=\"1\" class=\"dataframe\">\n",
       "  <thead>\n",
       "    <tr style=\"text-align: right;\">\n",
       "      <th></th>\n",
       "      <th></th>\n",
       "      <th></th>\n",
       "      <th>count</th>\n",
       "      <th>mean</th>\n",
       "      <th>median</th>\n",
       "      <th>max</th>\n",
       "      <th>min</th>\n",
       "    </tr>\n",
       "    <tr>\n",
       "      <th>cluster</th>\n",
       "      <th>order_status</th>\n",
       "      <th>payment_type</th>\n",
       "      <th></th>\n",
       "      <th></th>\n",
       "      <th></th>\n",
       "      <th></th>\n",
       "      <th></th>\n",
       "    </tr>\n",
       "  </thead>\n",
       "  <tbody>\n",
       "    <tr>\n",
       "      <th rowspan=\"7\" valign=\"top\">0</th>\n",
       "      <th>approved</th>\n",
       "      <th>credit_card</th>\n",
       "      <td>2</td>\n",
       "      <td>120.540000</td>\n",
       "      <td>120.540</td>\n",
       "      <td>179.46</td>\n",
       "      <td>61.62</td>\n",
       "    </tr>\n",
       "    <tr>\n",
       "      <th>canceled</th>\n",
       "      <th>credit_card</th>\n",
       "      <td>361</td>\n",
       "      <td>135.453518</td>\n",
       "      <td>103.270</td>\n",
       "      <td>516.10</td>\n",
       "      <td>0.33</td>\n",
       "    </tr>\n",
       "    <tr>\n",
       "      <th>delivered</th>\n",
       "      <th>credit_card</th>\n",
       "      <td>71434</td>\n",
       "      <td>128.150197</td>\n",
       "      <td>102.520</td>\n",
       "      <td>516.73</td>\n",
       "      <td>0.01</td>\n",
       "    </tr>\n",
       "    <tr>\n",
       "      <th>invoiced</th>\n",
       "      <th>credit_card</th>\n",
       "      <td>220</td>\n",
       "      <td>142.447545</td>\n",
       "      <td>113.440</td>\n",
       "      <td>504.64</td>\n",
       "      <td>1.02</td>\n",
       "    </tr>\n",
       "    <tr>\n",
       "      <th>processing</th>\n",
       "      <th>credit_card</th>\n",
       "      <td>201</td>\n",
       "      <td>163.223930</td>\n",
       "      <td>142.100</td>\n",
       "      <td>500.00</td>\n",
       "      <td>9.10</td>\n",
       "    </tr>\n",
       "    <tr>\n",
       "      <th>shipped</th>\n",
       "      <th>credit_card</th>\n",
       "      <td>803</td>\n",
       "      <td>129.495355</td>\n",
       "      <td>100.720</td>\n",
       "      <td>515.08</td>\n",
       "      <td>1.70</td>\n",
       "    </tr>\n",
       "    <tr>\n",
       "      <th>unavailable</th>\n",
       "      <th>credit_card</th>\n",
       "      <td>408</td>\n",
       "      <td>122.775196</td>\n",
       "      <td>94.165</td>\n",
       "      <td>516.32</td>\n",
       "      <td>0.07</td>\n",
       "    </tr>\n",
       "    <tr>\n",
       "      <th rowspan=\"6\" valign=\"top\">1</th>\n",
       "      <th>canceled</th>\n",
       "      <th>boleto</th>\n",
       "      <td>74</td>\n",
       "      <td>129.006892</td>\n",
       "      <td>90.370</td>\n",
       "      <td>464.64</td>\n",
       "      <td>20.23</td>\n",
       "    </tr>\n",
       "    <tr>\n",
       "      <th>delivered</th>\n",
       "      <th>boleto</th>\n",
       "      <td>18562</td>\n",
       "      <td>116.830870</td>\n",
       "      <td>90.135</td>\n",
       "      <td>515.93</td>\n",
       "      <td>11.62</td>\n",
       "    </tr>\n",
       "    <tr>\n",
       "      <th>invoiced</th>\n",
       "      <th>boleto</th>\n",
       "      <td>58</td>\n",
       "      <td>148.595345</td>\n",
       "      <td>112.535</td>\n",
       "      <td>475.96</td>\n",
       "      <td>28.22</td>\n",
       "    </tr>\n",
       "    <tr>\n",
       "      <th>processing</th>\n",
       "      <th>boleto</th>\n",
       "      <td>63</td>\n",
       "      <td>142.428571</td>\n",
       "      <td>120.990</td>\n",
       "      <td>405.54</td>\n",
       "      <td>26.00</td>\n",
       "    </tr>\n",
       "    <tr>\n",
       "      <th>shipped</th>\n",
       "      <th>boleto</th>\n",
       "      <td>206</td>\n",
       "      <td>107.783398</td>\n",
       "      <td>85.565</td>\n",
       "      <td>419.16</td>\n",
       "      <td>15.38</td>\n",
       "    </tr>\n",
       "    <tr>\n",
       "      <th>unavailable</th>\n",
       "      <th>boleto</th>\n",
       "      <td>143</td>\n",
       "      <td>125.067203</td>\n",
       "      <td>94.210</td>\n",
       "      <td>465.88</td>\n",
       "      <td>18.37</td>\n",
       "    </tr>\n",
       "    <tr>\n",
       "      <th rowspan=\"6\" valign=\"top\">2</th>\n",
       "      <th>canceled</th>\n",
       "      <th>voucher</th>\n",
       "      <td>28</td>\n",
       "      <td>57.602143</td>\n",
       "      <td>31.295</td>\n",
       "      <td>250.00</td>\n",
       "      <td>8.26</td>\n",
       "    </tr>\n",
       "    <tr>\n",
       "      <th>delivered</th>\n",
       "      <th>voucher</th>\n",
       "      <td>5458</td>\n",
       "      <td>58.045407</td>\n",
       "      <td>38.540</td>\n",
       "      <td>506.98</td>\n",
       "      <td>0.01</td>\n",
       "    </tr>\n",
       "    <tr>\n",
       "      <th>invoiced</th>\n",
       "      <th>voucher</th>\n",
       "      <td>12</td>\n",
       "      <td>98.617500</td>\n",
       "      <td>68.090</td>\n",
       "      <td>365.00</td>\n",
       "      <td>9.23</td>\n",
       "    </tr>\n",
       "    <tr>\n",
       "      <th>processing</th>\n",
       "      <th>voucher</th>\n",
       "      <td>23</td>\n",
       "      <td>43.676087</td>\n",
       "      <td>16.310</td>\n",
       "      <td>242.03</td>\n",
       "      <td>0.17</td>\n",
       "    </tr>\n",
       "    <tr>\n",
       "      <th>shipped</th>\n",
       "      <th>voucher</th>\n",
       "      <td>82</td>\n",
       "      <td>50.361707</td>\n",
       "      <td>34.270</td>\n",
       "      <td>314.31</td>\n",
       "      <td>0.28</td>\n",
       "    </tr>\n",
       "    <tr>\n",
       "      <th>unavailable</th>\n",
       "      <th>voucher</th>\n",
       "      <td>45</td>\n",
       "      <td>56.411111</td>\n",
       "      <td>25.000</td>\n",
       "      <td>331.69</td>\n",
       "      <td>4.74</td>\n",
       "    </tr>\n",
       "    <tr>\n",
       "      <th rowspan=\"6\" valign=\"top\">3</th>\n",
       "      <th>canceled</th>\n",
       "      <th>debit_card</th>\n",
       "      <td>6</td>\n",
       "      <td>51.091667</td>\n",
       "      <td>36.075</td>\n",
       "      <td>103.85</td>\n",
       "      <td>23.29</td>\n",
       "    </tr>\n",
       "    <tr>\n",
       "      <th>delivered</th>\n",
       "      <th>debit_card</th>\n",
       "      <td>1447</td>\n",
       "      <td>112.905135</td>\n",
       "      <td>87.320</td>\n",
       "      <td>514.52</td>\n",
       "      <td>13.38</td>\n",
       "    </tr>\n",
       "    <tr>\n",
       "      <th>invoiced</th>\n",
       "      <th>debit_card</th>\n",
       "      <td>5</td>\n",
       "      <td>86.562000</td>\n",
       "      <td>68.890</td>\n",
       "      <td>172.62</td>\n",
       "      <td>38.27</td>\n",
       "    </tr>\n",
       "    <tr>\n",
       "      <th>processing</th>\n",
       "      <th>debit_card</th>\n",
       "      <td>2</td>\n",
       "      <td>174.895000</td>\n",
       "      <td>174.895</td>\n",
       "      <td>261.97</td>\n",
       "      <td>87.82</td>\n",
       "    </tr>\n",
       "    <tr>\n",
       "      <th>shipped</th>\n",
       "      <th>debit_card</th>\n",
       "      <td>22</td>\n",
       "      <td>120.945455</td>\n",
       "      <td>73.005</td>\n",
       "      <td>449.49</td>\n",
       "      <td>27.70</td>\n",
       "    </tr>\n",
       "    <tr>\n",
       "      <th>unavailable</th>\n",
       "      <th>debit_card</th>\n",
       "      <td>5</td>\n",
       "      <td>103.148000</td>\n",
       "      <td>91.950</td>\n",
       "      <td>173.68</td>\n",
       "      <td>32.09</td>\n",
       "    </tr>\n",
       "  </tbody>\n",
       "</table>\n",
       "</div>\n",
       "      <button class=\"colab-df-convert\" onclick=\"convertToInteractive('df-3cd22ea2-2bd0-445f-8db2-dbf3f7447c8c')\"\n",
       "              title=\"Convert this dataframe to an interactive table.\"\n",
       "              style=\"display:none;\">\n",
       "        \n",
       "  <svg xmlns=\"http://www.w3.org/2000/svg\" height=\"24px\"viewBox=\"0 0 24 24\"\n",
       "       width=\"24px\">\n",
       "    <path d=\"M0 0h24v24H0V0z\" fill=\"none\"/>\n",
       "    <path d=\"M18.56 5.44l.94 2.06.94-2.06 2.06-.94-2.06-.94-.94-2.06-.94 2.06-2.06.94zm-11 1L8.5 8.5l.94-2.06 2.06-.94-2.06-.94L8.5 2.5l-.94 2.06-2.06.94zm10 10l.94 2.06.94-2.06 2.06-.94-2.06-.94-.94-2.06-.94 2.06-2.06.94z\"/><path d=\"M17.41 7.96l-1.37-1.37c-.4-.4-.92-.59-1.43-.59-.52 0-1.04.2-1.43.59L10.3 9.45l-7.72 7.72c-.78.78-.78 2.05 0 2.83L4 21.41c.39.39.9.59 1.41.59.51 0 1.02-.2 1.41-.59l7.78-7.78 2.81-2.81c.8-.78.8-2.07 0-2.86zM5.41 20L4 18.59l7.72-7.72 1.47 1.35L5.41 20z\"/>\n",
       "  </svg>\n",
       "      </button>\n",
       "      \n",
       "  <style>\n",
       "    .colab-df-container {\n",
       "      display:flex;\n",
       "      flex-wrap:wrap;\n",
       "      gap: 12px;\n",
       "    }\n",
       "\n",
       "    .colab-df-convert {\n",
       "      background-color: #E8F0FE;\n",
       "      border: none;\n",
       "      border-radius: 50%;\n",
       "      cursor: pointer;\n",
       "      display: none;\n",
       "      fill: #1967D2;\n",
       "      height: 32px;\n",
       "      padding: 0 0 0 0;\n",
       "      width: 32px;\n",
       "    }\n",
       "\n",
       "    .colab-df-convert:hover {\n",
       "      background-color: #E2EBFA;\n",
       "      box-shadow: 0px 1px 2px rgba(60, 64, 67, 0.3), 0px 1px 3px 1px rgba(60, 64, 67, 0.15);\n",
       "      fill: #174EA6;\n",
       "    }\n",
       "\n",
       "    [theme=dark] .colab-df-convert {\n",
       "      background-color: #3B4455;\n",
       "      fill: #D2E3FC;\n",
       "    }\n",
       "\n",
       "    [theme=dark] .colab-df-convert:hover {\n",
       "      background-color: #434B5C;\n",
       "      box-shadow: 0px 1px 3px 1px rgba(0, 0, 0, 0.15);\n",
       "      filter: drop-shadow(0px 1px 2px rgba(0, 0, 0, 0.3));\n",
       "      fill: #FFFFFF;\n",
       "    }\n",
       "  </style>\n",
       "\n",
       "      <script>\n",
       "        const buttonEl =\n",
       "          document.querySelector('#df-3cd22ea2-2bd0-445f-8db2-dbf3f7447c8c button.colab-df-convert');\n",
       "        buttonEl.style.display =\n",
       "          google.colab.kernel.accessAllowed ? 'block' : 'none';\n",
       "\n",
       "        async function convertToInteractive(key) {\n",
       "          const element = document.querySelector('#df-3cd22ea2-2bd0-445f-8db2-dbf3f7447c8c');\n",
       "          const dataTable =\n",
       "            await google.colab.kernel.invokeFunction('convertToInteractive',\n",
       "                                                     [key], {});\n",
       "          if (!dataTable) return;\n",
       "\n",
       "          const docLinkHtml = 'Like what you see? Visit the ' +\n",
       "            '<a target=\"_blank\" href=https://colab.research.google.com/notebooks/data_table.ipynb>data table notebook</a>'\n",
       "            + ' to learn more about interactive tables.';\n",
       "          element.innerHTML = '';\n",
       "          dataTable['output_type'] = 'display_data';\n",
       "          await google.colab.output.renderOutput(dataTable, element);\n",
       "          const docLink = document.createElement('div');\n",
       "          docLink.innerHTML = docLinkHtml;\n",
       "          element.appendChild(docLink);\n",
       "        }\n",
       "      </script>\n",
       "    </div>\n",
       "  </div>\n",
       "  "
      ],
      "text/plain": [
       "                                   count        mean   median     max    min\n",
       "cluster order_status payment_type                                           \n",
       "0       approved     credit_card       2  120.540000  120.540  179.46  61.62\n",
       "        canceled     credit_card     361  135.453518  103.270  516.10   0.33\n",
       "        delivered    credit_card   71434  128.150197  102.520  516.73   0.01\n",
       "        invoiced     credit_card     220  142.447545  113.440  504.64   1.02\n",
       "        processing   credit_card     201  163.223930  142.100  500.00   9.10\n",
       "        shipped      credit_card     803  129.495355  100.720  515.08   1.70\n",
       "        unavailable  credit_card     408  122.775196   94.165  516.32   0.07\n",
       "1       canceled     boleto           74  129.006892   90.370  464.64  20.23\n",
       "        delivered    boleto        18562  116.830870   90.135  515.93  11.62\n",
       "        invoiced     boleto           58  148.595345  112.535  475.96  28.22\n",
       "        processing   boleto           63  142.428571  120.990  405.54  26.00\n",
       "        shipped      boleto          206  107.783398   85.565  419.16  15.38\n",
       "        unavailable  boleto          143  125.067203   94.210  465.88  18.37\n",
       "2       canceled     voucher          28   57.602143   31.295  250.00   8.26\n",
       "        delivered    voucher        5458   58.045407   38.540  506.98   0.01\n",
       "        invoiced     voucher          12   98.617500   68.090  365.00   9.23\n",
       "        processing   voucher          23   43.676087   16.310  242.03   0.17\n",
       "        shipped      voucher          82   50.361707   34.270  314.31   0.28\n",
       "        unavailable  voucher          45   56.411111   25.000  331.69   4.74\n",
       "3       canceled     debit_card        6   51.091667   36.075  103.85  23.29\n",
       "        delivered    debit_card     1447  112.905135   87.320  514.52  13.38\n",
       "        invoiced     debit_card        5   86.562000   68.890  172.62  38.27\n",
       "        processing   debit_card        2  174.895000  174.895  261.97  87.82\n",
       "        shipped      debit_card       22  120.945455   73.005  449.49  27.70\n",
       "        unavailable  debit_card        5  103.148000   91.950  173.68  32.09"
      ]
     },
     "execution_count": 53,
     "metadata": {},
     "output_type": "execute_result"
    }
   ],
   "source": [
    "clust_payment_value = df_clean.groupby(['cluster','order_status','payment_type'])['payment_value'].agg(['count','mean','median','max','min'])\n",
    "clust_payment_value"
   ]
  },
  {
   "cell_type": "code",
   "execution_count": null,
   "id": "43db6bf9",
   "metadata": {
    "id": "43db6bf9",
    "scrolled": true
   },
   "outputs": [],
   "source": [
    "clust_payment_value = clust_payment_value.reset_index()"
   ]
  },
  {
   "cell_type": "code",
   "execution_count": null,
   "id": "b8515751",
   "metadata": {
    "colab": {
     "base_uri": "https://localhost:8080/"
    },
    "id": "b8515751",
    "outputId": "dc32c079-ed99-4328-9f13-1f750184d315"
   },
   "outputs": [
    {
     "data": {
      "text/plain": [
       "cluster\n",
       "0    73429\n",
       "1    19106\n",
       "2     5648\n",
       "3     1487\n",
       "Name: count, dtype: int64"
      ]
     },
     "execution_count": 55,
     "metadata": {},
     "output_type": "execute_result"
    }
   ],
   "source": [
    "# check the number of orders or the number of customers in each cluster\n",
    "clust_payment_value.groupby(['cluster'])['count'].sum()"
   ]
  },
  {
   "cell_type": "code",
   "execution_count": null,
   "id": "5e8a2705",
   "metadata": {
    "colab": {
     "base_uri": "https://localhost:8080/"
    },
    "id": "5e8a2705",
    "outputId": "1a2b04bd-30ea-4c50-b421-ca0ca24c7b8c"
   },
   "outputs": [
    {
     "data": {
      "text/plain": [
       "cluster\n",
       "0    110.965000\n",
       "1     98.967500\n",
       "2     35.584167\n",
       "3     88.689167\n",
       "Name: median, dtype: float64"
      ]
     },
     "execution_count": 56,
     "metadata": {},
     "output_type": "execute_result"
    }
   ],
   "source": [
    "# check the average of payment value spent by each cluster\n",
    "clust_payment_value.groupby(['cluster'])['median'].mean()"
   ]
  },
  {
   "cell_type": "markdown",
   "id": "092bbcba",
   "metadata": {
    "id": "092bbcba"
   },
   "source": [
    "***naming***"
   ]
  },
  {
   "cell_type": "markdown",
   "id": "10daeb92",
   "metadata": {
    "id": "10daeb92"
   },
   "source": [
    "- cluster 0: ***customers who often shop***\n",
    "    - all use credit card\n",
    "    - the largest number of customers and orders\n",
    "    - the highest spending customer\n",
    "- cluster 1 ***frugal customers***:\n",
    "    - all use boleto\n",
    "    - the second largest number of customers and orders\n",
    "    - the second highest spending customers\n",
    "- cluster 2: ***promotion seekers***\n",
    "    - all use vouchers\n",
    "    - the second smallest number of customers and orders\n",
    "    - the lowest spending customer\n",
    "- cluster 3: ***customers who shop only for essential products***\n",
    "    - all use debit card\n",
    "    - the smallest number of customers and orders\n",
    "    - the second lowest spending customers"
   ]
  },
  {
   "cell_type": "markdown",
   "id": "7c096fad",
   "metadata": {
    "id": "7c096fad"
   },
   "source": [
    "***business recommendation***"
   ]
  },
  {
   "cell_type": "markdown",
   "id": "857756bc",
   "metadata": {
    "id": "857756bc"
   },
   "source": [
    "- cluster 0: reward loyal customers\n",
    "- cluster 1: give more discounts\n",
    "- cluster 2: give more promo and vouchers\n",
    "- cluster 3: provide recommendations for products that are important and often sought after by customers here"
   ]
  }
 ],
 "metadata": {
  "colab": {
   "collapsed_sections": [],
   "name": "W6W7W8_nur_inna_alfianinda_intermediate.ipynb",
   "provenance": []
  },
  "kernelspec": {
   "display_name": "Python 3 (ipykernel)",
   "language": "python",
   "name": "python3"
  },
  "language_info": {
   "codemirror_mode": {
    "name": "ipython",
    "version": 3
   },
   "file_extension": ".py",
   "mimetype": "text/x-python",
   "name": "python",
   "nbconvert_exporter": "python",
   "pygments_lexer": "ipython3",
   "version": "3.8.10"
  }
 },
 "nbformat": 4,
 "nbformat_minor": 5
}
